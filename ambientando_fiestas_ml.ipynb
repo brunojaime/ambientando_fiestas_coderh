{
 "cells": [
  {
   "cell_type": "markdown",
   "metadata": {},
   "source": [
    "# Data Analysis and Data Science Notebook Ambientando Fiestas"
   ]
  },
  {
   "cell_type": "markdown",
   "metadata": {},
   "source": [
    "Este notebook está dedicado al análisis y exploración del conjunto de datos proporcionado mediante la extracción de información de la API de WooCommerce y SharePoints Lists. Su objetivo es aplicar metodologías de ciencia de datos para descubrir percepciones, tendencias y patrones que puedan informar los procesos de toma de decisiones."
   ]
  },
  {
   "cell_type": "code",
   "execution_count": 693,
   "metadata": {},
   "outputs": [],
   "source": [
    "import pandas as pd\n",
    "pd.set_option('display.max_columns', 5)\n",
    "import json\n",
    "import matplotlib.pyplot as plt\n",
    "import seaborn as sns"
   ]
  },
  {
   "cell_type": "markdown",
   "metadata": {},
   "source": [
    "## Contexto Comercial"
   ]
  },
  {
   "cell_type": "markdown",
   "metadata": {},
   "source": [
    "## Problema Comercial"
   ]
  },
  {
   "cell_type": "markdown",
   "metadata": {},
   "source": [
    "1) ¿Cuánto tiempo antes al día del evento reserva la gente?​\n",
    "2) Se requieren visualizar cantidad de fiestas por mes​\n",
    "3) ¿Cómo determino cuál es el momento que más gente necesito contratar?​\n",
    "4) ¿Cómo determinar cantidad de personal por zona​\n",
    "5) ¿La gente reincide con la organización? ¿Compra los mismos productos?​"
   ]
  },
  {
   "cell_type": "markdown",
   "metadata": {},
   "source": [
    "# 6) Data wrangling"
   ]
  },
  {
   "cell_type": "markdown",
   "metadata": {},
   "source": [
    "## Descargar los archivos .csv\n",
    "Obtenemos la información de dos archivos csv los cuales son importados desde dos fuentes de datos:\n",
    "- API WooCommerce -> e-commerce utilizado por la organización para realizar los pedidos.\n",
    "- API SharePoint -> Base de datos del sistema de gestión interno que permite hacer una trazabilidad de los eventos"
   ]
  },
  {
   "cell_type": "code",
   "execution_count": 694,
   "metadata": {},
   "outputs": [],
   "source": [
    "df_pedidos_wc =pd.read_csv('pedidos_wc.csv')\n",
    "df_pedidos_sh = pd.read_csv('pedidos_sh.csv')"
   ]
  },
  {
   "cell_type": "markdown",
   "metadata": {},
   "source": [
    "# Combinar los archivos​"
   ]
  },
  {
   "cell_type": "markdown",
   "metadata": {},
   "source": [
    "Unificamos los key de cada uno para poder realizar la combinación\n",
    "\n",
    "Combinamos los archivos de Sharepoint y WooCommerce para poder tener un dataset unificado y verificar el estado del dataset.\n"
   ]
  },
  {
   "cell_type": "code",
   "execution_count": 695,
   "metadata": {},
   "outputs": [
    {
     "name": "stdout",
     "output_type": "stream",
     "text": [
      "<class 'pandas.core.frame.DataFrame'>\n",
      "RangeIndex: 3617 entries, 0 to 3616\n",
      "Data columns (total 75 columns):\n",
      " #   Column                Non-Null Count  Dtype  \n",
      "---  ------                --------------  -----  \n",
      " 0   Title                 3617 non-null   int64  \n",
      " 1   parent_id             3617 non-null   int64  \n",
      " 2   status                3617 non-null   object \n",
      " 3   currency              3617 non-null   object \n",
      " 4   version               3617 non-null   object \n",
      " 5   prices_include_tax    3617 non-null   bool   \n",
      " 6   date_created          3617 non-null   object \n",
      " 7   date_modified         3617 non-null   object \n",
      " 8   discount_total        3617 non-null   int64  \n",
      " 9   discount_tax          3617 non-null   int64  \n",
      " 10  shipping_total        3617 non-null   int64  \n",
      " 11  shipping_tax          3617 non-null   int64  \n",
      " 12  cart_tax              3617 non-null   int64  \n",
      " 13  total                 3617 non-null   int64  \n",
      " 14  total_tax             3617 non-null   int64  \n",
      " 15  customer_id           3617 non-null   int64  \n",
      " 16  order_key             3617 non-null   object \n",
      " 17  billing               3617 non-null   object \n",
      " 18  shipping              3617 non-null   object \n",
      " 19  payment_method        3065 non-null   object \n",
      " 20  payment_method_title  3065 non-null   object \n",
      " 21  transaction_id        0 non-null      float64\n",
      " 22  customer_ip_address   1907 non-null   object \n",
      " 23  customer_user_agent   1906 non-null   object \n",
      " 24  created_via           3612 non-null   object \n",
      " 25  customer_note         2469 non-null   object \n",
      " 26  date_completed        535 non-null    object \n",
      " 27  date_paid             3098 non-null   object \n",
      " 28  cart_hash             1901 non-null   object \n",
      " 29  number                3617 non-null   int64  \n",
      " 30  meta_data             3617 non-null   object \n",
      " 31  line_items            3617 non-null   object \n",
      " 32  tax_lines             3617 non-null   object \n",
      " 33  shipping_lines        3617 non-null   object \n",
      " 34  fee_lines             3617 non-null   object \n",
      " 35  coupon_lines          3617 non-null   object \n",
      " 36  refunds               3617 non-null   object \n",
      " 37  payment_url           3617 non-null   object \n",
      " 38  is_editable           3617 non-null   bool   \n",
      " 39  needs_payment         3617 non-null   bool   \n",
      " 40  needs_processing      3617 non-null   bool   \n",
      " 41  date_created_gmt      3617 non-null   object \n",
      " 42  date_modified_gmt     3617 non-null   object \n",
      " 43  date_completed_gmt    535 non-null    object \n",
      " 44  date_paid_gmt         3098 non-null   object \n",
      " 45  currency_symbol       3617 non-null   object \n",
      " 46  _links                3617 non-null   object \n",
      " 47  first_name            3614 non-null   object \n",
      " 48  last_name             2357 non-null   object \n",
      " 49  company               1678 non-null   object \n",
      " 50  address_1             2248 non-null   object \n",
      " 51  address_2             452 non-null    object \n",
      " 52  city                  2231 non-null   object \n",
      " 53  state                 117 non-null    object \n",
      " 54  postcode              736 non-null    object \n",
      " 55  country               1818 non-null   object \n",
      " 56  email                 3604 non-null   object \n",
      " 57  phone                 3608 non-null   object \n",
      " 58  billing_first_name    1102 non-null   object \n",
      " 59  dni                   1103 non-null   object \n",
      " 60  Inicio_evento_wc      1100 non-null   object \n",
      " 61  billing_horario       1686 non-null   object \n",
      " 62  finalizacion          1101 non-null   object \n",
      " 63  billing_tematica      1606 non-null   object \n",
      " 64  billing_nombre        1566 non-null   object \n",
      " 65  billing_edad          1583 non-null   object \n",
      " 66  billing_lugar         1120 non-null   object \n",
      " 67  Estado                1864 non-null   object \n",
      " 68  Usuario               1862 non-null   object \n",
      " 69  Edad                  1864 non-null   float64\n",
      " 70  Tematica              1811 non-null   object \n",
      " 71  Inicio_evento         1864 non-null   object \n",
      " 72  Fin_evento            1855 non-null   object \n",
      " 73  Lugar                 1855 non-null   object \n",
      " 74  Created               1864 non-null   object \n",
      "dtypes: bool(4), float64(2), int64(11), object(58)\n",
      "memory usage: 2.0+ MB\n"
     ]
    }
   ],
   "source": [
    "df_pedidos_wc = df_pedidos_wc.rename(columns={\"id\":\"Title\"})\n",
    "df_pedidos_sh['Title'] = df_pedidos_sh['Title'].astype(int)\n",
    "df_pedidos_wc_sh = pd.merge(df_pedidos_wc,df_pedidos_sh,left_on='Title',right_on='Title',how='left')\n",
    "df_pedidos_wc_sh.info()"
   ]
  },
  {
   "cell_type": "code",
   "execution_count": 696,
   "metadata": {},
   "outputs": [
    {
     "name": "stdout",
     "output_type": "stream",
     "text": [
      "Total registros: 3617\n",
      "Fecha creación primer pedido: ['2022-02-10T18:02:36']\n",
      "Fecha creación primer pedido: ['2024-06-12T18:25:46']\n"
     ]
    }
   ],
   "source": [
    "print(f\"Total registros: {len(df_pedidos_wc_sh['Title'].values)}\")\n",
    "print(f\"Fecha creación primer pedido: {df_pedidos_wc_sh['date_created'].sort_values()[:1].values}\")\n",
    "print(f\"Fecha creación primer pedido: {df_pedidos_wc_sh['date_created'].sort_values(ascending=False)[:1].values}\")"
   ]
  },
  {
   "cell_type": "markdown",
   "metadata": {},
   "source": [
    "# Limpieza de datos"
   ]
  },
  {
   "cell_type": "markdown",
   "metadata": {},
   "source": [
    "### Eliminar columnas innecesarias\n",
    "Empezamos removiendo las columnas que sabemos que no nos van a aportar información"
   ]
  },
  {
   "cell_type": "code",
   "execution_count": 697,
   "metadata": {},
   "outputs": [
    {
     "data": {
      "text/html": [
       "<div>\n",
       "<style scoped>\n",
       "    .dataframe tbody tr th:only-of-type {\n",
       "        vertical-align: middle;\n",
       "    }\n",
       "\n",
       "    .dataframe tbody tr th {\n",
       "        vertical-align: top;\n",
       "    }\n",
       "\n",
       "    .dataframe thead th {\n",
       "        text-align: right;\n",
       "    }\n",
       "</style>\n",
       "<table border=\"1\" class=\"dataframe\">\n",
       "  <thead>\n",
       "    <tr style=\"text-align: right;\">\n",
       "      <th></th>\n",
       "      <th>Title</th>\n",
       "      <th>status</th>\n",
       "      <th>...</th>\n",
       "      <th>Lugar</th>\n",
       "      <th>Created</th>\n",
       "    </tr>\n",
       "  </thead>\n",
       "  <tbody>\n",
       "    <tr>\n",
       "      <th>0</th>\n",
       "      <td>10008</td>\n",
       "      <td>on-hold</td>\n",
       "      <td>...</td>\n",
       "      <td>NaN</td>\n",
       "      <td>NaN</td>\n",
       "    </tr>\n",
       "    <tr>\n",
       "      <th>1</th>\n",
       "      <td>10007</td>\n",
       "      <td>processing</td>\n",
       "      <td>...</td>\n",
       "      <td>NaN</td>\n",
       "      <td>2024-06-12T13:38:48Z</td>\n",
       "    </tr>\n",
       "    <tr>\n",
       "      <th>2</th>\n",
       "      <td>10005</td>\n",
       "      <td>processing</td>\n",
       "      <td>...</td>\n",
       "      <td>Quinta</td>\n",
       "      <td>2024-06-12T11:08:16Z</td>\n",
       "    </tr>\n",
       "    <tr>\n",
       "      <th>3</th>\n",
       "      <td>10004</td>\n",
       "      <td>processing</td>\n",
       "      <td>...</td>\n",
       "      <td>NaN</td>\n",
       "      <td>2024-06-12T12:57:09Z</td>\n",
       "    </tr>\n",
       "    <tr>\n",
       "      <th>4</th>\n",
       "      <td>10002</td>\n",
       "      <td>processing</td>\n",
       "      <td>...</td>\n",
       "      <td>Casa</td>\n",
       "      <td>2024-06-11T21:35:13Z</td>\n",
       "    </tr>\n",
       "  </tbody>\n",
       "</table>\n",
       "<p>5 rows × 34 columns</p>\n",
       "</div>"
      ],
      "text/plain": [
       "   Title      status  ...   Lugar               Created\n",
       "0  10008     on-hold  ...     NaN                   NaN\n",
       "1  10007  processing  ...     NaN  2024-06-12T13:38:48Z\n",
       "2  10005  processing  ...  Quinta  2024-06-12T11:08:16Z\n",
       "3  10004  processing  ...     NaN  2024-06-12T12:57:09Z\n",
       "4  10002  processing  ...    Casa  2024-06-11T21:35:13Z\n",
       "\n",
       "[5 rows x 34 columns]"
      ]
     },
     "execution_count": 697,
     "metadata": {},
     "output_type": "execute_result"
    }
   ],
   "source": [
    "columns_drop_customer = ['customer_id','customer_ip_address','parent_id','first_name','last_name','company','country','email','phone','billing_first_name','dni','Usuario']\n",
    "columns_drop_ship_tax = ['shipping','shipping_total','shipping_tax','cart_tax','total_tax','prices_include_tax','shipping_tax','discount_tax','prices_include_tax','currency','tax_lines','shipping_lines','coupon_lines','refunds','billing','needs_payment']\n",
    "columns_drop_pedido = ['version','order_key','discount_total','transaction_id','customer_user_agent','cart_hash','number','payment_url','is_editable','needs_processing','_links','line_items','fee_lines']\n",
    "columns_drop_dates = ['date_completed','meta_data']\n",
    "drop_columns=[]\n",
    "drop_columns = columns_drop_customer + columns_drop_ship_tax  + columns_drop_pedido + columns_drop_dates\n",
    "df_pedidos_wc_sh = df_pedidos_wc_sh.drop(columns=drop_columns,axis=1)\n",
    "df_pedidos_wc_sh.head()"
   ]
  },
  {
   "cell_type": "markdown",
   "metadata": {},
   "source": [
    "### Detección de valores erróneos\n",
    "Hay una serie de estados que no vamos a utilizar ya que se tratan de pedidos que no aportan información a los eventos según nos dijeron desde la organización.\n",
    "Primero vamos a ver todos los estados"
   ]
  },
  {
   "cell_type": "code",
   "execution_count": 698,
   "metadata": {},
   "outputs": [
    {
     "data": {
      "text/plain": [
       "array(['on-hold', 'processing', 'cancelled', 'pending', 'presencial',\n",
       "       'failed', 'refunded', 'pasteleria', 'completed', 'inflable',\n",
       "       'confirmado', '427contenidodig', 'retiro', 'jesica-silva'],\n",
       "      dtype=object)"
      ]
     },
     "execution_count": 698,
     "metadata": {},
     "output_type": "execute_result"
    }
   ],
   "source": [
    "df_pedidos_wc_sh['status'].unique()"
   ]
  },
  {
   "cell_type": "code",
   "execution_count": 699,
   "metadata": {},
   "outputs": [
    {
     "data": {
      "text/plain": [
       "status\n",
       "427contenidodig      22\n",
       "cancelled           167\n",
       "completed           190\n",
       "confirmado          967\n",
       "failed              100\n",
       "inflable             62\n",
       "jesica-silva          1\n",
       "on-hold              27\n",
       "pasteleria           34\n",
       "pending               3\n",
       "presencial           22\n",
       "processing         1869\n",
       "refunded            141\n",
       "retiro               12\n",
       "Name: status, dtype: int64"
      ]
     },
     "execution_count": 699,
     "metadata": {},
     "output_type": "execute_result"
    }
   ],
   "source": [
    "df_pedidos_wc_sh.groupby(['status'])['status'].count()"
   ]
  },
  {
   "cell_type": "markdown",
   "metadata": {},
   "source": [
    "Los que vamos a sacar luego de conversar con la organización son:\n",
    "- presencial \n",
    "- jesica-silva"
   ]
  },
  {
   "cell_type": "code",
   "execution_count": 700,
   "metadata": {},
   "outputs": [],
   "source": [
    "status_a_eliminar = ['jesica-silva','presencial']\n",
    "df_pedidos_wc_sh = df_pedidos_wc_sh[~df_pedidos_wc_sh['status'].isin(status_a_eliminar)]"
   ]
  },
  {
   "cell_type": "markdown",
   "metadata": {},
   "source": [
    "### Conversión de datos correspondientes en campos de fecha​"
   ]
  },
  {
   "cell_type": "code",
   "execution_count": 701,
   "metadata": {},
   "outputs": [],
   "source": [
    "columns_to_convert = ['date_created', 'date_modified',  'date_paid','Inicio_evento', 'Fin_evento','Created']\n",
    "df_pedidos_wc_sh[columns_to_convert] = df_pedidos_wc_sh[columns_to_convert].apply(pd.to_datetime,utc=True)"
   ]
  },
  {
   "cell_type": "code",
   "execution_count": 702,
   "metadata": {},
   "outputs": [],
   "source": [
    "df_pedidos_wc_sh = df_pedidos_wc_sh.rename({'Inicio_evento':'Inicio_evento_wc'})\n",
    "\n",
    "df_pedidos_wc_sh['Inicio_evento_merge'] = df_pedidos_wc_sh['Inicio_evento_wc'].combine_first(df_pedidos_wc_sh['Inicio_evento'])\n",
    "#Eliminamos los Inicios de eventos sin combinar\n",
    "df_pedidos_wc_sh = df_pedidos_wc_sh.drop(columns=['Inicio_evento','Inicio_evento_wc'],axis=1)\n",
    "df_pedidos_wc_sh= df_pedidos_wc_sh.rename(columns={\"Inicio_evento_merge\":\"Inicio_evento\"})\n",
    "df_pedidos_wc_sh = df_pedidos_wc_sh.set_index('Title')"
   ]
  },
  {
   "cell_type": "code",
   "execution_count": 703,
   "metadata": {},
   "outputs": [
    {
     "name": "stdout",
     "output_type": "stream",
     "text": [
      "<class 'pandas.core.frame.DataFrame'>\n",
      "Index: 3594 entries, 10008 to 2253\n",
      "Data columns (total 32 columns):\n",
      " #   Column                Non-Null Count  Dtype              \n",
      "---  ------                --------------  -----              \n",
      " 0   status                3594 non-null   object             \n",
      " 1   date_created          3594 non-null   datetime64[ns, UTC]\n",
      " 2   date_modified         3594 non-null   datetime64[ns, UTC]\n",
      " 3   total                 3594 non-null   int64              \n",
      " 4   payment_method        3046 non-null   object             \n",
      " 5   payment_method_title  3046 non-null   object             \n",
      " 6   created_via           3589 non-null   object             \n",
      " 7   customer_note         2465 non-null   object             \n",
      " 8   date_paid             3078 non-null   datetime64[ns, UTC]\n",
      " 9   date_created_gmt      3594 non-null   object             \n",
      " 10  date_modified_gmt     3594 non-null   object             \n",
      " 11  date_completed_gmt    534 non-null    object             \n",
      " 12  date_paid_gmt         3078 non-null   object             \n",
      " 13  currency_symbol       3594 non-null   object             \n",
      " 14  address_1             2233 non-null   object             \n",
      " 15  address_2             446 non-null    object             \n",
      " 16  city                  2216 non-null   object             \n",
      " 17  state                 117 non-null    object             \n",
      " 18  postcode              725 non-null    object             \n",
      " 19  billing_horario       1673 non-null   object             \n",
      " 20  finalizacion          1097 non-null   object             \n",
      " 21  billing_tematica      1600 non-null   object             \n",
      " 22  billing_nombre        1565 non-null   object             \n",
      " 23  billing_edad          1579 non-null   object             \n",
      " 24  billing_lugar         1116 non-null   object             \n",
      " 25  Estado                1864 non-null   object             \n",
      " 26  Edad                  1864 non-null   float64            \n",
      " 27  Tematica              1811 non-null   object             \n",
      " 28  Fin_evento            1855 non-null   datetime64[ns, UTC]\n",
      " 29  Lugar                 1855 non-null   object             \n",
      " 30  Created               1864 non-null   datetime64[ns, UTC]\n",
      " 31  Inicio_evento         2110 non-null   object             \n",
      "dtypes: datetime64[ns, UTC](5), float64(1), int64(1), object(25)\n",
      "memory usage: 926.6+ KB\n"
     ]
    }
   ],
   "source": [
    "df_pedidos_wc_sh.info()"
   ]
  },
  {
   "cell_type": "markdown",
   "metadata": {},
   "source": [
    "# 7) Resolución problemas de negocio​  "
   ]
  },
  {
   "cell_type": "markdown",
   "metadata": {},
   "source": [
    "## ¿Cuánto tiempo antes al día del evento reserva la gente?"
   ]
  },
  {
   "cell_type": "markdown",
   "metadata": {},
   "source": [
    "## Datos faltantes de fecha del inicio del evento"
   ]
  },
  {
   "cell_type": "markdown",
   "metadata": {},
   "source": [
    "Generamos una función que nos devuelva información acerca de los datos faltantes"
   ]
  },
  {
   "cell_type": "code",
   "execution_count": 704,
   "metadata": {},
   "outputs": [],
   "source": [
    "def missing_values_info(df,column_name):\n",
    "    total_values = df.shape[0]\n",
    "    total_missing_values = df[df[column_name].isna()].shape[0]\n",
    "    perc_missing_values = format(total_missing_values / total_values * 100, \".2f\")\n",
    "    print(f\"Pedidos sin dato de fecha del evento -> {total_missing_values} de {total_values} - ({perc_missing_values} %)\")"
   ]
  },
  {
   "cell_type": "code",
   "execution_count": 705,
   "metadata": {},
   "outputs": [
    {
     "name": "stdout",
     "output_type": "stream",
     "text": [
      "Pedidos sin dato de fecha del evento -> 1484 de 3594 - (41.29 %)\n"
     ]
    }
   ],
   "source": [
    "missing_values_info(df_pedidos_wc_sh,'Inicio_evento')"
   ]
  },
  {
   "cell_type": "code",
   "execution_count": 706,
   "metadata": {},
   "outputs": [
    {
     "data": {
      "text/html": [
       "<div>\n",
       "<style scoped>\n",
       "    .dataframe tbody tr th:only-of-type {\n",
       "        vertical-align: middle;\n",
       "    }\n",
       "\n",
       "    .dataframe tbody tr th {\n",
       "        vertical-align: top;\n",
       "    }\n",
       "\n",
       "    .dataframe thead th {\n",
       "        text-align: right;\n",
       "    }\n",
       "</style>\n",
       "<table border=\"1\" class=\"dataframe\">\n",
       "  <thead>\n",
       "    <tr style=\"text-align: right;\">\n",
       "      <th></th>\n",
       "      <th>status</th>\n",
       "      <th>date_created</th>\n",
       "      <th>...</th>\n",
       "      <th>Created</th>\n",
       "      <th>Inicio_evento</th>\n",
       "    </tr>\n",
       "    <tr>\n",
       "      <th>Title</th>\n",
       "      <th></th>\n",
       "      <th></th>\n",
       "      <th></th>\n",
       "      <th></th>\n",
       "      <th></th>\n",
       "    </tr>\n",
       "  </thead>\n",
       "  <tbody>\n",
       "    <tr>\n",
       "      <th>9986</th>\n",
       "      <td>cancelled</td>\n",
       "      <td>2024-06-09 15:32:40+00:00</td>\n",
       "      <td>...</td>\n",
       "      <td>NaT</td>\n",
       "      <td>NaT</td>\n",
       "    </tr>\n",
       "    <tr>\n",
       "      <th>9985</th>\n",
       "      <td>cancelled</td>\n",
       "      <td>2024-06-09 15:12:47+00:00</td>\n",
       "      <td>...</td>\n",
       "      <td>NaT</td>\n",
       "      <td>NaT</td>\n",
       "    </tr>\n",
       "    <tr>\n",
       "      <th>9984</th>\n",
       "      <td>pending</td>\n",
       "      <td>2024-06-09 14:56:14+00:00</td>\n",
       "      <td>...</td>\n",
       "      <td>NaT</td>\n",
       "      <td>NaT</td>\n",
       "    </tr>\n",
       "    <tr>\n",
       "      <th>9741</th>\n",
       "      <td>cancelled</td>\n",
       "      <td>2024-05-14 16:40:06+00:00</td>\n",
       "      <td>...</td>\n",
       "      <td>NaT</td>\n",
       "      <td>NaT</td>\n",
       "    </tr>\n",
       "    <tr>\n",
       "      <th>9738</th>\n",
       "      <td>cancelled</td>\n",
       "      <td>2024-05-14 16:15:39+00:00</td>\n",
       "      <td>...</td>\n",
       "      <td>NaT</td>\n",
       "      <td>NaT</td>\n",
       "    </tr>\n",
       "    <tr>\n",
       "      <th>...</th>\n",
       "      <td>...</td>\n",
       "      <td>...</td>\n",
       "      <td>...</td>\n",
       "      <td>...</td>\n",
       "      <td>...</td>\n",
       "    </tr>\n",
       "    <tr>\n",
       "      <th>2562</th>\n",
       "      <td>completed</td>\n",
       "      <td>2022-02-22 13:32:40+00:00</td>\n",
       "      <td>...</td>\n",
       "      <td>NaT</td>\n",
       "      <td>NaT</td>\n",
       "    </tr>\n",
       "    <tr>\n",
       "      <th>2492</th>\n",
       "      <td>completed</td>\n",
       "      <td>2022-02-16 13:59:53+00:00</td>\n",
       "      <td>...</td>\n",
       "      <td>NaT</td>\n",
       "      <td>NaT</td>\n",
       "    </tr>\n",
       "    <tr>\n",
       "      <th>2414</th>\n",
       "      <td>completed</td>\n",
       "      <td>2022-02-15 15:11:52+00:00</td>\n",
       "      <td>...</td>\n",
       "      <td>NaT</td>\n",
       "      <td>NaT</td>\n",
       "    </tr>\n",
       "    <tr>\n",
       "      <th>2288</th>\n",
       "      <td>completed</td>\n",
       "      <td>2022-02-11 16:55:21+00:00</td>\n",
       "      <td>...</td>\n",
       "      <td>NaT</td>\n",
       "      <td>NaT</td>\n",
       "    </tr>\n",
       "    <tr>\n",
       "      <th>2253</th>\n",
       "      <td>completed</td>\n",
       "      <td>2022-02-10 18:02:36+00:00</td>\n",
       "      <td>...</td>\n",
       "      <td>NaT</td>\n",
       "      <td>NaT</td>\n",
       "    </tr>\n",
       "  </tbody>\n",
       "</table>\n",
       "<p>1484 rows × 32 columns</p>\n",
       "</div>"
      ],
      "text/plain": [
       "          status              date_created  ... Created  Inicio_evento\n",
       "Title                                       ...                       \n",
       "9986   cancelled 2024-06-09 15:32:40+00:00  ...     NaT            NaT\n",
       "9985   cancelled 2024-06-09 15:12:47+00:00  ...     NaT            NaT\n",
       "9984     pending 2024-06-09 14:56:14+00:00  ...     NaT            NaT\n",
       "9741   cancelled 2024-05-14 16:40:06+00:00  ...     NaT            NaT\n",
       "9738   cancelled 2024-05-14 16:15:39+00:00  ...     NaT            NaT\n",
       "...          ...                       ...  ...     ...            ...\n",
       "2562   completed 2022-02-22 13:32:40+00:00  ...     NaT            NaT\n",
       "2492   completed 2022-02-16 13:59:53+00:00  ...     NaT            NaT\n",
       "2414   completed 2022-02-15 15:11:52+00:00  ...     NaT            NaT\n",
       "2288   completed 2022-02-11 16:55:21+00:00  ...     NaT            NaT\n",
       "2253   completed 2022-02-10 18:02:36+00:00  ...     NaT            NaT\n",
       "\n",
       "[1484 rows x 32 columns]"
      ]
     },
     "execution_count": 706,
     "metadata": {},
     "output_type": "execute_result"
    }
   ],
   "source": [
    "df_pedidos_wc_sh[df_pedidos_wc_sh['Inicio_evento'].isna()]"
   ]
  },
  {
   "cell_type": "markdown",
   "metadata": {},
   "source": [
    "## Eventos sin fecha de inicio"
   ]
  },
  {
   "cell_type": "markdown",
   "metadata": {},
   "source": [
    "- ¿Por qué tenemos eventos que no tienen dato de fecha?\n",
    "\n",
    "Filtramos los datos donde no hay dato del evento para entender la razón y agrupamos por la fecha en que fueron creados"
   ]
  },
  {
   "cell_type": "code",
   "execution_count": 707,
   "metadata": {},
   "outputs": [
    {
     "name": "stderr",
     "output_type": "stream",
     "text": [
      "/tmp/ipykernel_43421/2265077564.py:9: UserWarning: Converting to PeriodArray/Index representation will drop timezone information.\n",
      "  df_pedidos_con_o_sin_fecha_evento['mes'] = df_pedidos_con_o_sin_fecha_evento['date_created'].dt.to_period('M')\n"
     ]
    },
    {
     "data": {
      "image/png": "[encoded data removed]",
      "text/plain": [
       "<Figure size 2000x800 with 1 Axes>"
      ]
     },
     "metadata": {},
     "output_type": "display_data"
    }
   ],
   "source": [
    "import pandas as pd\n",
    "import matplotlib.pyplot as plt\n",
    "\n",
    "fig,ax = plt.subplots(figsize=(20,8))\n",
    "df_pedidos_wc_sh[columns_to_convert].apply(pd.to_datetime,utc=True)\n",
    "df_pedidos_con_o_sin_fecha_evento = df_pedidos_wc_sh.copy()\n",
    "df_pedidos_con_o_sin_fecha_evento['tiene_fecha_del_evento'] = df_pedidos_con_o_sin_fecha_evento['Inicio_evento'].notna()\n",
    "\n",
    "df_pedidos_con_o_sin_fecha_evento['mes'] = df_pedidos_con_o_sin_fecha_evento['date_created'].dt.to_period('M')\n",
    "\n",
    "conteo_mes_estado_fecha = df_pedidos_con_o_sin_fecha_evento.groupby(['mes','tiene_fecha_del_evento']).size().unstack(fill_value=0)\n",
    "\n",
    "\n",
    "# Graficar\n",
    "conteo_mes_estado_fecha.plot(kind='bar',ax=ax,color=['orange','lightgreen'])\n",
    "ax.set_title(\"Cantidad pedidos con fecha del evento según fecha de carga\")\n",
    "ax.set_xlabel(\"Fecha\")\n",
    "ax.set_ylabel(\"Cantidad\")\n",
    "plt.show()"
   ]
  },
  {
   "cell_type": "markdown",
   "metadata": {},
   "source": [
    "### Conclusión faltantes de dato de fecha del evento\n",
    "Podemos ver que los eventos cargados previo al 2023-08 tienen muchos eventos sin fecha del evento.\n",
    "El sistema interno (App gestión interna​) comenzó a estar en funcionamiento durante ese mes. Y es a partir de esta fecha en la que casi todos los eventos tienen carga correspondiente."
   ]
  },
  {
   "cell_type": "markdown",
   "metadata": {},
   "source": [
    "Para obtener las fechas del evento vamos a realizar los siguientes filtros:\n",
    "- Eventos donde no esté el dato de Inicio_evento\n",
    "- Eventos donde hay una nota del cliente (customer note). En este campo podemos encontrar información de la fecha del evento"
   ]
  },
  {
   "cell_type": "code",
   "execution_count": 708,
   "metadata": {},
   "outputs": [
    {
     "data": {
      "text/plain": [
       "Title\n",
       "9986    Rufina \\r\\nSábado 3/8\\r\\n3 años \\r\\n15 a 18 hs...\n",
       "9985    Nombre de la homenajeada: Catia\\r\\n.       Cua...\n",
       "9984    Datos del evento:28 de junio\\r\\n•\\tNombre de d...\n",
       "9458    Nombre de del homenajeado: Juan Martín Bilski\\...\n",
       "9403    Cuantos años cumple: 1 año\\r\\n•\\tFecha 21/04\\r...\n",
       "                              ...                        \n",
       "2704          Agregar panel lateral: tematica La sirenita\n",
       "2635    Montaje infantil encanto con flores de globos ...\n",
       "2573       Montaje infantil premium animales de la selva.\n",
       "2563    temática elefante con globo aerostatico como e...\n",
       "2492                                   la granja de zenon\n",
       "Name: customer_note, Length: 1100, dtype: object"
      ]
     },
     "execution_count": 708,
     "metadata": {},
     "output_type": "execute_result"
    }
   ],
   "source": [
    "df_pedidos_fecha_evento = df_pedidos_wc_sh[(df_pedidos_wc_sh['Inicio_evento'].isna())  & (df_pedidos_wc_sh['customer_note'].notna())]\n",
    "df_pedidos_fecha_evento['customer_note']"
   ]
  },
  {
   "cell_type": "markdown",
   "metadata": {},
   "source": [
    "## Obtención de datos de fecha del customer note\n",
    "Aplicamos regex para poder encontrar los datos de fecha.\n",
    "- El patrón que se puede ver es:\n",
    "    - 28 de junio ({nro_dia} de {nombre_mes})\n",
    "    - 10/08/2024\n",
    "    - 16 marzo ({nro_dia} {nombre_mes})\n",
    "    - 26.11.23 ({nro_dia}.{nro_mes}.{nro_año})\n",
    "    "
   ]
  },
  {
   "cell_type": "code",
   "execution_count": 709,
   "metadata": {},
   "outputs": [],
   "source": [
    "pattern = r'\\b(\\d{1,2} de [a-zA-Z]+(?!\\s*HS)|\\d{1,2}(?:/\\d{1,2})?/\\d{2,4}|\\d{1,2}\\.\\d{1,2}\\.\\d{2,4})\\b'\n",
    "# Extraer fechas usando el patrón regex\n",
    "df_pedidos_wc_sh['fecha'] = df_pedidos_wc_sh['customer_note'].str.extract(pattern)"
   ]
  },
  {
   "cell_type": "code",
   "execution_count": 710,
   "metadata": {},
   "outputs": [
    {
     "name": "stdout",
     "output_type": "stream",
     "text": [
      "Fechas encontradas con regex: 1433\n",
      "Fechas NO encontradas con regex: 2161\n"
     ]
    }
   ],
   "source": [
    "print(f\"Fechas encontradas con regex: {df_pedidos_wc_sh['fecha'].notna().sum()}\")\n",
    "print(f\"Fechas NO encontradas con regex: {df_pedidos_wc_sh['fecha'].isna().sum()}\")"
   ]
  },
  {
   "cell_type": "code",
   "execution_count": 711,
   "metadata": {},
   "outputs": [],
   "source": [
    "def evaluar_fecha_correcta(data):\n",
    "    try: \n",
    "        return pd.to_datetime(data, errors='coerce')\n",
    "    except:\n",
    "        return pd.NaT"
   ]
  },
  {
   "cell_type": "code",
   "execution_count": 712,
   "metadata": {},
   "outputs": [
    {
     "name": "stderr",
     "output_type": "stream",
     "text": [
      "/tmp/ipykernel_43421/4075736083.py:3: UserWarning: Parsing dates in %d/%m/%Y format when dayfirst=False (the default) was specified. Pass `dayfirst=True` or specify a format to silence this warning.\n",
      "  return pd.to_datetime(data, errors='coerce')\n",
      "/tmp/ipykernel_43421/4075736083.py:3: UserWarning: Parsing dates in %d.%m.%Y format when dayfirst=False (the default) was specified. Pass `dayfirst=True` or specify a format to silence this warning.\n",
      "  return pd.to_datetime(data, errors='coerce')\n"
     ]
    }
   ],
   "source": [
    "df_pedidos_wc_sh['fecha_complete'] = df_pedidos_wc_sh['fecha'].apply(evaluar_fecha_correcta)"
   ]
  },
  {
   "cell_type": "code",
   "execution_count": 713,
   "metadata": {},
   "outputs": [
    {
     "data": {
      "text/plain": [
       "<DatetimeArray>\n",
       "[                'NaT', '2024-06-07 00:00:00', '2024-10-27 00:00:00',\n",
       " '2024-10-08 00:00:00', '2024-06-30 00:00:00', '2024-08-06 00:00:00',\n",
       " '2024-06-29 00:00:00', '2024-10-06 00:00:00', '2024-03-11 00:00:00',\n",
       " '2024-08-31 00:00:00',\n",
       " ...\n",
       " '2022-11-06 00:00:00', '2022-05-06 00:00:00', '2022-04-06 00:00:00',\n",
       " '2022-10-07 00:00:00', '2022-04-19 00:00:00', '2022-05-22 00:00:00',\n",
       " '2022-05-25 00:00:00', '2022-08-05 00:00:00', '2022-08-14 00:00:00',\n",
       " '2022-09-07 00:00:00']\n",
       "Length: 319, dtype: datetime64[ns]"
      ]
     },
     "execution_count": 713,
     "metadata": {},
     "output_type": "execute_result"
    }
   ],
   "source": [
    "df_pedidos_wc_sh['fecha_complete'].unique()"
   ]
  },
  {
   "cell_type": "markdown",
   "metadata": {},
   "source": [
    "Completamos la columnas inicio_evento con las fechas recuperadas"
   ]
  },
  {
   "cell_type": "code",
   "execution_count": 714,
   "metadata": {},
   "outputs": [],
   "source": [
    "df_pedidos_wc_sh.reset_index(drop=True, inplace=True)\n",
    "df_pedidos_wc_sh.loc[df_pedidos_wc_sh['Inicio_evento'].isna(), 'Inicio_evento'] = df_pedidos_wc_sh['fecha_complete']"
   ]
  },
  {
   "cell_type": "code",
   "execution_count": 715,
   "metadata": {},
   "outputs": [
    {
     "name": "stdout",
     "output_type": "stream",
     "text": [
      "Pedidos sin dato de fecha del evento -> 1226 de 3594 - (34.11 %)\n"
     ]
    }
   ],
   "source": [
    "missing_values_info(df_pedidos_wc_sh,'Inicio_evento')"
   ]
  },
  {
   "cell_type": "code",
   "execution_count": 716,
   "metadata": {},
   "outputs": [
    {
     "data": {
      "text/html": [
       "<div>\n",
       "<style scoped>\n",
       "    .dataframe tbody tr th:only-of-type {\n",
       "        vertical-align: middle;\n",
       "    }\n",
       "\n",
       "    .dataframe tbody tr th {\n",
       "        vertical-align: top;\n",
       "    }\n",
       "\n",
       "    .dataframe thead th {\n",
       "        text-align: right;\n",
       "    }\n",
       "</style>\n",
       "<table border=\"1\" class=\"dataframe\">\n",
       "  <thead>\n",
       "    <tr style=\"text-align: right;\">\n",
       "      <th></th>\n",
       "      <th>status</th>\n",
       "      <th>date_created</th>\n",
       "      <th>...</th>\n",
       "      <th>fecha</th>\n",
       "      <th>fecha_complete</th>\n",
       "    </tr>\n",
       "  </thead>\n",
       "  <tbody>\n",
       "    <tr>\n",
       "      <th>0</th>\n",
       "      <td>on-hold</td>\n",
       "      <td>2024-06-12 18:25:46+00:00</td>\n",
       "      <td>...</td>\n",
       "      <td>NaN</td>\n",
       "      <td>NaT</td>\n",
       "    </tr>\n",
       "    <tr>\n",
       "      <th>1</th>\n",
       "      <td>processing</td>\n",
       "      <td>2024-06-12 13:35:45+00:00</td>\n",
       "      <td>...</td>\n",
       "      <td>NaN</td>\n",
       "      <td>NaT</td>\n",
       "    </tr>\n",
       "    <tr>\n",
       "      <th>2</th>\n",
       "      <td>processing</td>\n",
       "      <td>2024-06-12 11:06:33+00:00</td>\n",
       "      <td>...</td>\n",
       "      <td>NaN</td>\n",
       "      <td>NaT</td>\n",
       "    </tr>\n",
       "    <tr>\n",
       "      <th>3</th>\n",
       "      <td>processing</td>\n",
       "      <td>2024-06-11 23:35:50+00:00</td>\n",
       "      <td>...</td>\n",
       "      <td>7 de septiembre</td>\n",
       "      <td>NaT</td>\n",
       "    </tr>\n",
       "    <tr>\n",
       "      <th>4</th>\n",
       "      <td>processing</td>\n",
       "      <td>2024-06-11 17:35:37+00:00</td>\n",
       "      <td>...</td>\n",
       "      <td>10 de agosto</td>\n",
       "      <td>NaT</td>\n",
       "    </tr>\n",
       "    <tr>\n",
       "      <th>...</th>\n",
       "      <td>...</td>\n",
       "      <td>...</td>\n",
       "      <td>...</td>\n",
       "      <td>...</td>\n",
       "      <td>...</td>\n",
       "    </tr>\n",
       "    <tr>\n",
       "      <th>3589</th>\n",
       "      <td>completed</td>\n",
       "      <td>2022-02-22 13:32:40+00:00</td>\n",
       "      <td>...</td>\n",
       "      <td>NaN</td>\n",
       "      <td>NaT</td>\n",
       "    </tr>\n",
       "    <tr>\n",
       "      <th>3590</th>\n",
       "      <td>completed</td>\n",
       "      <td>2022-02-16 13:59:53+00:00</td>\n",
       "      <td>...</td>\n",
       "      <td>NaN</td>\n",
       "      <td>NaT</td>\n",
       "    </tr>\n",
       "    <tr>\n",
       "      <th>3591</th>\n",
       "      <td>completed</td>\n",
       "      <td>2022-02-15 15:11:52+00:00</td>\n",
       "      <td>...</td>\n",
       "      <td>NaN</td>\n",
       "      <td>NaT</td>\n",
       "    </tr>\n",
       "    <tr>\n",
       "      <th>3592</th>\n",
       "      <td>completed</td>\n",
       "      <td>2022-02-11 16:55:21+00:00</td>\n",
       "      <td>...</td>\n",
       "      <td>NaN</td>\n",
       "      <td>NaT</td>\n",
       "    </tr>\n",
       "    <tr>\n",
       "      <th>3593</th>\n",
       "      <td>completed</td>\n",
       "      <td>2022-02-10 18:02:36+00:00</td>\n",
       "      <td>...</td>\n",
       "      <td>NaN</td>\n",
       "      <td>NaT</td>\n",
       "    </tr>\n",
       "  </tbody>\n",
       "</table>\n",
       "<p>2998 rows × 34 columns</p>\n",
       "</div>"
      ],
      "text/plain": [
       "          status              date_created  ...            fecha  \\\n",
       "0        on-hold 2024-06-12 18:25:46+00:00  ...              NaN   \n",
       "1     processing 2024-06-12 13:35:45+00:00  ...              NaN   \n",
       "2     processing 2024-06-12 11:06:33+00:00  ...              NaN   \n",
       "3     processing 2024-06-11 23:35:50+00:00  ...  7 de septiembre   \n",
       "4     processing 2024-06-11 17:35:37+00:00  ...     10 de agosto   \n",
       "...          ...                       ...  ...              ...   \n",
       "3589   completed 2022-02-22 13:32:40+00:00  ...              NaN   \n",
       "3590   completed 2022-02-16 13:59:53+00:00  ...              NaN   \n",
       "3591   completed 2022-02-15 15:11:52+00:00  ...              NaN   \n",
       "3592   completed 2022-02-11 16:55:21+00:00  ...              NaN   \n",
       "3593   completed 2022-02-10 18:02:36+00:00  ...              NaN   \n",
       "\n",
       "      fecha_complete  \n",
       "0                NaT  \n",
       "1                NaT  \n",
       "2                NaT  \n",
       "3                NaT  \n",
       "4                NaT  \n",
       "...              ...  \n",
       "3589             NaT  \n",
       "3590             NaT  \n",
       "3591             NaT  \n",
       "3592             NaT  \n",
       "3593             NaT  \n",
       "\n",
       "[2998 rows x 34 columns]"
      ]
     },
     "execution_count": 716,
     "metadata": {},
     "output_type": "execute_result"
    }
   ],
   "source": [
    "df_pedidos_wc_sh[df_pedidos_wc_sh['fecha_complete'].isna()]"
   ]
  },
  {
   "cell_type": "markdown",
   "metadata": {},
   "source": [
    "### Convertimos en inglés las fechas para poder agregarle el año"
   ]
  },
  {
   "cell_type": "code",
   "execution_count": 717,
   "metadata": {},
   "outputs": [],
   "source": [
    "def convertir_fecha(fecha):\n",
    "    meses = {\n",
    "        'enero': 'jan', 'febrero': 'feb', 'marzo': 'mar', 'abril': 'apr',\n",
    "        'mayo': 'May', 'junio': 'jun', 'julio': 'Jul', 'agosto': 'aug',\n",
    "        'septiembre': 'sep', 'octubre': 'oct', 'noviembre': 'Nov', 'diciembre': 'dec'\n",
    "    }\n",
    "  \n",
    "    try:\n",
    "        fecha = fecha.lower()\n",
    "        dia, de, mes = fecha.split()\n",
    "        if de=='de':\n",
    "            mes_ingles = meses[mes]\n",
    "\n",
    "            fecha_ingles = f\"{mes_ingles} {dia}\"\n",
    "    \n",
    "            return fecha_ingles\n",
    "\n",
    "            \n",
    "        else:\n",
    "            return fecha\n",
    "    except:\n",
    "        return fecha"
   ]
  },
  {
   "cell_type": "code",
   "execution_count": 718,
   "metadata": {},
   "outputs": [],
   "source": [
    "df_pedidos_wc_sh['fecha'] = df_pedidos_wc_sh['fecha'].apply(convertir_fecha)"
   ]
  },
  {
   "cell_type": "markdown",
   "metadata": {},
   "source": [
    "## Funcion que agrega el año\n",
    "\n",
    "- Hay dos formas:\n",
    "    - {nro_mes} / {nro_anio}\n",
    "    - {name_mes} {nro_dia}"
   ]
  },
  {
   "cell_type": "code",
   "execution_count": 726,
   "metadata": {},
   "outputs": [],
   "source": [
    "def agregar_ultimo_caracter(data):\n",
    "    try:\n",
    "        if \"/\" in data:\n",
    "            return data + \"/\"\n",
    "        else:\n",
    "            return data + \" \"\n",
    "    except:\n",
    "        return data"
   ]
  },
  {
   "cell_type": "code",
   "execution_count": 727,
   "metadata": {},
   "outputs": [],
   "source": [
    "df_pedidos_wc_sh['fecha'] = df_pedidos_wc_sh['fecha'].apply(agregar_ultimo_caracter)"
   ]
  },
  {
   "cell_type": "code",
   "execution_count": 728,
   "metadata": {},
   "outputs": [
    {
     "data": {
      "text/html": [
       "<div>\n",
       "<style scoped>\n",
       "    .dataframe tbody tr th:only-of-type {\n",
       "        vertical-align: middle;\n",
       "    }\n",
       "\n",
       "    .dataframe tbody tr th {\n",
       "        vertical-align: top;\n",
       "    }\n",
       "\n",
       "    .dataframe thead th {\n",
       "        text-align: right;\n",
       "    }\n",
       "</style>\n",
       "<table border=\"1\" class=\"dataframe\">\n",
       "  <thead>\n",
       "    <tr style=\"text-align: right;\">\n",
       "      <th></th>\n",
       "      <th>status</th>\n",
       "      <th>date_created</th>\n",
       "      <th>...</th>\n",
       "      <th>fecha_complete</th>\n",
       "      <th>anio_evento_temp</th>\n",
       "    </tr>\n",
       "  </thead>\n",
       "  <tbody>\n",
       "    <tr>\n",
       "      <th>0</th>\n",
       "      <td>on-hold</td>\n",
       "      <td>2024-06-12 18:25:46+00:00</td>\n",
       "      <td>...</td>\n",
       "      <td>NaT</td>\n",
       "      <td>2024</td>\n",
       "    </tr>\n",
       "    <tr>\n",
       "      <th>1</th>\n",
       "      <td>processing</td>\n",
       "      <td>2024-06-12 13:35:45+00:00</td>\n",
       "      <td>...</td>\n",
       "      <td>NaT</td>\n",
       "      <td>2024</td>\n",
       "    </tr>\n",
       "    <tr>\n",
       "      <th>2</th>\n",
       "      <td>processing</td>\n",
       "      <td>2024-06-12 11:06:33+00:00</td>\n",
       "      <td>...</td>\n",
       "      <td>NaT</td>\n",
       "      <td>2024</td>\n",
       "    </tr>\n",
       "    <tr>\n",
       "      <th>3</th>\n",
       "      <td>processing</td>\n",
       "      <td>2024-06-11 23:35:50+00:00</td>\n",
       "      <td>...</td>\n",
       "      <td>2024-09-07</td>\n",
       "      <td>2024</td>\n",
       "    </tr>\n",
       "    <tr>\n",
       "      <th>4</th>\n",
       "      <td>processing</td>\n",
       "      <td>2024-06-11 17:35:37+00:00</td>\n",
       "      <td>...</td>\n",
       "      <td>2024-08-10</td>\n",
       "      <td>2024</td>\n",
       "    </tr>\n",
       "    <tr>\n",
       "      <th>...</th>\n",
       "      <td>...</td>\n",
       "      <td>...</td>\n",
       "      <td>...</td>\n",
       "      <td>...</td>\n",
       "      <td>...</td>\n",
       "    </tr>\n",
       "    <tr>\n",
       "      <th>3589</th>\n",
       "      <td>completed</td>\n",
       "      <td>2022-02-22 13:32:40+00:00</td>\n",
       "      <td>...</td>\n",
       "      <td>NaT</td>\n",
       "      <td>2022</td>\n",
       "    </tr>\n",
       "    <tr>\n",
       "      <th>3590</th>\n",
       "      <td>completed</td>\n",
       "      <td>2022-02-16 13:59:53+00:00</td>\n",
       "      <td>...</td>\n",
       "      <td>NaT</td>\n",
       "      <td>2022</td>\n",
       "    </tr>\n",
       "    <tr>\n",
       "      <th>3591</th>\n",
       "      <td>completed</td>\n",
       "      <td>2022-02-15 15:11:52+00:00</td>\n",
       "      <td>...</td>\n",
       "      <td>NaT</td>\n",
       "      <td>2022</td>\n",
       "    </tr>\n",
       "    <tr>\n",
       "      <th>3592</th>\n",
       "      <td>completed</td>\n",
       "      <td>2022-02-11 16:55:21+00:00</td>\n",
       "      <td>...</td>\n",
       "      <td>NaT</td>\n",
       "      <td>2022</td>\n",
       "    </tr>\n",
       "    <tr>\n",
       "      <th>3593</th>\n",
       "      <td>completed</td>\n",
       "      <td>2022-02-10 18:02:36+00:00</td>\n",
       "      <td>...</td>\n",
       "      <td>NaT</td>\n",
       "      <td>2022</td>\n",
       "    </tr>\n",
       "  </tbody>\n",
       "</table>\n",
       "<p>3594 rows × 35 columns</p>\n",
       "</div>"
      ],
      "text/plain": [
       "          status              date_created  ... fecha_complete  \\\n",
       "0        on-hold 2024-06-12 18:25:46+00:00  ...            NaT   \n",
       "1     processing 2024-06-12 13:35:45+00:00  ...            NaT   \n",
       "2     processing 2024-06-12 11:06:33+00:00  ...            NaT   \n",
       "3     processing 2024-06-11 23:35:50+00:00  ...     2024-09-07   \n",
       "4     processing 2024-06-11 17:35:37+00:00  ...     2024-08-10   \n",
       "...          ...                       ...  ...            ...   \n",
       "3589   completed 2022-02-22 13:32:40+00:00  ...            NaT   \n",
       "3590   completed 2022-02-16 13:59:53+00:00  ...            NaT   \n",
       "3591   completed 2022-02-15 15:11:52+00:00  ...            NaT   \n",
       "3592   completed 2022-02-11 16:55:21+00:00  ...            NaT   \n",
       "3593   completed 2022-02-10 18:02:36+00:00  ...            NaT   \n",
       "\n",
       "      anio_evento_temp  \n",
       "0                 2024  \n",
       "1                 2024  \n",
       "2                 2024  \n",
       "3                 2024  \n",
       "4                 2024  \n",
       "...                ...  \n",
       "3589              2022  \n",
       "3590              2022  \n",
       "3591              2022  \n",
       "3592              2022  \n",
       "3593              2022  \n",
       "\n",
       "[3594 rows x 35 columns]"
      ]
     },
     "execution_count": 728,
     "metadata": {},
     "output_type": "execute_result"
    }
   ],
   "source": [
    "df_pedidos_wc_sh['anio_evento_temp'] = (df_pedidos_wc_sh['date_created'].dt.year).astype(str)\n",
    "df_pedidos_wc_sh['fecha'] = df_pedidos_wc_sh['fecha'].str.cat(df_pedidos_wc_sh['anio_evento_temp'], sep='')\n",
    "\n",
    "df_pedidos_wc_sh"
   ]
  },
  {
   "cell_type": "code",
   "execution_count": 729,
   "metadata": {},
   "outputs": [
    {
     "name": "stderr",
     "output_type": "stream",
     "text": [
      "/tmp/ipykernel_43421/4075736083.py:3: UserWarning: Parsing dates in %d/%m/%H%M/%Y format when dayfirst=False (the default) was specified. Pass `dayfirst=True` or specify a format to silence this warning.\n",
      "  return pd.to_datetime(data, errors='coerce')\n"
     ]
    }
   ],
   "source": [
    "df_pedidos_wc_sh['fecha_complete'] = df_pedidos_wc_sh['fecha'].apply(evaluar_fecha_correcta)"
   ]
  },
  {
   "cell_type": "code",
   "execution_count": 730,
   "metadata": {},
   "outputs": [],
   "source": [
    "df_pedidos_wc_sh.reset_index(drop=True, inplace=True)\n",
    "df_pedidos_wc_sh.loc[df_pedidos_wc_sh['Inicio_evento'].isna(), 'Inicio_evento'] = df_pedidos_wc_sh['fecha_complete']"
   ]
  },
  {
   "cell_type": "code",
   "execution_count": 731,
   "metadata": {},
   "outputs": [
    {
     "name": "stdout",
     "output_type": "stream",
     "text": [
      "Pedidos sin dato de fecha del evento -> 839 de 3594 - (23.34 %)\n"
     ]
    }
   ],
   "source": [
    "missing_values_info(df_pedidos_wc_sh,'Inicio_evento')"
   ]
  },
  {
   "cell_type": "code",
   "execution_count": 732,
   "metadata": {},
   "outputs": [
    {
     "data": {
      "text/html": [
       "<div>\n",
       "<style scoped>\n",
       "    .dataframe tbody tr th:only-of-type {\n",
       "        vertical-align: middle;\n",
       "    }\n",
       "\n",
       "    .dataframe tbody tr th {\n",
       "        vertical-align: top;\n",
       "    }\n",
       "\n",
       "    .dataframe thead th {\n",
       "        text-align: right;\n",
       "    }\n",
       "</style>\n",
       "<table border=\"1\" class=\"dataframe\">\n",
       "  <thead>\n",
       "    <tr style=\"text-align: right;\">\n",
       "      <th></th>\n",
       "      <th>status</th>\n",
       "      <th>date_created</th>\n",
       "      <th>...</th>\n",
       "      <th>fecha_complete</th>\n",
       "      <th>anio_evento_temp</th>\n",
       "    </tr>\n",
       "  </thead>\n",
       "  <tbody>\n",
       "    <tr>\n",
       "      <th>0</th>\n",
       "      <td>on-hold</td>\n",
       "      <td>2024-06-12 18:25:46+00:00</td>\n",
       "      <td>...</td>\n",
       "      <td>NaT</td>\n",
       "      <td>2024</td>\n",
       "    </tr>\n",
       "    <tr>\n",
       "      <th>1</th>\n",
       "      <td>processing</td>\n",
       "      <td>2024-06-12 13:35:45+00:00</td>\n",
       "      <td>...</td>\n",
       "      <td>NaT</td>\n",
       "      <td>2024</td>\n",
       "    </tr>\n",
       "    <tr>\n",
       "      <th>2</th>\n",
       "      <td>processing</td>\n",
       "      <td>2024-06-12 11:06:33+00:00</td>\n",
       "      <td>...</td>\n",
       "      <td>NaT</td>\n",
       "      <td>2024</td>\n",
       "    </tr>\n",
       "    <tr>\n",
       "      <th>3</th>\n",
       "      <td>processing</td>\n",
       "      <td>2024-06-11 23:35:50+00:00</td>\n",
       "      <td>...</td>\n",
       "      <td>2024-09-07 20:24:00</td>\n",
       "      <td>2024</td>\n",
       "    </tr>\n",
       "    <tr>\n",
       "      <th>4</th>\n",
       "      <td>processing</td>\n",
       "      <td>2024-06-11 17:35:37+00:00</td>\n",
       "      <td>...</td>\n",
       "      <td>2024-08-10 20:24:00</td>\n",
       "      <td>2024</td>\n",
       "    </tr>\n",
       "    <tr>\n",
       "      <th>...</th>\n",
       "      <td>...</td>\n",
       "      <td>...</td>\n",
       "      <td>...</td>\n",
       "      <td>...</td>\n",
       "      <td>...</td>\n",
       "    </tr>\n",
       "    <tr>\n",
       "      <th>3566</th>\n",
       "      <td>completed</td>\n",
       "      <td>2022-03-29 16:28:50+00:00</td>\n",
       "      <td>...</td>\n",
       "      <td>2022-05-09 20:22:00</td>\n",
       "      <td>2022</td>\n",
       "    </tr>\n",
       "    <tr>\n",
       "      <th>3571</th>\n",
       "      <td>confirmado</td>\n",
       "      <td>2022-03-27 17:33:47+00:00</td>\n",
       "      <td>...</td>\n",
       "      <td>2022-07-08 20:22:00</td>\n",
       "      <td>2022</td>\n",
       "    </tr>\n",
       "    <tr>\n",
       "      <th>3580</th>\n",
       "      <td>refunded</td>\n",
       "      <td>2022-03-21 14:34:14+00:00</td>\n",
       "      <td>...</td>\n",
       "      <td>2022-06-18 20:22:00</td>\n",
       "      <td>2022</td>\n",
       "    </tr>\n",
       "    <tr>\n",
       "      <th>3583</th>\n",
       "      <td>completed</td>\n",
       "      <td>2022-03-11 14:11:45+00:00</td>\n",
       "      <td>...</td>\n",
       "      <td>2022-04-24 20:22:00</td>\n",
       "      <td>2022</td>\n",
       "    </tr>\n",
       "    <tr>\n",
       "      <th>3588</th>\n",
       "      <td>completed</td>\n",
       "      <td>2022-02-22 13:49:43+00:00</td>\n",
       "      <td>...</td>\n",
       "      <td>2022-03-27 20:22:00</td>\n",
       "      <td>2022</td>\n",
       "    </tr>\n",
       "  </tbody>\n",
       "</table>\n",
       "<p>2755 rows × 35 columns</p>\n",
       "</div>"
      ],
      "text/plain": [
       "          status              date_created  ...      fecha_complete  \\\n",
       "0        on-hold 2024-06-12 18:25:46+00:00  ...                 NaT   \n",
       "1     processing 2024-06-12 13:35:45+00:00  ...                 NaT   \n",
       "2     processing 2024-06-12 11:06:33+00:00  ...                 NaT   \n",
       "3     processing 2024-06-11 23:35:50+00:00  ... 2024-09-07 20:24:00   \n",
       "4     processing 2024-06-11 17:35:37+00:00  ... 2024-08-10 20:24:00   \n",
       "...          ...                       ...  ...                 ...   \n",
       "3566   completed 2022-03-29 16:28:50+00:00  ... 2022-05-09 20:22:00   \n",
       "3571  confirmado 2022-03-27 17:33:47+00:00  ... 2022-07-08 20:22:00   \n",
       "3580    refunded 2022-03-21 14:34:14+00:00  ... 2022-06-18 20:22:00   \n",
       "3583   completed 2022-03-11 14:11:45+00:00  ... 2022-04-24 20:22:00   \n",
       "3588   completed 2022-02-22 13:49:43+00:00  ... 2022-03-27 20:22:00   \n",
       "\n",
       "      anio_evento_temp  \n",
       "0                 2024  \n",
       "1                 2024  \n",
       "2                 2024  \n",
       "3                 2024  \n",
       "4                 2024  \n",
       "...                ...  \n",
       "3566              2022  \n",
       "3571              2022  \n",
       "3580              2022  \n",
       "3583              2022  \n",
       "3588              2022  \n",
       "\n",
       "[2755 rows x 35 columns]"
      ]
     },
     "execution_count": 732,
     "metadata": {},
     "output_type": "execute_result"
    }
   ],
   "source": [
    "\n",
    "df_pedidos_wc_sh[df_pedidos_wc_sh['Inicio_evento'].notna()]"
   ]
  },
  {
   "cell_type": "code",
   "execution_count": 691,
   "metadata": {},
   "outputs": [
    {
     "name": "stderr",
     "output_type": "stream",
     "text": [
      "/tmp/ipykernel_43421/2265077564.py:9: UserWarning: Converting to PeriodArray/Index representation will drop timezone information.\n",
      "  df_pedidos_con_o_sin_fecha_evento['mes'] = df_pedidos_con_o_sin_fecha_evento['date_created'].dt.to_period('M')\n"
     ]
    },
    {
     "data": {
      "image/png": "[encoded data removed]",
      "text/plain": [
       "<Figure size 2000x800 with 1 Axes>"
      ]
     },
     "metadata": {},
     "output_type": "display_data"
    }
   ],
   "source": [
    "import pandas as pd\n",
    "import matplotlib.pyplot as plt\n",
    "\n",
    "fig,ax = plt.subplots(figsize=(20,8))\n",
    "df_pedidos_wc_sh[columns_to_convert].apply(pd.to_datetime,utc=True)\n",
    "df_pedidos_con_o_sin_fecha_evento = df_pedidos_wc_sh.copy()\n",
    "df_pedidos_con_o_sin_fecha_evento['tiene_fecha_del_evento'] = df_pedidos_con_o_sin_fecha_evento['Inicio_evento'].notna()\n",
    "\n",
    "df_pedidos_con_o_sin_fecha_evento['mes'] = df_pedidos_con_o_sin_fecha_evento['date_created'].dt.to_period('M')\n",
    "\n",
    "conteo_mes_estado_fecha = df_pedidos_con_o_sin_fecha_evento.groupby(['mes','tiene_fecha_del_evento']).size().unstack(fill_value=0)\n",
    "\n",
    "\n",
    "# Graficar\n",
    "conteo_mes_estado_fecha.plot(kind='bar',ax=ax,color=['orange','lightgreen'])\n",
    "ax.set_title(\"Cantidad pedidos con fecha del evento según fecha de carga\")\n",
    "ax.set_xlabel(\"Fecha\")\n",
    "ax.set_ylabel(\"Cantidad\")\n",
    "plt.show()"
   ]
  },
  {
   "cell_type": "markdown",
   "metadata": {},
   "source": [
    "## 1) ¿Cuánto tiempo antes reserva la gente al día del evento?\n",
    "Calculamos para todos los eventos donde hay dato del inicio del evento\n"
   ]
  },
  {
   "cell_type": "code",
   "execution_count": 542,
   "metadata": {},
   "outputs": [],
   "source": [
    "df_pedidos_wc_sh =  df_pedidos_wc_sh[df_pedidos_wc_sh['Inicio_evento'].notna()]"
   ]
  },
  {
   "cell_type": "code",
   "execution_count": 543,
   "metadata": {},
   "outputs": [
    {
     "name": "stdout",
     "output_type": "stream",
     "text": [
      "<class 'pandas.core.frame.DataFrame'>\n",
      "Index: 2755 entries, 0 to 3588\n",
      "Data columns (total 2 columns):\n",
      " #   Column         Non-Null Count  Dtype              \n",
      "---  ------         --------------  -----              \n",
      " 0   Inicio_evento  2755 non-null   object             \n",
      " 1   date_created   2755 non-null   datetime64[ns, UTC]\n",
      "dtypes: datetime64[ns, UTC](1), object(1)\n",
      "memory usage: 64.6+ KB\n"
     ]
    }
   ],
   "source": [
    "df_pedidos_wc_sh[['Inicio_evento','date_created']].info()"
   ]
  },
  {
   "cell_type": "markdown",
   "metadata": {},
   "source": [
    "Convertimos los campos al mismo tipo"
   ]
  },
  {
   "cell_type": "code",
   "execution_count": 544,
   "metadata": {},
   "outputs": [
    {
     "ename": "ValueError",
     "evalue": "Cannot mix tz-aware with tz-naive values, at position 16. You might want to try:\n    - passing `format` if your strings have a consistent format;\n    - passing `format='ISO8601'` if your strings are all ISO8601 but not necessarily in exactly the same format;\n    - passing `format='mixed'`, and the format will be inferred for each element individually. You might want to use `dayfirst` alongside this.",
     "output_type": "error",
     "traceback": [
      "\u001b[0;31m---------------------------------------------------------------------------\u001b[0m",
      "\u001b[0;31mValueError\u001b[0m                                Traceback (most recent call last)",
      "Cell \u001b[0;32mIn[544], line 1\u001b[0m\n\u001b[0;32m----> 1\u001b[0m df_pedidos_wc_sh[\u001b[38;5;124m'\u001b[39m\u001b[38;5;124mInicio_evento\u001b[39m\u001b[38;5;124m'\u001b[39m] \u001b[38;5;241m=\u001b[39m \u001b[43mpd\u001b[49m\u001b[38;5;241;43m.\u001b[39;49m\u001b[43mto_datetime\u001b[49m\u001b[43m(\u001b[49m\u001b[43mdf_pedidos_wc_sh\u001b[49m\u001b[43m[\u001b[49m\u001b[38;5;124;43m'\u001b[39;49m\u001b[38;5;124;43mInicio_evento\u001b[39;49m\u001b[38;5;124;43m'\u001b[39;49m\u001b[43m]\u001b[49m\u001b[43m)\u001b[49m\u001b[38;5;241m.\u001b[39mdt\u001b[38;5;241m.\u001b[39mtz_localize(\u001b[38;5;28;01mNone\u001b[39;00m)\n",
      "File \u001b[0;32m~/Documents/Machine_learning/mlvirtualenv/lib/python3.10/site-packages/pandas/core/tools/datetimes.py:1067\u001b[0m, in \u001b[0;36mto_datetime\u001b[0;34m(arg, errors, dayfirst, yearfirst, utc, format, exact, unit, infer_datetime_format, origin, cache)\u001b[0m\n\u001b[1;32m   1065\u001b[0m         result \u001b[38;5;241m=\u001b[39m arg\u001b[38;5;241m.\u001b[39mmap(cache_array)\n\u001b[1;32m   1066\u001b[0m     \u001b[38;5;28;01melse\u001b[39;00m:\n\u001b[0;32m-> 1067\u001b[0m         values \u001b[38;5;241m=\u001b[39m \u001b[43mconvert_listlike\u001b[49m\u001b[43m(\u001b[49m\u001b[43marg\u001b[49m\u001b[38;5;241;43m.\u001b[39;49m\u001b[43m_values\u001b[49m\u001b[43m,\u001b[49m\u001b[43m \u001b[49m\u001b[38;5;28;43mformat\u001b[39;49m\u001b[43m)\u001b[49m\n\u001b[1;32m   1068\u001b[0m         result \u001b[38;5;241m=\u001b[39m arg\u001b[38;5;241m.\u001b[39m_constructor(values, index\u001b[38;5;241m=\u001b[39marg\u001b[38;5;241m.\u001b[39mindex, name\u001b[38;5;241m=\u001b[39marg\u001b[38;5;241m.\u001b[39mname)\n\u001b[1;32m   1069\u001b[0m \u001b[38;5;28;01melif\u001b[39;00m \u001b[38;5;28misinstance\u001b[39m(arg, (ABCDataFrame, abc\u001b[38;5;241m.\u001b[39mMutableMapping)):\n",
      "File \u001b[0;32m~/Documents/Machine_learning/mlvirtualenv/lib/python3.10/site-packages/pandas/core/tools/datetimes.py:433\u001b[0m, in \u001b[0;36m_convert_listlike_datetimes\u001b[0;34m(arg, format, name, utc, unit, errors, dayfirst, yearfirst, exact)\u001b[0m\n\u001b[1;32m    431\u001b[0m \u001b[38;5;66;03m# `format` could be inferred, or user didn't ask for mixed-format parsing.\u001b[39;00m\n\u001b[1;32m    432\u001b[0m \u001b[38;5;28;01mif\u001b[39;00m \u001b[38;5;28mformat\u001b[39m \u001b[38;5;129;01mis\u001b[39;00m \u001b[38;5;129;01mnot\u001b[39;00m \u001b[38;5;28;01mNone\u001b[39;00m \u001b[38;5;129;01mand\u001b[39;00m \u001b[38;5;28mformat\u001b[39m \u001b[38;5;241m!=\u001b[39m \u001b[38;5;124m\"\u001b[39m\u001b[38;5;124mmixed\u001b[39m\u001b[38;5;124m\"\u001b[39m:\n\u001b[0;32m--> 433\u001b[0m     \u001b[38;5;28;01mreturn\u001b[39;00m \u001b[43m_array_strptime_with_fallback\u001b[49m\u001b[43m(\u001b[49m\u001b[43marg\u001b[49m\u001b[43m,\u001b[49m\u001b[43m \u001b[49m\u001b[43mname\u001b[49m\u001b[43m,\u001b[49m\u001b[43m \u001b[49m\u001b[43mutc\u001b[49m\u001b[43m,\u001b[49m\u001b[43m \u001b[49m\u001b[38;5;28;43mformat\u001b[39;49m\u001b[43m,\u001b[49m\u001b[43m \u001b[49m\u001b[43mexact\u001b[49m\u001b[43m,\u001b[49m\u001b[43m \u001b[49m\u001b[43merrors\u001b[49m\u001b[43m)\u001b[49m\n\u001b[1;32m    435\u001b[0m result, tz_parsed \u001b[38;5;241m=\u001b[39m objects_to_datetime64(\n\u001b[1;32m    436\u001b[0m     arg,\n\u001b[1;32m    437\u001b[0m     dayfirst\u001b[38;5;241m=\u001b[39mdayfirst,\n\u001b[0;32m   (...)\u001b[0m\n\u001b[1;32m    441\u001b[0m     allow_object\u001b[38;5;241m=\u001b[39m\u001b[38;5;28;01mTrue\u001b[39;00m,\n\u001b[1;32m    442\u001b[0m )\n\u001b[1;32m    444\u001b[0m \u001b[38;5;28;01mif\u001b[39;00m tz_parsed \u001b[38;5;129;01mis\u001b[39;00m \u001b[38;5;129;01mnot\u001b[39;00m \u001b[38;5;28;01mNone\u001b[39;00m:\n\u001b[1;32m    445\u001b[0m     \u001b[38;5;66;03m# We can take a shortcut since the datetime64 numpy array\u001b[39;00m\n\u001b[1;32m    446\u001b[0m     \u001b[38;5;66;03m# is in UTC\u001b[39;00m\n",
      "File \u001b[0;32m~/Documents/Machine_learning/mlvirtualenv/lib/python3.10/site-packages/pandas/core/tools/datetimes.py:467\u001b[0m, in \u001b[0;36m_array_strptime_with_fallback\u001b[0;34m(arg, name, utc, fmt, exact, errors)\u001b[0m\n\u001b[1;32m    456\u001b[0m \u001b[38;5;28;01mdef\u001b[39;00m \u001b[38;5;21m_array_strptime_with_fallback\u001b[39m(\n\u001b[1;32m    457\u001b[0m     arg,\n\u001b[1;32m    458\u001b[0m     name,\n\u001b[0;32m   (...)\u001b[0m\n\u001b[1;32m    462\u001b[0m     errors: \u001b[38;5;28mstr\u001b[39m,\n\u001b[1;32m    463\u001b[0m ) \u001b[38;5;241m-\u001b[39m\u001b[38;5;241m>\u001b[39m Index:\n\u001b[1;32m    464\u001b[0m \u001b[38;5;250m    \u001b[39m\u001b[38;5;124;03m\"\"\"\u001b[39;00m\n\u001b[1;32m    465\u001b[0m \u001b[38;5;124;03m    Call array_strptime, with fallback behavior depending on 'errors'.\u001b[39;00m\n\u001b[1;32m    466\u001b[0m \u001b[38;5;124;03m    \"\"\"\u001b[39;00m\n\u001b[0;32m--> 467\u001b[0m     result, tz_out \u001b[38;5;241m=\u001b[39m \u001b[43marray_strptime\u001b[49m\u001b[43m(\u001b[49m\u001b[43marg\u001b[49m\u001b[43m,\u001b[49m\u001b[43m \u001b[49m\u001b[43mfmt\u001b[49m\u001b[43m,\u001b[49m\u001b[43m \u001b[49m\u001b[43mexact\u001b[49m\u001b[38;5;241;43m=\u001b[39;49m\u001b[43mexact\u001b[49m\u001b[43m,\u001b[49m\u001b[43m \u001b[49m\u001b[43merrors\u001b[49m\u001b[38;5;241;43m=\u001b[39;49m\u001b[43merrors\u001b[49m\u001b[43m,\u001b[49m\u001b[43m \u001b[49m\u001b[43mutc\u001b[49m\u001b[38;5;241;43m=\u001b[39;49m\u001b[43mutc\u001b[49m\u001b[43m)\u001b[49m\n\u001b[1;32m    468\u001b[0m     \u001b[38;5;28;01mif\u001b[39;00m tz_out \u001b[38;5;129;01mis\u001b[39;00m \u001b[38;5;129;01mnot\u001b[39;00m \u001b[38;5;28;01mNone\u001b[39;00m:\n\u001b[1;32m    469\u001b[0m         unit \u001b[38;5;241m=\u001b[39m np\u001b[38;5;241m.\u001b[39mdatetime_data(result\u001b[38;5;241m.\u001b[39mdtype)[\u001b[38;5;241m0\u001b[39m]\n",
      "File \u001b[0;32mstrptime.pyx:501\u001b[0m, in \u001b[0;36mpandas._libs.tslibs.strptime.array_strptime\u001b[0;34m()\u001b[0m\n",
      "File \u001b[0;32mstrptime.pyx:369\u001b[0m, in \u001b[0;36mpandas._libs.tslibs.strptime.array_strptime\u001b[0;34m()\u001b[0m\n",
      "File \u001b[0;32mstrptime.pyx:292\u001b[0m, in \u001b[0;36mpandas._libs.tslibs.strptime.DatetimeParseState.process_datetime\u001b[0;34m()\u001b[0m\n",
      "\u001b[0;31mValueError\u001b[0m: Cannot mix tz-aware with tz-naive values, at position 16. You might want to try:\n    - passing `format` if your strings have a consistent format;\n    - passing `format='ISO8601'` if your strings are all ISO8601 but not necessarily in exactly the same format;\n    - passing `format='mixed'`, and the format will be inferred for each element individually. You might want to use `dayfirst` alongside this."
     ]
    }
   ],
   "source": [
    "df_pedidos_wc_sh['Inicio_evento'] = pd.to_datetime(df_pedidos_wc_sh['Inicio_evento']).dt.tz_localize(None)"
   ]
  },
  {
   "cell_type": "markdown",
   "metadata": {},
   "source": [
    "### Calculo del tiempo de anticipación de reserva de un evento"
   ]
  },
  {
   "cell_type": "code",
   "execution_count": 138,
   "metadata": {},
   "outputs": [
    {
     "name": "stderr",
     "output_type": "stream",
     "text": [
      "/tmp/ipykernel_43421/137753054.py:1: SettingWithCopyWarning: \n",
      "A value is trying to be set on a copy of a slice from a DataFrame.\n",
      "Try using .loc[row_indexer,col_indexer] = value instead\n",
      "\n",
      "See the caveats in the documentation: https://pandas.pydata.org/pandas-docs/stable/user_guide/indexing.html#returning-a-view-versus-a-copy\n",
      "  df_pedidos_wc_sh['anticipacion_reserva_dias'] = (df_pedidos_wc_sh['Inicio_evento'] -df_pedidos_wc_sh['date_created'].dt.tz_convert(None)).dt.days\n"
     ]
    }
   ],
   "source": [
    "df_pedidos_wc_sh['anticipacion_reserva_dias'] = (df_pedidos_wc_sh['Inicio_evento'] -df_pedidos_wc_sh['date_created'].dt.tz_convert(None)).dt.days"
   ]
  },
  {
   "cell_type": "markdown",
   "metadata": {},
   "source": [
    "## Verificación de datos outliers"
   ]
  },
  {
   "cell_type": "code",
   "execution_count": 139,
   "metadata": {},
   "outputs": [
    {
     "data": {
      "text/html": [
       "<div>\n",
       "<style scoped>\n",
       "    .dataframe tbody tr th:only-of-type {\n",
       "        vertical-align: middle;\n",
       "    }\n",
       "\n",
       "    .dataframe tbody tr th {\n",
       "        vertical-align: top;\n",
       "    }\n",
       "\n",
       "    .dataframe thead th {\n",
       "        text-align: right;\n",
       "    }\n",
       "</style>\n",
       "<table border=\"1\" class=\"dataframe\">\n",
       "  <thead>\n",
       "    <tr style=\"text-align: right;\">\n",
       "      <th></th>\n",
       "      <th>Title</th>\n",
       "      <th>status</th>\n",
       "      <th>date_created</th>\n",
       "      <th>date_modified</th>\n",
       "      <th>total</th>\n",
       "      <th>payment_method</th>\n",
       "      <th>payment_method_title</th>\n",
       "      <th>created_via</th>\n",
       "      <th>customer_note</th>\n",
       "      <th>date_paid</th>\n",
       "      <th>date_created_gmt</th>\n",
       "      <th>date_modified_gmt</th>\n",
       "      <th>date_completed_gmt</th>\n",
       "      <th>date_paid_gmt</th>\n",
       "      <th>currency_symbol</th>\n",
       "      <th>address_1</th>\n",
       "      <th>address_2</th>\n",
       "      <th>city</th>\n",
       "      <th>state</th>\n",
       "      <th>postcode</th>\n",
       "      <th>billing_horario</th>\n",
       "      <th>finalizacion</th>\n",
       "      <th>billing_tematica</th>\n",
       "      <th>billing_nombre</th>\n",
       "      <th>billing_edad</th>\n",
       "      <th>billing_lugar</th>\n",
       "      <th>Estado</th>\n",
       "      <th>Edad</th>\n",
       "      <th>Tematica</th>\n",
       "      <th>Fin_evento</th>\n",
       "      <th>Lugar</th>\n",
       "      <th>Created</th>\n",
       "      <th>Inicio_evento</th>\n",
       "      <th>fecha</th>\n",
       "      <th>fecha_complete</th>\n",
       "      <th>anio_evento_temp</th>\n",
       "      <th>anticipacion_reserva_dias</th>\n",
       "    </tr>\n",
       "  </thead>\n",
       "  <tbody>\n",
       "    <tr>\n",
       "      <th>0</th>\n",
       "      <td>10008</td>\n",
       "      <td>on-hold</td>\n",
       "      <td>2024-06-12 18:25:46+00:00</td>\n",
       "      <td>2024-06-12 18:25:46+00:00</td>\n",
       "      <td>420000</td>\n",
       "      <td>bacs</td>\n",
       "      <td>Transferencia bancaria  -20%</td>\n",
       "      <td>checkout</td>\n",
       "      <td>NaN</td>\n",
       "      <td>NaT</td>\n",
       "      <td>2024-06-12T18:25:46</td>\n",
       "      <td>2024-06-12T18:25:46</td>\n",
       "      <td>NaN</td>\n",
       "      <td>NaN</td>\n",
       "      <td>$</td>\n",
       "      <td>Sum 1. Barrio Costas. Puertos del Lago</td>\n",
       "      <td>NaN</td>\n",
       "      <td>Escobar</td>\n",
       "      <td>NaN</td>\n",
       "      <td>NaN</td>\n",
       "      <td>13:00</td>\n",
       "      <td>16:00</td>\n",
       "      <td>Safari</td>\n",
       "      <td>Danae</td>\n",
       "      <td>6</td>\n",
       "      <td>SUM</td>\n",
       "      <td>NaN</td>\n",
       "      <td>NaN</td>\n",
       "      <td>NaN</td>\n",
       "      <td>NaT</td>\n",
       "      <td>NaN</td>\n",
       "      <td>NaT</td>\n",
       "      <td>2024-07-13 00:00:00</td>\n",
       "      <td>NaN</td>\n",
       "      <td>NaT</td>\n",
       "      <td>2024</td>\n",
       "      <td>30</td>\n",
       "    </tr>\n",
       "    <tr>\n",
       "      <th>1</th>\n",
       "      <td>10007</td>\n",
       "      <td>processing</td>\n",
       "      <td>2024-06-12 13:35:45+00:00</td>\n",
       "      <td>2024-06-12 13:37:11+00:00</td>\n",
       "      <td>198000</td>\n",
       "      <td>NaN</td>\n",
       "      <td>NaN</td>\n",
       "      <td>admin</td>\n",
       "      <td>Nombre de del homenajeado/a  Lola \\r\\n.       ...</td>\n",
       "      <td>2024-06-12 13:37:11+00:00</td>\n",
       "      <td>2024-06-12T13:35:45</td>\n",
       "      <td>2024-06-12T13:37:11</td>\n",
       "      <td>NaN</td>\n",
       "      <td>2024-06-12T13:37:11</td>\n",
       "      <td>$</td>\n",
       "      <td>NaN</td>\n",
       "      <td>NaN</td>\n",
       "      <td>NaN</td>\n",
       "      <td>NaN</td>\n",
       "      <td>NaN</td>\n",
       "      <td>NaN</td>\n",
       "      <td>NaN</td>\n",
       "      <td>NaN</td>\n",
       "      <td>NaN</td>\n",
       "      <td>NaN</td>\n",
       "      <td>NaN</td>\n",
       "      <td>pendiente</td>\n",
       "      <td>0.0</td>\n",
       "      <td>NaN</td>\n",
       "      <td>NaT</td>\n",
       "      <td>NaN</td>\n",
       "      <td>2024-06-12 13:38:48+00:00</td>\n",
       "      <td>2024-06-12 13:35:45</td>\n",
       "      <td>NaN</td>\n",
       "      <td>NaT</td>\n",
       "      <td>2024</td>\n",
       "      <td>0</td>\n",
       "    </tr>\n",
       "    <tr>\n",
       "      <th>2</th>\n",
       "      <td>10005</td>\n",
       "      <td>processing</td>\n",
       "      <td>2024-06-12 11:06:33+00:00</td>\n",
       "      <td>2024-06-12 11:07:29+00:00</td>\n",
       "      <td>229000</td>\n",
       "      <td>woo-mercado-pago-custom</td>\n",
       "      <td>Paga con tarjetas de crédito hasta 6 cuotas si...</td>\n",
       "      <td>checkout</td>\n",
       "      <td>Me contactan para coordinar sobre la temática ...</td>\n",
       "      <td>2024-06-12 11:07:29+00:00</td>\n",
       "      <td>2024-06-12T11:06:33</td>\n",
       "      <td>2024-06-12T11:07:29</td>\n",
       "      <td>NaN</td>\n",
       "      <td>2024-06-12T11:07:29</td>\n",
       "      <td>$</td>\n",
       "      <td>José Hernández 1443 esquina uruguay</td>\n",
       "      <td>NaN</td>\n",
       "      <td>Escobar</td>\n",
       "      <td>NaN</td>\n",
       "      <td>NaN</td>\n",
       "      <td>13:00</td>\n",
       "      <td>17:00</td>\n",
       "      <td>Osito nórdico</td>\n",
       "      <td>Piero</td>\n",
       "      <td>1</td>\n",
       "      <td>Quinta</td>\n",
       "      <td>pendiente</td>\n",
       "      <td>1.0</td>\n",
       "      <td>Osito nórdico</td>\n",
       "      <td>2024-07-13 20:00:00+00:00</td>\n",
       "      <td>Quinta</td>\n",
       "      <td>2024-06-12 11:08:16+00:00</td>\n",
       "      <td>2024-07-13 00:00:00</td>\n",
       "      <td>NaN</td>\n",
       "      <td>NaT</td>\n",
       "      <td>2024</td>\n",
       "      <td>30</td>\n",
       "    </tr>\n",
       "    <tr>\n",
       "      <th>3</th>\n",
       "      <td>10004</td>\n",
       "      <td>processing</td>\n",
       "      <td>2024-06-11 23:35:50+00:00</td>\n",
       "      <td>2024-06-12 12:56:31+00:00</td>\n",
       "      <td>216000</td>\n",
       "      <td>NaN</td>\n",
       "      <td>NaN</td>\n",
       "      <td>admin</td>\n",
       "      <td>Olivia Encalada\\r\\n2 años \\r\\nSábado 7 de sept...</td>\n",
       "      <td>2024-06-12 12:56:31+00:00</td>\n",
       "      <td>2024-06-11T23:35:50</td>\n",
       "      <td>2024-06-12T12:56:31</td>\n",
       "      <td>NaN</td>\n",
       "      <td>2024-06-12T12:56:31</td>\n",
       "      <td>$</td>\n",
       "      <td>NaN</td>\n",
       "      <td>NaN</td>\n",
       "      <td>NaN</td>\n",
       "      <td>NaN</td>\n",
       "      <td>NaN</td>\n",
       "      <td>NaN</td>\n",
       "      <td>NaN</td>\n",
       "      <td>NaN</td>\n",
       "      <td>NaN</td>\n",
       "      <td>NaN</td>\n",
       "      <td>NaN</td>\n",
       "      <td>pendiente</td>\n",
       "      <td>0.0</td>\n",
       "      <td>NaN</td>\n",
       "      <td>NaT</td>\n",
       "      <td>NaN</td>\n",
       "      <td>2024-06-12 12:57:09+00:00</td>\n",
       "      <td>2024-06-11 23:35:50</td>\n",
       "      <td>sep 7 2024</td>\n",
       "      <td>NaT</td>\n",
       "      <td>2024</td>\n",
       "      <td>0</td>\n",
       "    </tr>\n",
       "    <tr>\n",
       "      <th>4</th>\n",
       "      <td>10002</td>\n",
       "      <td>processing</td>\n",
       "      <td>2024-06-11 17:35:37+00:00</td>\n",
       "      <td>2024-06-11 21:33:38+00:00</td>\n",
       "      <td>390000</td>\n",
       "      <td>NaN</td>\n",
       "      <td>NaN</td>\n",
       "      <td>admin</td>\n",
       "      <td>Homenajeado\\r\\nFacundo \\r\\nCumple 1 año\\r\\nDe ...</td>\n",
       "      <td>2024-06-11 21:33:38+00:00</td>\n",
       "      <td>2024-06-11T17:35:37</td>\n",
       "      <td>2024-06-11T21:33:38</td>\n",
       "      <td>NaN</td>\n",
       "      <td>2024-06-11T21:33:38</td>\n",
       "      <td>$</td>\n",
       "      <td>NaN</td>\n",
       "      <td>NaN</td>\n",
       "      <td>NaN</td>\n",
       "      <td>NaN</td>\n",
       "      <td>NaN</td>\n",
       "      <td>NaN</td>\n",
       "      <td>NaN</td>\n",
       "      <td>NaN</td>\n",
       "      <td>NaN</td>\n",
       "      <td>NaN</td>\n",
       "      <td>NaN</td>\n",
       "      <td>confirmado</td>\n",
       "      <td>1.0</td>\n",
       "      <td>koala</td>\n",
       "      <td>2024-08-10 23:00:00+00:00</td>\n",
       "      <td>Casa</td>\n",
       "      <td>2024-06-11 21:35:13+00:00</td>\n",
       "      <td>2024-08-10 18:00:00</td>\n",
       "      <td>aug 10 2024</td>\n",
       "      <td>NaT</td>\n",
       "      <td>2024</td>\n",
       "      <td>60</td>\n",
       "    </tr>\n",
       "    <tr>\n",
       "      <th>...</th>\n",
       "      <td>...</td>\n",
       "      <td>...</td>\n",
       "      <td>...</td>\n",
       "      <td>...</td>\n",
       "      <td>...</td>\n",
       "      <td>...</td>\n",
       "      <td>...</td>\n",
       "      <td>...</td>\n",
       "      <td>...</td>\n",
       "      <td>...</td>\n",
       "      <td>...</td>\n",
       "      <td>...</td>\n",
       "      <td>...</td>\n",
       "      <td>...</td>\n",
       "      <td>...</td>\n",
       "      <td>...</td>\n",
       "      <td>...</td>\n",
       "      <td>...</td>\n",
       "      <td>...</td>\n",
       "      <td>...</td>\n",
       "      <td>...</td>\n",
       "      <td>...</td>\n",
       "      <td>...</td>\n",
       "      <td>...</td>\n",
       "      <td>...</td>\n",
       "      <td>...</td>\n",
       "      <td>...</td>\n",
       "      <td>...</td>\n",
       "      <td>...</td>\n",
       "      <td>...</td>\n",
       "      <td>...</td>\n",
       "      <td>...</td>\n",
       "      <td>...</td>\n",
       "      <td>...</td>\n",
       "      <td>...</td>\n",
       "      <td>...</td>\n",
       "      <td>...</td>\n",
       "    </tr>\n",
       "    <tr>\n",
       "      <th>2813</th>\n",
       "      <td>5211</td>\n",
       "      <td>processing</td>\n",
       "      <td>2023-02-28 16:33:43+00:00</td>\n",
       "      <td>2023-08-18 13:37:08+00:00</td>\n",
       "      <td>42000</td>\n",
       "      <td>woo-mercado-pago-custom</td>\n",
       "      <td>Paga con tarjetas de crédito hasta 6 cuotas si...</td>\n",
       "      <td>admin</td>\n",
       "      <td>Datos del evento:\\r\\n•\\tNombre de del homenaje...</td>\n",
       "      <td>2023-02-28 16:35:07+00:00</td>\n",
       "      <td>2023-02-28T16:33:43</td>\n",
       "      <td>2023-08-18T13:37:08</td>\n",
       "      <td>NaN</td>\n",
       "      <td>2023-02-28T16:35:07</td>\n",
       "      <td>$</td>\n",
       "      <td>NaN</td>\n",
       "      <td>NaN</td>\n",
       "      <td>NaN</td>\n",
       "      <td>NaN</td>\n",
       "      <td>NaN</td>\n",
       "      <td>NaN</td>\n",
       "      <td>NaN</td>\n",
       "      <td>NaN</td>\n",
       "      <td>NaN</td>\n",
       "      <td>NaN</td>\n",
       "      <td>NaN</td>\n",
       "      <td>finalizado</td>\n",
       "      <td>1.0</td>\n",
       "      <td>Rey León</td>\n",
       "      <td>2023-09-01 03:00:00+00:00</td>\n",
       "      <td>Salón</td>\n",
       "      <td>2023-11-03 12:58:17+00:00</td>\n",
       "      <td>2023-09-01 20:00:00</td>\n",
       "      <td>1/9/23/2023</td>\n",
       "      <td>NaT</td>\n",
       "      <td>2023</td>\n",
       "      <td>185</td>\n",
       "    </tr>\n",
       "    <tr>\n",
       "      <th>2822</th>\n",
       "      <td>5201</td>\n",
       "      <td>processing</td>\n",
       "      <td>2023-02-28 02:58:47+00:00</td>\n",
       "      <td>2023-08-28 20:51:21+00:00</td>\n",
       "      <td>135000</td>\n",
       "      <td>woo-mercado-pago-custom</td>\n",
       "      <td>Paga con tarjetas de crédito hasta 6 cuotas si...</td>\n",
       "      <td>checkout</td>\n",
       "      <td>La dirección es de mi domicilio pero nuestra i...</td>\n",
       "      <td>2023-02-28 02:59:45+00:00</td>\n",
       "      <td>2023-02-28T02:58:47</td>\n",
       "      <td>2023-08-28T20:51:21</td>\n",
       "      <td>NaN</td>\n",
       "      <td>2023-02-28T02:59:45</td>\n",
       "      <td>$</td>\n",
       "      <td>Juan Farrel 784</td>\n",
       "      <td>NaN</td>\n",
       "      <td>Valentín Alsina</td>\n",
       "      <td>NaN</td>\n",
       "      <td>1822</td>\n",
       "      <td>NaN</td>\n",
       "      <td>NaN</td>\n",
       "      <td>Cars</td>\n",
       "      <td>Giovanni</td>\n",
       "      <td>2</td>\n",
       "      <td>NaN</td>\n",
       "      <td>finalizado</td>\n",
       "      <td>2.0</td>\n",
       "      <td>Cars</td>\n",
       "      <td>2023-09-05 03:00:00+00:00</td>\n",
       "      <td>Salón</td>\n",
       "      <td>2023-11-03 13:12:45+00:00</td>\n",
       "      <td>2023-09-06 02:58:00</td>\n",
       "      <td>NaN</td>\n",
       "      <td>NaT</td>\n",
       "      <td>2023</td>\n",
       "      <td>189</td>\n",
       "    </tr>\n",
       "    <tr>\n",
       "      <th>2849</th>\n",
       "      <td>5157</td>\n",
       "      <td>processing</td>\n",
       "      <td>2023-02-17 15:28:27+00:00</td>\n",
       "      <td>2023-09-04 17:13:58+00:00</td>\n",
       "      <td>39000</td>\n",
       "      <td>other</td>\n",
       "      <td>Otro</td>\n",
       "      <td>admin</td>\n",
       "      <td>Datos del evento:\\r\\n•\\tNombre de del homenaje...</td>\n",
       "      <td>2023-02-17 15:32:52+00:00</td>\n",
       "      <td>2023-02-17T15:28:27</td>\n",
       "      <td>2023-09-04T17:13:58</td>\n",
       "      <td>NaN</td>\n",
       "      <td>2023-02-17T15:32:52</td>\n",
       "      <td>$</td>\n",
       "      <td>NaN</td>\n",
       "      <td>NaN</td>\n",
       "      <td>NaN</td>\n",
       "      <td>NaN</td>\n",
       "      <td>NaN</td>\n",
       "      <td>NaN</td>\n",
       "      <td>NaN</td>\n",
       "      <td>NaN</td>\n",
       "      <td>NaN</td>\n",
       "      <td>NaN</td>\n",
       "      <td>NaN</td>\n",
       "      <td>completado</td>\n",
       "      <td>1.0</td>\n",
       "      <td>mickey</td>\n",
       "      <td>2023-09-23 03:00:00+00:00</td>\n",
       "      <td>Salón</td>\n",
       "      <td>2023-11-03 13:21:25+00:00</td>\n",
       "      <td>2023-09-23 15:30:00</td>\n",
       "      <td>23/09/2023/2023</td>\n",
       "      <td>NaT</td>\n",
       "      <td>2023</td>\n",
       "      <td>218</td>\n",
       "    </tr>\n",
       "    <tr>\n",
       "      <th>2852</th>\n",
       "      <td>5154</td>\n",
       "      <td>processing</td>\n",
       "      <td>2023-02-17 14:00:32+00:00</td>\n",
       "      <td>2023-09-03 13:59:52+00:00</td>\n",
       "      <td>42000</td>\n",
       "      <td>woo-mercado-pago-custom</td>\n",
       "      <td>Paga con tarjetas de crédito hasta 6 cuotas si...</td>\n",
       "      <td>admin</td>\n",
       "      <td>Datos del evento:\\r\\n•\\tNombre de del homenaje...</td>\n",
       "      <td>2023-02-17 14:02:24+00:00</td>\n",
       "      <td>2023-02-17T14:00:32</td>\n",
       "      <td>2023-09-03T13:59:52</td>\n",
       "      <td>NaN</td>\n",
       "      <td>2023-02-17T14:02:24</td>\n",
       "      <td>$</td>\n",
       "      <td>NaN</td>\n",
       "      <td>NaN</td>\n",
       "      <td>NaN</td>\n",
       "      <td>NaN</td>\n",
       "      <td>NaN</td>\n",
       "      <td>NaN</td>\n",
       "      <td>NaN</td>\n",
       "      <td>NaN</td>\n",
       "      <td>NaN</td>\n",
       "      <td>NaN</td>\n",
       "      <td>NaN</td>\n",
       "      <td>completado</td>\n",
       "      <td>1.0</td>\n",
       "      <td>ositos</td>\n",
       "      <td>2023-09-17 01:00:00+00:00</td>\n",
       "      <td>Salón</td>\n",
       "      <td>2023-11-03 13:18:38+00:00</td>\n",
       "      <td>2023-09-16 21:00:00</td>\n",
       "      <td>16/09/2023</td>\n",
       "      <td>NaT</td>\n",
       "      <td>2023</td>\n",
       "      <td>211</td>\n",
       "    </tr>\n",
       "    <tr>\n",
       "      <th>2956</th>\n",
       "      <td>4989</td>\n",
       "      <td>processing</td>\n",
       "      <td>2023-01-22 19:12:21+00:00</td>\n",
       "      <td>2023-09-14 17:41:59+00:00</td>\n",
       "      <td>33000</td>\n",
       "      <td>woo-mercado-pago-custom</td>\n",
       "      <td>Paga con tarjetas de crédito hasta 6 cuotas si...</td>\n",
       "      <td>checkout</td>\n",
       "      <td>7/10</td>\n",
       "      <td>2023-01-22 19:13:52+00:00</td>\n",
       "      <td>2023-01-22T19:12:21</td>\n",
       "      <td>2023-09-14T17:41:59</td>\n",
       "      <td>NaN</td>\n",
       "      <td>2023-01-22T19:13:52</td>\n",
       "      <td>$</td>\n",
       "      <td>Terrada 5072</td>\n",
       "      <td>NaN</td>\n",
       "      <td>Villa Pueyrredon</td>\n",
       "      <td>NaN</td>\n",
       "      <td>1419</td>\n",
       "      <td>NaN</td>\n",
       "      <td>NaN</td>\n",
       "      <td>NaN</td>\n",
       "      <td>Santiago</td>\n",
       "      <td>1</td>\n",
       "      <td>NaN</td>\n",
       "      <td>completado</td>\n",
       "      <td>1.0</td>\n",
       "      <td>oso</td>\n",
       "      <td>2023-10-07 19:00:00+00:00</td>\n",
       "      <td>Salón</td>\n",
       "      <td>2023-11-03 14:10:40+00:00</td>\n",
       "      <td>2023-10-07 15:00:00</td>\n",
       "      <td>7/10/2023</td>\n",
       "      <td>NaT</td>\n",
       "      <td>2023</td>\n",
       "      <td>257</td>\n",
       "    </tr>\n",
       "  </tbody>\n",
       "</table>\n",
       "<p>2110 rows × 37 columns</p>\n",
       "</div>"
      ],
      "text/plain": [
       "      Title      status              date_created             date_modified  \\\n",
       "0     10008     on-hold 2024-06-12 18:25:46+00:00 2024-06-12 18:25:46+00:00   \n",
       "1     10007  processing 2024-06-12 13:35:45+00:00 2024-06-12 13:37:11+00:00   \n",
       "2     10005  processing 2024-06-12 11:06:33+00:00 2024-06-12 11:07:29+00:00   \n",
       "3     10004  processing 2024-06-11 23:35:50+00:00 2024-06-12 12:56:31+00:00   \n",
       "4     10002  processing 2024-06-11 17:35:37+00:00 2024-06-11 21:33:38+00:00   \n",
       "...     ...         ...                       ...                       ...   \n",
       "2813   5211  processing 2023-02-28 16:33:43+00:00 2023-08-18 13:37:08+00:00   \n",
       "2822   5201  processing 2023-02-28 02:58:47+00:00 2023-08-28 20:51:21+00:00   \n",
       "2849   5157  processing 2023-02-17 15:28:27+00:00 2023-09-04 17:13:58+00:00   \n",
       "2852   5154  processing 2023-02-17 14:00:32+00:00 2023-09-03 13:59:52+00:00   \n",
       "2956   4989  processing 2023-01-22 19:12:21+00:00 2023-09-14 17:41:59+00:00   \n",
       "\n",
       "       total           payment_method  \\\n",
       "0     420000                     bacs   \n",
       "1     198000                      NaN   \n",
       "2     229000  woo-mercado-pago-custom   \n",
       "3     216000                      NaN   \n",
       "4     390000                      NaN   \n",
       "...      ...                      ...   \n",
       "2813   42000  woo-mercado-pago-custom   \n",
       "2822  135000  woo-mercado-pago-custom   \n",
       "2849   39000                    other   \n",
       "2852   42000  woo-mercado-pago-custom   \n",
       "2956   33000  woo-mercado-pago-custom   \n",
       "\n",
       "                                   payment_method_title created_via  \\\n",
       "0                          Transferencia bancaria  -20%    checkout   \n",
       "1                                                   NaN       admin   \n",
       "2     Paga con tarjetas de crédito hasta 6 cuotas si...    checkout   \n",
       "3                                                   NaN       admin   \n",
       "4                                                   NaN       admin   \n",
       "...                                                 ...         ...   \n",
       "2813  Paga con tarjetas de crédito hasta 6 cuotas si...       admin   \n",
       "2822  Paga con tarjetas de crédito hasta 6 cuotas si...    checkout   \n",
       "2849                                               Otro       admin   \n",
       "2852  Paga con tarjetas de crédito hasta 6 cuotas si...       admin   \n",
       "2956  Paga con tarjetas de crédito hasta 6 cuotas si...    checkout   \n",
       "\n",
       "                                          customer_note  \\\n",
       "0                                                   NaN   \n",
       "1     Nombre de del homenajeado/a  Lola \\r\\n.       ...   \n",
       "2     Me contactan para coordinar sobre la temática ...   \n",
       "3     Olivia Encalada\\r\\n2 años \\r\\nSábado 7 de sept...   \n",
       "4     Homenajeado\\r\\nFacundo \\r\\nCumple 1 año\\r\\nDe ...   \n",
       "...                                                 ...   \n",
       "2813  Datos del evento:\\r\\n•\\tNombre de del homenaje...   \n",
       "2822  La dirección es de mi domicilio pero nuestra i...   \n",
       "2849  Datos del evento:\\r\\n•\\tNombre de del homenaje...   \n",
       "2852  Datos del evento:\\r\\n•\\tNombre de del homenaje...   \n",
       "2956                                               7/10   \n",
       "\n",
       "                     date_paid     date_created_gmt    date_modified_gmt  \\\n",
       "0                          NaT  2024-06-12T18:25:46  2024-06-12T18:25:46   \n",
       "1    2024-06-12 13:37:11+00:00  2024-06-12T13:35:45  2024-06-12T13:37:11   \n",
       "2    2024-06-12 11:07:29+00:00  2024-06-12T11:06:33  2024-06-12T11:07:29   \n",
       "3    2024-06-12 12:56:31+00:00  2024-06-11T23:35:50  2024-06-12T12:56:31   \n",
       "4    2024-06-11 21:33:38+00:00  2024-06-11T17:35:37  2024-06-11T21:33:38   \n",
       "...                        ...                  ...                  ...   \n",
       "2813 2023-02-28 16:35:07+00:00  2023-02-28T16:33:43  2023-08-18T13:37:08   \n",
       "2822 2023-02-28 02:59:45+00:00  2023-02-28T02:58:47  2023-08-28T20:51:21   \n",
       "2849 2023-02-17 15:32:52+00:00  2023-02-17T15:28:27  2023-09-04T17:13:58   \n",
       "2852 2023-02-17 14:02:24+00:00  2023-02-17T14:00:32  2023-09-03T13:59:52   \n",
       "2956 2023-01-22 19:13:52+00:00  2023-01-22T19:12:21  2023-09-14T17:41:59   \n",
       "\n",
       "     date_completed_gmt        date_paid_gmt currency_symbol  \\\n",
       "0                   NaN                  NaN               $   \n",
       "1                   NaN  2024-06-12T13:37:11               $   \n",
       "2                   NaN  2024-06-12T11:07:29               $   \n",
       "3                   NaN  2024-06-12T12:56:31               $   \n",
       "4                   NaN  2024-06-11T21:33:38               $   \n",
       "...                 ...                  ...             ...   \n",
       "2813                NaN  2023-02-28T16:35:07               $   \n",
       "2822                NaN  2023-02-28T02:59:45               $   \n",
       "2849                NaN  2023-02-17T15:32:52               $   \n",
       "2852                NaN  2023-02-17T14:02:24               $   \n",
       "2956                NaN  2023-01-22T19:13:52               $   \n",
       "\n",
       "                                   address_1 address_2              city  \\\n",
       "0     Sum 1. Barrio Costas. Puertos del Lago       NaN           Escobar   \n",
       "1                                        NaN       NaN               NaN   \n",
       "2        José Hernández 1443 esquina uruguay       NaN           Escobar   \n",
       "3                                        NaN       NaN               NaN   \n",
       "4                                        NaN       NaN               NaN   \n",
       "...                                      ...       ...               ...   \n",
       "2813                                     NaN       NaN               NaN   \n",
       "2822                         Juan Farrel 784       NaN   Valentín Alsina   \n",
       "2849                                     NaN       NaN               NaN   \n",
       "2852                                     NaN       NaN               NaN   \n",
       "2956                            Terrada 5072       NaN  Villa Pueyrredon   \n",
       "\n",
       "     state postcode billing_horario finalizacion billing_tematica  \\\n",
       "0      NaN      NaN           13:00        16:00           Safari   \n",
       "1      NaN      NaN             NaN          NaN              NaN   \n",
       "2      NaN      NaN           13:00        17:00    Osito nórdico   \n",
       "3      NaN      NaN             NaN          NaN              NaN   \n",
       "4      NaN      NaN             NaN          NaN              NaN   \n",
       "...    ...      ...             ...          ...              ...   \n",
       "2813   NaN      NaN             NaN          NaN              NaN   \n",
       "2822   NaN     1822             NaN          NaN             Cars   \n",
       "2849   NaN      NaN             NaN          NaN              NaN   \n",
       "2852   NaN      NaN             NaN          NaN              NaN   \n",
       "2956   NaN     1419             NaN          NaN              NaN   \n",
       "\n",
       "     billing_nombre billing_edad billing_lugar      Estado  Edad  \\\n",
       "0             Danae            6           SUM         NaN   NaN   \n",
       "1               NaN          NaN           NaN   pendiente   0.0   \n",
       "2             Piero            1        Quinta   pendiente   1.0   \n",
       "3               NaN          NaN           NaN   pendiente   0.0   \n",
       "4               NaN          NaN           NaN  confirmado   1.0   \n",
       "...             ...          ...           ...         ...   ...   \n",
       "2813            NaN          NaN           NaN  finalizado   1.0   \n",
       "2822       Giovanni            2           NaN  finalizado   2.0   \n",
       "2849            NaN          NaN           NaN  completado   1.0   \n",
       "2852            NaN          NaN           NaN  completado   1.0   \n",
       "2956       Santiago            1           NaN  completado   1.0   \n",
       "\n",
       "           Tematica                Fin_evento   Lugar  \\\n",
       "0               NaN                       NaT     NaN   \n",
       "1               NaN                       NaT     NaN   \n",
       "2     Osito nórdico 2024-07-13 20:00:00+00:00  Quinta   \n",
       "3               NaN                       NaT     NaN   \n",
       "4             koala 2024-08-10 23:00:00+00:00    Casa   \n",
       "...             ...                       ...     ...   \n",
       "2813       Rey León 2023-09-01 03:00:00+00:00   Salón   \n",
       "2822           Cars 2023-09-05 03:00:00+00:00   Salón   \n",
       "2849         mickey 2023-09-23 03:00:00+00:00   Salón   \n",
       "2852         ositos 2023-09-17 01:00:00+00:00   Salón   \n",
       "2956            oso 2023-10-07 19:00:00+00:00   Salón   \n",
       "\n",
       "                       Created       Inicio_evento            fecha  \\\n",
       "0                          NaT 2024-07-13 00:00:00              NaN   \n",
       "1    2024-06-12 13:38:48+00:00 2024-06-12 13:35:45              NaN   \n",
       "2    2024-06-12 11:08:16+00:00 2024-07-13 00:00:00              NaN   \n",
       "3    2024-06-12 12:57:09+00:00 2024-06-11 23:35:50       sep 7 2024   \n",
       "4    2024-06-11 21:35:13+00:00 2024-08-10 18:00:00      aug 10 2024   \n",
       "...                        ...                 ...              ...   \n",
       "2813 2023-11-03 12:58:17+00:00 2023-09-01 20:00:00      1/9/23/2023   \n",
       "2822 2023-11-03 13:12:45+00:00 2023-09-06 02:58:00              NaN   \n",
       "2849 2023-11-03 13:21:25+00:00 2023-09-23 15:30:00  23/09/2023/2023   \n",
       "2852 2023-11-03 13:18:38+00:00 2023-09-16 21:00:00       16/09/2023   \n",
       "2956 2023-11-03 14:10:40+00:00 2023-10-07 15:00:00        7/10/2023   \n",
       "\n",
       "     fecha_complete anio_evento_temp  anticipacion_reserva_dias  \n",
       "0               NaT             2024                         30  \n",
       "1               NaT             2024                          0  \n",
       "2               NaT             2024                         30  \n",
       "3               NaT             2024                          0  \n",
       "4               NaT             2024                         60  \n",
       "...             ...              ...                        ...  \n",
       "2813            NaT             2023                        185  \n",
       "2822            NaT             2023                        189  \n",
       "2849            NaT             2023                        218  \n",
       "2852            NaT             2023                        211  \n",
       "2956            NaT             2023                        257  \n",
       "\n",
       "[2110 rows x 37 columns]"
      ]
     },
     "execution_count": 139,
     "metadata": {},
     "output_type": "execute_result"
    }
   ],
   "source": [
    "df_pedidos_wc_sh"
   ]
  },
  {
   "cell_type": "markdown",
   "metadata": {},
   "source": [
    "## Box plot Anticipación de reserva de pedidos"
   ]
  },
  {
   "cell_type": "code",
   "execution_count": 140,
   "metadata": {},
   "outputs": [
    {
     "data": {
      "text/plain": [
       "Text(0.5, 0, 'Días de anticipación')"
      ]
     },
     "execution_count": 140,
     "metadata": {},
     "output_type": "execute_result"
    },
    {
     "data": {
      "image/png": "[encoded data removed]",
      "text/plain": [
       "<Figure size 640x480 with 1 Axes>"
      ]
     },
     "metadata": {},
     "output_type": "display_data"
    }
   ],
   "source": [
    "sns.boxplot(x=df_pedidos_wc_sh['anticipacion_reserva_dias'])\n",
    "plt.title('Anticipación de reserva de pedidos')\n",
    "plt.xlabel('Días de anticipación')"
   ]
  },
  {
   "cell_type": "markdown",
   "metadata": {},
   "source": [
    "Claramente tenemos outliers, ya que no puede haber un evento que suceda previo a su reserva. \n",
    "\n",
    "Vamos a ver cuantos datos son"
   ]
  },
  {
   "cell_type": "code",
   "execution_count": 142,
   "metadata": {},
   "outputs": [
    {
     "name": "stdout",
     "output_type": "stream",
     "text": [
      "Cantidad de pedidos donde sucedió el evento antes de la reserva (mal cargados): 29\n"
     ]
    }
   ],
   "source": [
    "pedidos_mal_fecha = df_pedidos_wc_sh[df_pedidos_wc_sh['anticipacion_reserva_dias']<=0]['Title'].count()\n",
    "print(\"Cantidad de pedidos donde sucedió el evento antes de la reserva (mal cargados):\", pedidos_mal_fecha)"
   ]
  },
  {
   "cell_type": "code",
   "execution_count": 143,
   "metadata": {},
   "outputs": [],
   "source": [
    "df_pedidos_wc_sh = df_pedidos_wc_sh[df_pedidos_wc_sh['anticipacion_reserva_dias']>0]"
   ]
  },
  {
   "cell_type": "code",
   "execution_count": 144,
   "metadata": {},
   "outputs": [
    {
     "data": {
      "text/plain": [
       "Text(0.5, 0, 'Días de anticipación')"
      ]
     },
     "execution_count": 144,
     "metadata": {},
     "output_type": "execute_result"
    },
    {
     "data": {
      "image/png": "[encoded data removed]",
      "text/plain": [
       "<Figure size 640x480 with 1 Axes>"
      ]
     },
     "metadata": {},
     "output_type": "display_data"
    }
   ],
   "source": [
    "sns.boxplot(x=df_pedidos_wc_sh['anticipacion_reserva_dias'])\n",
    "plt.title('Anticipación de reserva de pedidos')\n",
    "plt.xlabel('Días de anticipación')"
   ]
  },
  {
   "cell_type": "markdown",
   "metadata": {},
   "source": [
    "Por otro lado vamos a eliminar al outlier de apróximadamente 500 días independientemente de si está bien o mal cargado. Solo por el concepto de ser un outlier"
   ]
  },
  {
   "cell_type": "code",
   "execution_count": 145,
   "metadata": {},
   "outputs": [],
   "source": [
    "df_pedidos_wc_sh = df_pedidos_wc_sh[df_pedidos_wc_sh['anticipacion_reserva_dias']<400]"
   ]
  },
  {
   "cell_type": "code",
   "execution_count": 146,
   "metadata": {},
   "outputs": [
    {
     "data": {
      "text/plain": [
       "Text(0.5, 0, 'Días de anticipación')"
      ]
     },
     "execution_count": 146,
     "metadata": {},
     "output_type": "execute_result"
    },
    {
     "data": {
      "image/png": "[encoded data removed]",
      "text/plain": [
       "<Figure size 640x480 with 1 Axes>"
      ]
     },
     "metadata": {},
     "output_type": "display_data"
    }
   ],
   "source": [
    "sns.boxplot(x=df_pedidos_wc_sh['anticipacion_reserva_dias'])\n",
    "plt.title('Anticipación de reserva de pedidos')\n",
    "plt.xlabel('Días de anticipación')"
   ]
  },
  {
   "cell_type": "markdown",
   "metadata": {},
   "source": [
    "Ahora podemos graficar con un histograma la distribución de días de anticipación de reserva de un evento"
   ]
  },
  {
   "cell_type": "code",
   "execution_count": 147,
   "metadata": {},
   "outputs": [
    {
     "data": {
      "text/plain": [
       "Text(0, 0.5, 'Frecuencia')"
      ]
     },
     "execution_count": 147,
     "metadata": {},
     "output_type": "execute_result"
    },
    {
     "data": {
      "image/png": "[encoded data removed]",
      "text/plain": [
       "<Figure size 640x480 with 1 Axes>"
      ]
     },
     "metadata": {},
     "output_type": "display_data"
    }
   ],
   "source": [
    "sns.histplot(df_pedidos_wc_sh['anticipacion_reserva_dias'], kde=True, color='blue', bins=20)\n",
    "\n",
    "plt.title('Anticipación de reserva de pedidos')\n",
    "plt.xlabel('Días de anticipación')\n",
    "plt.ylabel('Frecuencia')"
   ]
  },
  {
   "cell_type": "markdown",
   "metadata": {},
   "source": []
  },
  {
   "cell_type": "code",
   "execution_count": 148,
   "metadata": {},
   "outputs": [
    {
     "data": {
      "text/plain": [
       "count    2080.000000\n",
       "mean       68.427885\n",
       "std        56.179800\n",
       "min         1.000000\n",
       "25%        27.000000\n",
       "50%        51.000000\n",
       "75%        96.000000\n",
       "max       305.000000\n",
       "Name: anticipacion_reserva_dias, dtype: float64"
      ]
     },
     "execution_count": 148,
     "metadata": {},
     "output_type": "execute_result"
    }
   ],
   "source": [
    "df_pedidos_wc_sh['anticipacion_reserva_dias'].describe()"
   ]
  }
 ],
 "metadata": {
  "kernelspec": {
   "display_name": "mlvirtualenv",
   "language": "python",
   "name": "python3"
  },
  "language_info": {
   "codemirror_mode": {
    "name": "ipython",
    "version": 3
   },
   "file_extension": ".py",
   "mimetype": "text/x-python",
   "name": "python",
   "nbconvert_exporter": "python",
   "pygments_lexer": "ipython3",
   "version": "3.10.12"
  }
 },
 "nbformat": 4,
 "nbformat_minor": 2
}
