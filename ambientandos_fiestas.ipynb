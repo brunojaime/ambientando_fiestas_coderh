{
  "cells": [
    {
      "cell_type": "markdown",
      "source": [
        "<a href=\"https://colab.research.google.com/github/brunojaime/ambientando_fiestas_coderh/blob/main/ambientandos_fiestas.ipynb\" target=\"_parent\"><img src=\"https://colab.research.google.com/assets/colab-badge.svg\" alt=\"Open In Colab\"/></a>\n"
      ],
      "metadata": {
        "id": "y864Zd2nY3V3"
      }
    },
    {
      "cell_type": "markdown",
      "metadata": {
        "id": "oO0LUm91Y122"
      },
      "source": [
        "# Ambientando Fiestas\n",
        "Este notebook está relacionado a la organización Ambientando Fiestas y se divide en dos partes.\n",
        "\n",
        "- Obtenación de datos:\n",
        "Tiene como objetivo importar toda la información necesaria para poder hacer un posterior análisis y ciencia de datos de la información obtenida de la organización de eventos Ambientando Fiestas\n",
        "\n",
        "*Esta sección no podrá ser ejecutada ya que requiere credenciales, sin embargo se ve el paso a paso de su ejecución*\n",
        "- Exploración de datos\n",
        "Dedicado al análisis y exploración del conjunto de datos proporcionado mediante la extracción de información de la API de WooCommerce y SharePoints Lists. El objetivo es aplicar metodologías de ciencia de datos para descubrir percepciones, tendencias y patrones que puedan informar los procesos de toma de decisiones.\n",
        "\n",
        "## IMPORTANTE\n",
        "Se deben ejecutar las celdas desde el punto 6. Ya que las partes anteriores requieren credenciales (Igualmente, se ve el proceso de obtención de datos)"
      ]
    },
    {
      "cell_type": "markdown",
      "metadata": {
        "id": "H74ZfcyaY123"
      },
      "source": [
        "# 1) Motivación\n",
        "La motivación de este pryoecto surge de poder utilizar los conocimientos aprendidos en el curso de coder house de ciencia de datos aplicándolo a un caso real obteniendo la información desde diferentes fuentes, lo cual implica una extracción, transformación y carga de los datos (ETL).\n",
        "Por otro lado, el data set planteado está en constante crecimiento, por lo tanto se espera poder contar con mayores datos a lo largo del tiempo. Esto genera una motivación en poder ver la tendencia de datos a medida que el dataset vaya creciendo"
      ]
    },
    {
      "cell_type": "markdown",
      "metadata": {
        "id": "OLuDpESdY123"
      },
      "source": [
        "# 2) Objetivos\n",
        "- Lograr una buena implementación en cuanto a la adquisición de datos de las dos fuentes involucradas: Un e-commerce, datos de la aplicación gestionada internamente\n",
        "- Data wrangling: Procesar los datos obtenidos. Entender los desafíos que tienen estos datos, incluyendo datos faltantes, datos mal formateados e intentar corregirlos\n",
        "- Generar distintas respuestas a problemas de negocio: Los datos involucrados pueden responder las distintas inquietudes que tiene la organización, y esto servir para una mejor planificación y organización del negocio\n",
        "- Generar valor a partir de los datos y poder descubrir información que aún no está siendo analizada"
      ]
    },
    {
      "cell_type": "markdown",
      "metadata": {
        "id": "z24nk_cxY124"
      },
      "source": [
        "# 3) Negocio: Ambientando Fiestas\n",
        "Ambientando Fiestas es un modelo de negocio que brinda servicios de decoración de eventos y candy bar."
      ]
    },
    {
      "cell_type": "code",
      "execution_count": null,
      "metadata": {
        "id": "8qfy4ZVDY124"
      },
      "outputs": [],
      "source": [
        "#from office365.runtime.auth.client_credential import ClientCredential\n",
        "#from office365.sharepoint.client_context import ClientContext\n",
        "# Configuración de SharePoint\n",
        "#from msal import ConfidentialClientApplication\n",
        "import pandas as pd\n",
        "import matplotlib.pyplot as plt\n",
        "import seaborn as sns"
      ]
    },
    {
      "cell_type": "markdown",
      "metadata": {
        "id": "mNBMc3m7Y125"
      },
      "source": [
        "# 4) Problemas de Negocio"
      ]
    },
    {
      "cell_type": "markdown",
      "metadata": {
        "id": "_cWflEtFY125"
      },
      "source": [
        "1) ¿Cuánto tiempo antes al día del evento reserva la gente?​\n",
        "2) Se requieren visualizar cantidad de fiestas por mes​\n",
        "3) ¿Cómo determino cuál es el momento que más gente necesito contratar?​\n",
        "4) ¿Cómo determinar cantidad de personal por zona​\n",
        "5) ¿La gente reincide con la organización? ¿Compra los mismos productos?​"
      ]
    },
    {
      "cell_type": "markdown",
      "metadata": {
        "id": "Boi6f9FsY125"
      },
      "source": [
        "# 5) Obtención y guardado de datos"
      ]
    },
    {
      "cell_type": "markdown",
      "metadata": {
        "id": "G_MjPdKaY126"
      },
      "source": [
        "### Configurando el diccionario de credenciales"
      ]
    },
    {
      "cell_type": "code",
      "execution_count": null,
      "metadata": {
        "id": "HM33ska9Y126"
      },
      "outputs": [],
      "source": [
        "# Las siguientes credenciales fueron guardadas en la máquina personal para poder acceder a las listas de sharepoint mediante Azure Active directory\n",
        "\n",
        "credentials =  {\n",
        "\"client_id\" : \"\",\n",
        "\"tenant_id\" :\"\",\n",
        "\"client_secret\" : \"\",\n",
        "\"cert_thumbrs\" :\"\",\n",
        "\"private_key\" : \"\"\"\n",
        "\"\"\"\n",
        "}\n",
        "\n"
      ]
    },
    {
      "cell_type": "markdown",
      "metadata": {
        "id": "RUNY1cd_Y126"
      },
      "source": [
        "<a name='3'></a>\n",
        "## Configuraciones de sharepoint\n",
        "\n",
        "\n"
      ]
    },
    {
      "cell_type": "code",
      "execution_count": null,
      "metadata": {
        "id": "C1wC3bdmY126"
      },
      "outputs": [],
      "source": [
        "sharepoint_config ={\n",
        "\"tenant\" : \"https://ambientandofiestas.sharepoint.com\" ,\n",
        "\"site\" :\"Ambientandofiestas\"\n",
        "}"
      ]
    },
    {
      "cell_type": "markdown",
      "metadata": {
        "id": "KUAqSqaRY126"
      },
      "source": [
        "### Guardando credenciales y configuraciones"
      ]
    },
    {
      "cell_type": "code",
      "execution_count": null,
      "metadata": {
        "id": "ytrHOqaYY127"
      },
      "outputs": [],
      "source": [
        "# Estee código solo puede ser ejecutado desde la máquina personal\n",
        "\n",
        "import json\n",
        "import os\n",
        "\n",
        "path = \"~/.microsoft\"\n",
        "\n",
        "credential_path = {\n",
        "    \"path\" :f\"{path}/credentials\",\n",
        "    \"data\": credentials\n",
        "}\n",
        "config_path = {\n",
        "    \"path\" : f\"{path}/sharepoint_settings\",\n",
        "    \"data\" : sharepoint_config\n",
        "}\n",
        "\n",
        "paths = [credential_path,config_path]\n",
        "\n",
        "for file_path in paths:\n",
        "    expanded_root = os.path.expanduser(file_path['path'])\n",
        "    with (open(expanded_root,'w') as file):\n",
        "        json.dump(file_path['data'],file)\n",
        "\n"
      ]
    },
    {
      "cell_type": "markdown",
      "metadata": {
        "id": "RZj9f8NPY127"
      },
      "source": [
        "### Obteniendo las credenciales y configuraciones de sharepoint"
      ]
    },
    {
      "cell_type": "code",
      "execution_count": null,
      "metadata": {
        "id": "uNnFcX_7Y127"
      },
      "outputs": [],
      "source": [
        "# Reading jsons data\n",
        "\n",
        "#Credentials\n",
        "expanded_root = os.path.expanduser(credential_path['path'])\n",
        "with open(expanded_root, 'r') as file:\n",
        "    credentials_data = json.load(file)\n",
        "client_id = credentials_data[\"client_id\"]\n",
        "tenant_id = credentials_data[\"tenant_id\"]\n",
        "cert_thumbrs = credentials_data[\"cert_thumbrs\"]\n",
        "private_key = credentials['private_key']\n",
        "\n",
        "#Sharepoint_config\n",
        "expanded_root = os.path.expanduser(config_path['path'])\n",
        "with open(expanded_root, 'r') as file:\n",
        "    config_data = json.load(file)\n",
        "tenant = config_data['tenant']\n",
        "site = config_data['site']\n",
        "\n"
      ]
    },
    {
      "cell_type": "markdown",
      "metadata": {
        "id": "zJ4LW4FvY127"
      },
      "source": [
        "### Getting the token to makes the api calls"
      ]
    },
    {
      "cell_type": "code",
      "execution_count": null,
      "metadata": {
        "id": "3ZKqZxUOY127",
        "outputId": "ba52ef8e-259a-485b-ca17-fdb1c4d5d941"
      },
      "outputs": [
        {
          "name": "stdout",
          "output_type": "stream",
          "text": [
            "Access token: token\n"
          ]
        }
      ],
      "source": [
        "from cryptography.hazmat.primitives import serialization\n",
        "from cryptography.hazmat.backends import default_backend\n",
        "\n",
        "cert = {\n",
        "    \"private_key\" : private_key,\n",
        "    \"thumbprint\": cert_thumbrs\n",
        "}\n",
        "\n",
        "authority = f\"https://login.microsoftonline.com/{tenant_id}\"\n",
        "scope = [f\"{tenant}/.default\"]  # Adjust the scope to sharepoint\n",
        "\n",
        "# Create app instance\n",
        "app = ConfidentialClientApplication(\n",
        "    client_id,\n",
        "    authority=authority,\n",
        "    client_credential=cert\n",
        ")\n",
        "\n",
        "# Get token\n",
        "result = app.acquire_token_for_client(scopes=scope)\n",
        "\n",
        "if 'access_token' in result:\n",
        "    token = result['access_token']\n",
        "    print(\"Access token: token\")\n",
        "else:\n",
        "    print(\"no se pudo\")\n",
        "    print(\"Falló el acceso a la obtención del tokem. Error:\", result.get(\"error\"), result.get(\"Descripción del error\"))"
      ]
    },
    {
      "cell_type": "code",
      "execution_count": null,
      "metadata": {
        "id": "5NNwwXEdY128",
        "outputId": "2544a701-c7dd-4354-b331-e2c10ee7eb01"
      },
      "outputs": [
        {
          "data": {
            "text/plain": [
              "<Response [403]>"
            ]
          },
          "execution_count": 284,
          "metadata": {},
          "output_type": "execute_result"
        }
      ],
      "source": [
        "import requests\n",
        "\n",
        "headers = {\n",
        "    \"Authorization\": f\"Bearer {token}\",\n",
        "    \"Accept\": \"application/json;odata=verbose\",\n",
        "    \"Content-Type\": \"application/json\",\n",
        "}\n",
        "# Sharepoint URL site\n",
        "site_url = f\"{tenant}/sites/{site}\"\n",
        "response = requests.get(site_url,headers)\n",
        "response"
      ]
    },
    {
      "cell_type": "code",
      "execution_count": null,
      "metadata": {
        "id": "PjBK9a4ZY128"
      },
      "outputs": [],
      "source": [
        "import requests\n",
        "from typing import List, Dict, Any\n",
        "\n",
        "class SharePointList:\n",
        "    def __init__(self, url: str, list_name: str, headers: Dict[str, str]):\n",
        "        self.site_url = url\n",
        "        self.name = list_name\n",
        "        self.headers = headers\n",
        "\n",
        "    def get_all_items(self, retrieve_all_data: bool = True, fields: List[str] = []) -> List[Any]:\n",
        "        all_data = []\n",
        "        api_url = self.site_url\n",
        "        if fields:\n",
        "            fields_string = \",\".join(fields)\n",
        "            api_url = f\"{api_url}/_api/web/lists/getByTitle('{self.name}')/items?$select={fields_string}\"\n",
        "        else:\n",
        "            api_url = f\"{api_url}/_api/web/lists/getByTitle('{self.name}')/items\"\n",
        "\n",
        "        if retrieve_all_data:\n",
        "            while api_url:\n",
        "                response = requests.get(api_url, headers=self.headers)\n",
        "                if response.status_code == 200:\n",
        "                    data = response.json()\n",
        "                    all_data.extend(data['d']['results'])\n",
        "                    api_url = data['d'].get('__next')\n",
        "                else:\n",
        "                    print(f\"Error fetching the data {response.status_code}\")\n",
        "                    break\n",
        "        else:\n",
        "            response = requests.get(api_url, headers=self.headers)\n",
        "            if response.status_code == 200:\n",
        "                data = response.json()\n",
        "                all_data.extend(data['d']['results'])\n",
        "            else:\n",
        "                print(f\"Error fetching the data {response.status_code}\")\n",
        "\n",
        "        return all_data\n"
      ]
    },
    {
      "cell_type": "markdown",
      "metadata": {
        "id": "YbBltx1FY128"
      },
      "source": [
        "## Obteniendo información"
      ]
    },
    {
      "cell_type": "markdown",
      "metadata": {
        "id": "FjrSOGP4Y12-"
      },
      "source": [
        "## Sharepoint lists"
      ]
    },
    {
      "cell_type": "markdown",
      "metadata": {
        "id": "vnVikD3-Y12-"
      },
      "source": [
        "### Pedidos"
      ]
    },
    {
      "cell_type": "code",
      "execution_count": null,
      "metadata": {
        "id": "-QXoKrKZY12-",
        "outputId": "c599b7a5-b592-49fa-80f9-d2d213333a5b"
      },
      "outputs": [
        {
          "data": {
            "text/html": [
              "<div>\n",
              "<style scoped>\n",
              "    .dataframe tbody tr th:only-of-type {\n",
              "        vertical-align: middle;\n",
              "    }\n",
              "\n",
              "    .dataframe tbody tr th {\n",
              "        vertical-align: top;\n",
              "    }\n",
              "\n",
              "    .dataframe thead th {\n",
              "        text-align: right;\n",
              "    }\n",
              "</style>\n",
              "<table border=\"1\" class=\"dataframe\">\n",
              "  <thead>\n",
              "    <tr style=\"text-align: right;\">\n",
              "      <th></th>\n",
              "      <th>Title</th>\n",
              "      <th>Estado</th>\n",
              "      <th>Usuario</th>\n",
              "      <th>Edad</th>\n",
              "      <th>Tematica</th>\n",
              "      <th>Inicio_evento</th>\n",
              "      <th>Fin_evento</th>\n",
              "      <th>Lugar</th>\n",
              "      <th>Created</th>\n",
              "    </tr>\n",
              "  </thead>\n",
              "  <tbody>\n",
              "    <tr>\n",
              "      <th>0</th>\n",
              "      <td>7473</td>\n",
              "      <td>finalizado</td>\n",
              "      <td>Alejandrasarro@gmail.com</td>\n",
              "      <td>6</td>\n",
              "      <td>n/a</td>\n",
              "      <td>2024-05-19T14:23:00Z</td>\n",
              "      <td>2024-05-19T03:00:00Z</td>\n",
              "      <td>SUM</td>\n",
              "      <td>2023-09-08T14:27:24Z</td>\n",
              "    </tr>\n",
              "    <tr>\n",
              "      <th>1</th>\n",
              "      <td>8096</td>\n",
              "      <td>confirmado</td>\n",
              "      <td>pcouceiro88@gmail.com</td>\n",
              "      <td>3</td>\n",
              "      <td>No sabemos</td>\n",
              "      <td>2024-05-14T19:30:00Z</td>\n",
              "      <td>2024-05-14T22:00:00Z</td>\n",
              "      <td>Casa</td>\n",
              "      <td>2023-10-31T10:03:25Z</td>\n",
              "    </tr>\n",
              "    <tr>\n",
              "      <th>2</th>\n",
              "      <td>8222</td>\n",
              "      <td>completado</td>\n",
              "      <td>bolomariapaz@gmail.com</td>\n",
              "      <td>1</td>\n",
              "      <td>animalitos en safari</td>\n",
              "      <td>2024-06-30T16:00:00Z</td>\n",
              "      <td>2024-06-30T20:00:00Z</td>\n",
              "      <td>Casa</td>\n",
              "      <td>2023-11-08T15:09:40Z</td>\n",
              "    </tr>\n",
              "    <tr>\n",
              "      <th>3</th>\n",
              "      <td>8319</td>\n",
              "      <td>confirmado</td>\n",
              "      <td>daia2505@hotmail.com</td>\n",
              "      <td>1</td>\n",
              "      <td>mickey y sus amigos</td>\n",
              "      <td>2024-06-15T03:00:00Z</td>\n",
              "      <td>2024-06-15T03:00:00Z</td>\n",
              "      <td>Salón</td>\n",
              "      <td>2023-11-15T18:21:22Z</td>\n",
              "    </tr>\n",
              "    <tr>\n",
              "      <th>4</th>\n",
              "      <td>8584</td>\n",
              "      <td>confirmado</td>\n",
              "      <td>camilatovani52@gmail.com</td>\n",
              "      <td>1</td>\n",
              "      <td>Carrusel</td>\n",
              "      <td>2024-08-06T22:00:00Z</td>\n",
              "      <td>2024-08-07T01:00:00Z</td>\n",
              "      <td>Salón</td>\n",
              "      <td>2023-12-17T19:01:35Z</td>\n",
              "    </tr>\n",
              "  </tbody>\n",
              "</table>\n",
              "</div>"
            ],
            "text/plain": [
              "  Title      Estado                   Usuario  Edad              Tematica  \\\n",
              "0  7473  finalizado  Alejandrasarro@gmail.com     6                   n/a   \n",
              "1  8096  confirmado     pcouceiro88@gmail.com     3            No sabemos   \n",
              "2  8222  completado    bolomariapaz@gmail.com     1  animalitos en safari   \n",
              "3  8319  confirmado      daia2505@hotmail.com     1   mickey y sus amigos   \n",
              "4  8584  confirmado  camilatovani52@gmail.com     1              Carrusel   \n",
              "\n",
              "          Inicio_evento            Fin_evento  Lugar               Created  \n",
              "0  2024-05-19T14:23:00Z  2024-05-19T03:00:00Z    SUM  2023-09-08T14:27:24Z  \n",
              "1  2024-05-14T19:30:00Z  2024-05-14T22:00:00Z   Casa  2023-10-31T10:03:25Z  \n",
              "2  2024-06-30T16:00:00Z  2024-06-30T20:00:00Z   Casa  2023-11-08T15:09:40Z  \n",
              "3  2024-06-15T03:00:00Z  2024-06-15T03:00:00Z  Salón  2023-11-15T18:21:22Z  \n",
              "4  2024-08-06T22:00:00Z  2024-08-07T01:00:00Z  Salón  2023-12-17T19:01:35Z  "
            ]
          },
          "execution_count": 287,
          "metadata": {},
          "output_type": "execute_result"
        }
      ],
      "source": [
        "elements = [\"Title\",\"Estado\",\"Usuario\",\"Edad\",\"Homenajeado\",\"Tematica\",\"Horario\",\"FinEvento\",\"Lugar\",\"Created\"]\n",
        "\n",
        "pedidos_actuales = SharePointList(url=site_url,list_name=\"Pedidos\",headers=headers)\n",
        "pedidos_actuales_list = pedidos_actuales.get_all_items(retrieve_all_data=True,fields=elements)\n",
        "df_pedidos_actuales = pd.DataFrame(pedidos_actuales_list)\n",
        "\n",
        "pedidos_finalizados = SharePointList(url=site_url,list_name=\"Pedidos finalizados\",headers=headers)\n",
        "pedidos_finalizados_list = pedidos_finalizados.get_all_items(retrieve_all_data=True,fields=elements)\n",
        "df_pedidos_finalizados = pd.DataFrame(pedidos_finalizados_list)\n",
        "\n",
        "df_pedidos_sh= pd.concat([df_pedidos_actuales,df_pedidos_finalizados])\n",
        "\n",
        "df_pedidos_sh=df_pedidos_sh.drop([\"__metadata\",\"Homenajeado\"],axis=1)\n",
        "\n",
        "df_pedidos_sh = df_pedidos_sh.rename(columns={\"Horario\":\"Inicio_evento\",\"FinEvento\":\"Fin_evento\"})\n",
        "\n",
        "df_pedidos_sh.head()"
      ]
    },
    {
      "cell_type": "code",
      "execution_count": null,
      "metadata": {
        "id": "XCbUpw8RY12-",
        "outputId": "0015990e-afbe-48f4-a2a3-19231a398608"
      },
      "outputs": [
        {
          "name": "stdout",
          "output_type": "stream",
          "text": [
            "<class 'pandas.core.frame.DataFrame'>\n",
            "Index: 1912 entries, 0 to 1463\n",
            "Data columns (total 9 columns):\n",
            " #   Column         Non-Null Count  Dtype \n",
            "---  ------         --------------  ----- \n",
            " 0   Title          1912 non-null   object\n",
            " 1   Estado         1912 non-null   object\n",
            " 2   Usuario        1909 non-null   object\n",
            " 3   Edad           1912 non-null   int64 \n",
            " 4   Tematica       1891 non-null   object\n",
            " 5   Inicio_evento  1912 non-null   object\n",
            " 6   Fin_evento     1889 non-null   object\n",
            " 7   Lugar          1889 non-null   object\n",
            " 8   Created        1912 non-null   object\n",
            "dtypes: int64(1), object(8)\n",
            "memory usage: 149.4+ KB\n"
          ]
        }
      ],
      "source": [
        "df_pedidos_sh.info()"
      ]
    },
    {
      "cell_type": "markdown",
      "metadata": {
        "id": "mvWzAAaXY12_"
      },
      "source": [
        "### Detalle Pedido"
      ]
    },
    {
      "cell_type": "code",
      "execution_count": null,
      "metadata": {
        "id": "KSjh7BRuY12_",
        "outputId": "b2c6663c-3f78-4a15-b0fc-45bce9b58bb2"
      },
      "outputs": [
        {
          "data": {
            "text/html": [
              "<div>\n",
              "<style scoped>\n",
              "    .dataframe tbody tr th:only-of-type {\n",
              "        vertical-align: middle;\n",
              "    }\n",
              "\n",
              "    .dataframe tbody tr th {\n",
              "        vertical-align: top;\n",
              "    }\n",
              "\n",
              "    .dataframe thead th {\n",
              "        text-align: right;\n",
              "    }\n",
              "</style>\n",
              "<table border=\"1\" class=\"dataframe\">\n",
              "  <thead>\n",
              "    <tr style=\"text-align: right;\">\n",
              "      <th></th>\n",
              "      <th>Title</th>\n",
              "      <th>id_producto</th>\n",
              "      <th>id_detalle_pedido</th>\n",
              "      <th>Cantidad</th>\n",
              "      <th>id_pedido</th>\n",
              "    </tr>\n",
              "  </thead>\n",
              "  <tbody>\n",
              "    <tr>\n",
              "      <th>0</th>\n",
              "      <td>6986</td>\n",
              "      <td>5823</td>\n",
              "      <td>3259</td>\n",
              "      <td>1</td>\n",
              "      <td>850</td>\n",
              "    </tr>\n",
              "    <tr>\n",
              "      <th>1</th>\n",
              "      <td>6989</td>\n",
              "      <td>2972</td>\n",
              "      <td>3263</td>\n",
              "      <td>1</td>\n",
              "      <td>855</td>\n",
              "    </tr>\n",
              "    <tr>\n",
              "      <th>2</th>\n",
              "      <td>7000</td>\n",
              "      <td>2975</td>\n",
              "      <td>3273</td>\n",
              "      <td>1</td>\n",
              "      <td>870</td>\n",
              "    </tr>\n",
              "    <tr>\n",
              "      <th>3</th>\n",
              "      <td>7107</td>\n",
              "      <td>5823</td>\n",
              "      <td>3381</td>\n",
              "      <td>1</td>\n",
              "      <td>991</td>\n",
              "    </tr>\n",
              "    <tr>\n",
              "      <th>4</th>\n",
              "      <td>7143</td>\n",
              "      <td>2719</td>\n",
              "      <td>3422</td>\n",
              "      <td>1</td>\n",
              "      <td>1046</td>\n",
              "    </tr>\n",
              "  </tbody>\n",
              "</table>\n",
              "</div>"
            ],
            "text/plain": [
              "  Title  id_producto  id_detalle_pedido  Cantidad  id_pedido\n",
              "0  6986         5823               3259         1        850\n",
              "1  6989         2972               3263         1        855\n",
              "2  7000         2975               3273         1        870\n",
              "3  7107         5823               3381         1        991\n",
              "4  7143         2719               3422         1       1046"
            ]
          },
          "execution_count": 292,
          "metadata": {},
          "output_type": "execute_result"
        }
      ],
      "source": [
        "elements = [\"id_detalle_pedido\",\"id_pedido\",\"Title\",\"id_producto\",\"Cantidad\"]\n",
        "\n",
        "detalle_pedido_actuales = SharePointList(url=site_url,list_name=\"Detalle pedido\",headers=headers)\n",
        "detalle_pedido_actuales_list = detalle_pedido_actuales.get_all_items(retrieve_all_data=True,fields=elements)\n",
        "df_detalle_pedido_actuales = pd.DataFrame(detalle_pedido_actuales_list)\n",
        "\n",
        "detalle_pedido_finalizado = SharePointList(url=site_url,list_name=\"Detalle pedido finalizado\",headers=headers)\n",
        "detalle_pedido_finalizado_list = detalle_pedido_finalizado.get_all_items(retrieve_all_data=True,fields=elements)\n",
        "df_detalle_pedido_finalizado = pd.DataFrame(detalle_pedido_finalizado_list)\n",
        "\n",
        "df_detalle_pedido= pd.concat([df_detalle_pedido_actuales,df_detalle_pedido_finalizado])\n",
        "df_detalle_pedido=df_detalle_pedido.drop(\"__metadata\",axis=1)\n",
        "df_detalle_pedido.head()"
      ]
    },
    {
      "cell_type": "code",
      "execution_count": null,
      "metadata": {
        "id": "bIT083w-Y12_",
        "outputId": "2d3051a5-cfb9-49bf-9ac5-54e59117edae"
      },
      "outputs": [
        {
          "data": {
            "text/plain": [
              "(2769, 5)"
            ]
          },
          "execution_count": 293,
          "metadata": {},
          "output_type": "execute_result"
        }
      ],
      "source": [
        "df_detalle_pedido.shape\n"
      ]
    },
    {
      "cell_type": "markdown",
      "metadata": {
        "id": "MjfdL2FlY12_"
      },
      "source": [
        "### Colaboraciones por pedido"
      ]
    },
    {
      "cell_type": "code",
      "execution_count": null,
      "metadata": {
        "id": "053xQ0SzY12_",
        "outputId": "27eadeb6-dce3-4e22-db86-a040ec55f578"
      },
      "outputs": [
        {
          "data": {
            "text/html": [
              "<div>\n",
              "<style scoped>\n",
              "    .dataframe tbody tr th:only-of-type {\n",
              "        vertical-align: middle;\n",
              "    }\n",
              "\n",
              "    .dataframe tbody tr th {\n",
              "        vertical-align: top;\n",
              "    }\n",
              "\n",
              "    .dataframe thead th {\n",
              "        text-align: right;\n",
              "    }\n",
              "</style>\n",
              "<table border=\"1\" class=\"dataframe\">\n",
              "  <thead>\n",
              "    <tr style=\"text-align: right;\">\n",
              "      <th></th>\n",
              "      <th>Title</th>\n",
              "      <th>id_colaborador</th>\n",
              "      <th>colaboracion</th>\n",
              "      <th>id_pedido</th>\n",
              "    </tr>\n",
              "  </thead>\n",
              "  <tbody>\n",
              "    <tr>\n",
              "      <th>0</th>\n",
              "      <td>7873</td>\n",
              "      <td>32.0</td>\n",
              "      <td>G</td>\n",
              "      <td>2268</td>\n",
              "    </tr>\n",
              "    <tr>\n",
              "      <th>1</th>\n",
              "      <td>7113</td>\n",
              "      <td>28.0</td>\n",
              "      <td>I</td>\n",
              "      <td>2303</td>\n",
              "    </tr>\n",
              "    <tr>\n",
              "      <th>2</th>\n",
              "      <td>6935</td>\n",
              "      <td>28.0</td>\n",
              "      <td>I</td>\n",
              "      <td>2335</td>\n",
              "    </tr>\n",
              "    <tr>\n",
              "      <th>3</th>\n",
              "      <td>6935</td>\n",
              "      <td>28.0</td>\n",
              "      <td>I</td>\n",
              "      <td>2336</td>\n",
              "    </tr>\n",
              "    <tr>\n",
              "      <th>4</th>\n",
              "      <td>7185</td>\n",
              "      <td>28.0</td>\n",
              "      <td>I</td>\n",
              "      <td>2338</td>\n",
              "    </tr>\n",
              "  </tbody>\n",
              "</table>\n",
              "</div>"
            ],
            "text/plain": [
              "  Title  id_colaborador colaboracion  id_pedido\n",
              "0  7873            32.0            G       2268\n",
              "1  7113            28.0            I       2303\n",
              "2  6935            28.0            I       2335\n",
              "3  6935            28.0            I       2336\n",
              "4  7185            28.0            I       2338"
            ]
          },
          "execution_count": 294,
          "metadata": {},
          "output_type": "execute_result"
        }
      ],
      "source": [
        "elements = [\"id_colaborador\",\"colaboracion\",\"Title\",\"estado_colaboracion\",\"id_pedido\"]\n",
        "\n",
        "colaboraciones_por_pedido_actual = SharePointList(url=site_url,list_name=\"Colaboraciones por pedido\",headers=headers)\n",
        "colaboraciones_por_pedido_list = colaboraciones_por_pedido_actual.get_all_items(retrieve_all_data=True,fields=elements)\n",
        "df_colaboraciones_por_pedido = pd.DataFrame(colaboraciones_por_pedido_list)\n",
        "\n",
        "\n",
        "colaboraciones_por_pedido_finalizado = SharePointList(url=site_url,list_name=\"Colaboraciones por pedido finalizados\",headers=headers)\n",
        "colaboraciones_por_pedido_finalizado_list = colaboraciones_por_pedido_finalizado.get_all_items(retrieve_all_data=True,fields=elements)\n",
        "df_colaboraciones_por_pedido_finalizado = pd.DataFrame(colaboraciones_por_pedido_finalizado_list)\n",
        "df_colaboraciones_por_pedido = pd.DataFrame()\n",
        "df_colaboraciones_por_pedido = pd.concat([df_colaboraciones_por_pedido,df_colaboraciones_por_pedido_finalizado])\n",
        "df_colaboraciones_por_pedido=df_colaboraciones_por_pedido.drop(['__metadata','estado_colaboracion'],axis=1)\n",
        "df_colaboraciones_por_pedido.head()\n",
        "\n",
        "\n"
      ]
    },
    {
      "cell_type": "markdown",
      "metadata": {
        "id": "CnVrpmAbY12_"
      },
      "source": [
        "## Obteniendo la información desde el e-commerce (woocommerce)\n",
        "\n",
        "Realizamos la conexión con el e-commerce de la Ambientando Fiestas"
      ]
    },
    {
      "cell_type": "code",
      "execution_count": null,
      "metadata": {
        "id": "SorPnSF4Y13A"
      },
      "outputs": [],
      "source": [
        "# Las siguientes credenciales fueron guardadas en la máquina personal para poder acceder a la api de woocommerce\n",
        "credentials ={\n",
        "\"consumer_key\":\"\",\n",
        "\"consumer_secret\":\"\"\n",
        "}"
      ]
    },
    {
      "cell_type": "markdown",
      "metadata": {
        "id": "kI0t3qkSY13A"
      },
      "source": [
        "## Guardando credenciales y configuración de woocommerce"
      ]
    },
    {
      "cell_type": "code",
      "execution_count": null,
      "metadata": {
        "id": "_vuDqX-cY13A"
      },
      "outputs": [],
      "source": [
        "# Estee código solo puede ser ejecutado desde la máquina personal\n",
        "\n",
        "import json\n",
        "import os\n",
        "\n",
        "path = \"~/.woocommerce\"\n",
        "\n",
        "credential_path = {\n",
        "    \"path\" :f\"{path}/credentials\",\n",
        "    \"data\": credentials\n",
        "}\n",
        "\n",
        "\n",
        "paths = [credential_path]\n",
        "\n",
        "for file_path in paths:\n",
        "    expanded_root = os.path.expanduser(file_path['path'])\n",
        "    with (open(expanded_root,'w') as file):\n",
        "        json.dump(file_path['data'],file)\n",
        "\n"
      ]
    },
    {
      "cell_type": "markdown",
      "metadata": {
        "id": "qtNggMf8Y13A"
      },
      "source": [
        "### Obteniendo las credenciales de woocommerce"
      ]
    },
    {
      "cell_type": "code",
      "execution_count": null,
      "metadata": {
        "id": "nIhK3RWbY13A"
      },
      "outputs": [],
      "source": [
        "# Reading jsons data\n",
        "\n",
        "#Credentials\n",
        "expanded_root = os.path.expanduser(credential_path['path'])\n",
        "with open(expanded_root, 'r') as file:\n",
        "    credentials_data = json.load(file)\n",
        "consumer_key = credentials_data[\"consumer_key\"]\n",
        "consumer_secret = credentials_data[\"consumer_secret\"]\n"
      ]
    },
    {
      "cell_type": "code",
      "execution_count": null,
      "metadata": {
        "id": "yOZNAnhYY13A"
      },
      "outputs": [],
      "source": [
        "from woocommerce import API\n",
        "\n",
        "wcapi = API(\n",
        "    url=\"https://ar.ambientandofiestas.com/\",\n",
        "    consumer_key=consumer_key,\n",
        "    consumer_secret=consumer_secret,\n",
        "    version=\"wc/v3\",\n",
        "    timeout=200\n",
        ")"
      ]
    },
    {
      "cell_type": "markdown",
      "metadata": {
        "id": "hYDcrDkOY13A"
      },
      "source": [
        "Obtener pedidos desde woocommerce"
      ]
    },
    {
      "cell_type": "code",
      "execution_count": null,
      "metadata": {
        "id": "uccN2XESY13A"
      },
      "outputs": [],
      "source": [
        "\n",
        "df_pedidos_wc = pd.DataFrame()\n",
        "registros_por_pagina = 100\n",
        "\n",
        "\n",
        "pagina = 1\n",
        "respuesta = True\n",
        "# Aumenta el timeout a 30 segundos\n",
        "while respuesta:\n",
        "    # Hace la solicitud a la API\n",
        "\n",
        "    respuesta = wcapi.get(\"orders\", params={\"per_page\": registros_por_pagina, \"page\": pagina}).json()\n",
        "    if not respuesta:\n",
        "        break\n",
        "\n",
        "    # Convierte la respuesta en DataFrame y la agrega al DataFrame existente\n",
        "    df_temp = pd.DataFrame(respuesta)\n",
        "    df_pedidos_wc = pd.concat([df_pedidos_wc, df_temp], ignore_index=True)\n",
        "\n",
        "    # Incrementa el número de página\n",
        "    pagina += 1\n",
        "\n",
        "# Muestra los primeros registros para verificar\n",
        "\n"
      ]
    },
    {
      "cell_type": "code",
      "execution_count": null,
      "metadata": {
        "id": "l_zPLJuXY13E",
        "outputId": "07af1c69-0f69-4388-d452-2bc92b535dc7"
      },
      "outputs": [
        {
          "data": {
            "text/html": [
              "<div>\n",
              "<style scoped>\n",
              "    .dataframe tbody tr th:only-of-type {\n",
              "        vertical-align: middle;\n",
              "    }\n",
              "\n",
              "    .dataframe tbody tr th {\n",
              "        vertical-align: top;\n",
              "    }\n",
              "\n",
              "    .dataframe thead th {\n",
              "        text-align: right;\n",
              "    }\n",
              "</style>\n",
              "<table border=\"1\" class=\"dataframe\">\n",
              "  <thead>\n",
              "    <tr style=\"text-align: right;\">\n",
              "      <th></th>\n",
              "      <th>id</th>\n",
              "      <th>parent_id</th>\n",
              "      <th>status</th>\n",
              "      <th>currency</th>\n",
              "      <th>version</th>\n",
              "      <th>prices_include_tax</th>\n",
              "      <th>date_created</th>\n",
              "      <th>date_modified</th>\n",
              "      <th>discount_total</th>\n",
              "      <th>discount_tax</th>\n",
              "      <th>...</th>\n",
              "      <th>payment_url</th>\n",
              "      <th>is_editable</th>\n",
              "      <th>needs_payment</th>\n",
              "      <th>needs_processing</th>\n",
              "      <th>date_created_gmt</th>\n",
              "      <th>date_modified_gmt</th>\n",
              "      <th>date_completed_gmt</th>\n",
              "      <th>date_paid_gmt</th>\n",
              "      <th>currency_symbol</th>\n",
              "      <th>_links</th>\n",
              "    </tr>\n",
              "  </thead>\n",
              "  <tbody>\n",
              "    <tr>\n",
              "      <th>0</th>\n",
              "      <td>10112</td>\n",
              "      <td>0</td>\n",
              "      <td>pending</td>\n",
              "      <td>ARS</td>\n",
              "      <td>8.0.1</td>\n",
              "      <td>False</td>\n",
              "      <td>2024-06-24T15:40:13</td>\n",
              "      <td>2024-06-24T15:42:18</td>\n",
              "      <td>1000</td>\n",
              "      <td>0</td>\n",
              "      <td>...</td>\n",
              "      <td>https://ar.ambientandofiestas.com/checkout/ord...</td>\n",
              "      <td>True</td>\n",
              "      <td>True</td>\n",
              "      <td>True</td>\n",
              "      <td>2024-06-24T15:40:13</td>\n",
              "      <td>2024-06-24T15:42:18</td>\n",
              "      <td>None</td>\n",
              "      <td>None</td>\n",
              "      <td>$</td>\n",
              "      <td>{'self': [{'href': 'https://ar.ambientandofies...</td>\n",
              "    </tr>\n",
              "    <tr>\n",
              "      <th>1</th>\n",
              "      <td>10111</td>\n",
              "      <td>0</td>\n",
              "      <td>pending</td>\n",
              "      <td>ARS</td>\n",
              "      <td>8.0.1</td>\n",
              "      <td>False</td>\n",
              "      <td>2024-06-24T15:28:51</td>\n",
              "      <td>2024-06-24T15:39:58</td>\n",
              "      <td>0</td>\n",
              "      <td>0</td>\n",
              "      <td>...</td>\n",
              "      <td>https://ar.ambientandofiestas.com/checkout/ord...</td>\n",
              "      <td>True</td>\n",
              "      <td>True</td>\n",
              "      <td>True</td>\n",
              "      <td>2024-06-24T15:28:51</td>\n",
              "      <td>2024-06-24T15:39:58</td>\n",
              "      <td>None</td>\n",
              "      <td>None</td>\n",
              "      <td>$</td>\n",
              "      <td>{'self': [{'href': 'https://ar.ambientandofies...</td>\n",
              "    </tr>\n",
              "    <tr>\n",
              "      <th>2</th>\n",
              "      <td>10110</td>\n",
              "      <td>0</td>\n",
              "      <td>on-hold</td>\n",
              "      <td>ARS</td>\n",
              "      <td>8.0.1</td>\n",
              "      <td>False</td>\n",
              "      <td>2024-06-24T15:24:51</td>\n",
              "      <td>2024-06-24T15:24:51</td>\n",
              "      <td>0</td>\n",
              "      <td>0</td>\n",
              "      <td>...</td>\n",
              "      <td>https://ar.ambientandofiestas.com/checkout/ord...</td>\n",
              "      <td>True</td>\n",
              "      <td>False</td>\n",
              "      <td>True</td>\n",
              "      <td>2024-06-24T15:24:51</td>\n",
              "      <td>2024-06-24T15:24:51</td>\n",
              "      <td>None</td>\n",
              "      <td>None</td>\n",
              "      <td>$</td>\n",
              "      <td>{'self': [{'href': 'https://ar.ambientandofies...</td>\n",
              "    </tr>\n",
              "  </tbody>\n",
              "</table>\n",
              "<p>3 rows × 47 columns</p>\n",
              "</div>"
            ],
            "text/plain": [
              "      id  parent_id   status currency version  prices_include_tax  \\\n",
              "0  10112          0  pending      ARS   8.0.1               False   \n",
              "1  10111          0  pending      ARS   8.0.1               False   \n",
              "2  10110          0  on-hold      ARS   8.0.1               False   \n",
              "\n",
              "          date_created        date_modified discount_total discount_tax  ...  \\\n",
              "0  2024-06-24T15:40:13  2024-06-24T15:42:18           1000            0  ...   \n",
              "1  2024-06-24T15:28:51  2024-06-24T15:39:58              0            0  ...   \n",
              "2  2024-06-24T15:24:51  2024-06-24T15:24:51              0            0  ...   \n",
              "\n",
              "                                         payment_url is_editable  \\\n",
              "0  https://ar.ambientandofiestas.com/checkout/ord...        True   \n",
              "1  https://ar.ambientandofiestas.com/checkout/ord...        True   \n",
              "2  https://ar.ambientandofiestas.com/checkout/ord...        True   \n",
              "\n",
              "  needs_payment needs_processing     date_created_gmt    date_modified_gmt  \\\n",
              "0          True             True  2024-06-24T15:40:13  2024-06-24T15:42:18   \n",
              "1          True             True  2024-06-24T15:28:51  2024-06-24T15:39:58   \n",
              "2         False             True  2024-06-24T15:24:51  2024-06-24T15:24:51   \n",
              "\n",
              "  date_completed_gmt date_paid_gmt currency_symbol  \\\n",
              "0               None          None               $   \n",
              "1               None          None               $   \n",
              "2               None          None               $   \n",
              "\n",
              "                                              _links  \n",
              "0  {'self': [{'href': 'https://ar.ambientandofies...  \n",
              "1  {'self': [{'href': 'https://ar.ambientandofies...  \n",
              "2  {'self': [{'href': 'https://ar.ambientandofies...  \n",
              "\n",
              "[3 rows x 47 columns]"
            ]
          },
          "execution_count": 308,
          "metadata": {},
          "output_type": "execute_result"
        }
      ],
      "source": [
        "df_pedidos_wc.head(3)"
      ]
    },
    {
      "cell_type": "markdown",
      "metadata": {
        "id": "pcH7btpDY13E"
      },
      "source": [
        "La columna billing es una columna del tipo json."
      ]
    },
    {
      "cell_type": "code",
      "execution_count": null,
      "metadata": {
        "id": "0yZnDKEyY13F",
        "outputId": "d12f2127-c829-41ea-be87-5ac8f3d2fd84"
      },
      "outputs": [
        {
          "data": {
            "text/plain": [
              "0    {'first_name': 'Rodrigo Diez Ojeda', 'last_nam...\n",
              "1    {'first_name': 'Florencia Gala', 'last_name': ...\n",
              "2    {'first_name': 'Geraldine', 'last_name': 'Ricc...\n",
              "3    {'first_name': 'Florencia Gala', 'last_name': ...\n",
              "4    {'first_name': 'Nadia Ferros', 'last_name': ''...\n",
              "Name: billing, dtype: object"
            ]
          },
          "execution_count": 309,
          "metadata": {},
          "output_type": "execute_result"
        }
      ],
      "source": [
        "df_pedidos_wc['billing'].head()"
      ]
    },
    {
      "cell_type": "markdown",
      "metadata": {
        "id": "El7w3njeY13F"
      },
      "source": [
        "Aplicamos una función para poder obtener todas las columnas dentro de la columnas billing"
      ]
    },
    {
      "cell_type": "code",
      "execution_count": null,
      "metadata": {
        "id": "JRg1lhTqY13F"
      },
      "outputs": [],
      "source": [
        "def getColumnsOfBilling(df_pedidos_woo_commerce):\n",
        "    billing_list = []\n",
        "\n",
        "    for item,column in df_pedidos_woo_commerce.iterrows():\n",
        "\n",
        "        title = f\", 'id': '{column['id']}'}}\"\n",
        "        dict =str(column['billing'])[:-1] + title\n",
        "        billing_list.append(dict)\n",
        "    return billing_list"
      ]
    },
    {
      "cell_type": "code",
      "execution_count": null,
      "metadata": {
        "id": "r1PwKIPbY13F"
      },
      "outputs": [],
      "source": [
        "def convert_to_dict(item,index):\n",
        "    try:\n",
        "        return json.loads(item)\n",
        "    except:\n",
        "        print(f\"No se pudo con el item: {index}\")\n",
        "        return False"
      ]
    },
    {
      "cell_type": "code",
      "execution_count": null,
      "metadata": {
        "id": "1KM5zO4fY13F",
        "outputId": "d62ef716-72c6-437c-f662-6b7bf1340cbe"
      },
      "outputs": [
        {
          "name": "stdout",
          "output_type": "stream",
          "text": [
            "No se pudo con el item: 1014\n",
            "No se pudo con el item: 1235\n",
            "No se pudo con el item: 1623\n",
            "No se pudo con el item: 1787\n",
            "No se pudo con el item: 2281\n",
            "No se pudo con el item: 2498\n",
            "No se pudo con el item: 3072\n",
            "No se pudo con el item: 3158\n",
            "No se pudo con el item: 3278\n",
            "No se pudo con el item: 3320\n",
            "No se pudo con el item: 3352\n",
            "No se pudo con el item: 3361\n",
            "Total items no válidos 12\n",
            "<class 'pandas.core.frame.DataFrame'>\n",
            "RangeIndex: 3644 entries, 0 to 3643\n",
            "Data columns (total 21 columns):\n",
            " #   Column              Non-Null Count  Dtype              \n",
            "---  ------              --------------  -----              \n",
            " 0   first_name          3644 non-null   object             \n",
            " 1   last_name           3644 non-null   object             \n",
            " 2   company             3644 non-null   object             \n",
            " 3   address_1           3644 non-null   object             \n",
            " 4   address_2           3644 non-null   object             \n",
            " 5   city                3644 non-null   object             \n",
            " 6   state               3644 non-null   object             \n",
            " 7   postcode            3644 non-null   object             \n",
            " 8   country             3644 non-null   object             \n",
            " 9   email               3644 non-null   object             \n",
            " 10  phone               3644 non-null   object             \n",
            " 11  billing_first_name  3644 non-null   object             \n",
            " 12  dni                 3644 non-null   object             \n",
            " 13  Inicio_evento_wc    1115 non-null   datetime64[ns, UTC]\n",
            " 14  billing_horario     3644 non-null   object             \n",
            " 15  finalizacion        3644 non-null   object             \n",
            " 16  billing_tematica    3644 non-null   object             \n",
            " 17  billing_nombre      3644 non-null   object             \n",
            " 18  billing_edad        3644 non-null   object             \n",
            " 19  billing_lugar       3644 non-null   object             \n",
            " 20  id                  3644 non-null   Int64              \n",
            "dtypes: Int64(1), datetime64[ns, UTC](1), object(19)\n",
            "memory usage: 601.5+ KB\n"
          ]
        }
      ],
      "source": [
        "billing_list = getColumnsOfBilling(df_pedidos_wc)\n",
        "id_list = df_pedidos_wc['id'].tolist()\n",
        "clean_list = [item.replace('\\\\', '\\\\\\\\').replace(\"'\", '\"') for item in billing_list]\n",
        "\n",
        "total_invalid_items = 0\n",
        "dict = []\n",
        "for index, item in enumerate(clean_list):\n",
        "    if(convert_to_dict(item,index)):\n",
        "        dict.append(convert_to_dict(item,index))\n",
        "    else:\n",
        "        total_invalid_items += 1\n",
        "print(f\"Total items no válidos {total_invalid_items}\")\n",
        "\n",
        "df_billings_ = pd.DataFrame(dict)\n",
        "df_billings_ = df_billings_.rename(columns={'billing_date':'Inicio_evento_wc'})\n",
        "df_billings_['id'] = df_billings_['id'].astype('Int64')\n",
        "df_billings_['Inicio_evento_wc'] = pd.to_datetime(df_billings_['Inicio_evento_wc'],utc=True)\n",
        "#df_billings = df_billings_[['id','Inicio_evento_wc']]\n",
        "df_billings_.head(3)\n",
        "df_billings_.info()\n",
        "df_billings = df_billings_.copy()"
      ]
    },
    {
      "cell_type": "code",
      "execution_count": null,
      "metadata": {
        "id": "IlavSeHmY13F"
      },
      "outputs": [],
      "source": [
        "df_merge_pedidos = pd.merge(df_pedidos_wc,df_billings,left_on='id',right_on='id',how='inner')\n",
        "df_woo_commerce_complete = df_merge_pedidos.copy()\n",
        "df_woo_commerce_complete = df_woo_commerce_complete.rename(columns={\"id\":\"Title\"})\n"
      ]
    },
    {
      "cell_type": "code",
      "execution_count": null,
      "metadata": {
        "id": "zcg9qAaKY13F"
      },
      "outputs": [],
      "source": [
        "df_pedidos_wc = df_woo_commerce_complete.copy()"
      ]
    },
    {
      "cell_type": "markdown",
      "metadata": {
        "id": "MS3fxCFuY13F"
      },
      "source": [
        "Dejamos los datos que nos sirven"
      ]
    },
    {
      "cell_type": "code",
      "execution_count": null,
      "metadata": {
        "id": "cDYTto8AY13F"
      },
      "outputs": [],
      "source": [
        "df_pedidos_sh = df_pedidos_sh.drop(columns=['Usuario'],axis=1)"
      ]
    },
    {
      "cell_type": "code",
      "execution_count": null,
      "metadata": {
        "id": "7P7i6SOmY13F",
        "outputId": "6ab35674-339b-4728-eecf-dd4ab8c3e557"
      },
      "outputs": [
        {
          "data": {
            "text/html": [
              "<div>\n",
              "<style scoped>\n",
              "    .dataframe tbody tr th:only-of-type {\n",
              "        vertical-align: middle;\n",
              "    }\n",
              "\n",
              "    .dataframe tbody tr th {\n",
              "        vertical-align: top;\n",
              "    }\n",
              "\n",
              "    .dataframe thead th {\n",
              "        text-align: right;\n",
              "    }\n",
              "</style>\n",
              "<table border=\"1\" class=\"dataframe\">\n",
              "  <thead>\n",
              "    <tr style=\"text-align: right;\">\n",
              "      <th></th>\n",
              "      <th>Title</th>\n",
              "      <th>status</th>\n",
              "      <th>date_created</th>\n",
              "      <th>date_modified</th>\n",
              "      <th>payment_method</th>\n",
              "      <th>payment_method_title</th>\n",
              "      <th>created_via</th>\n",
              "      <th>customer_note</th>\n",
              "      <th>date_paid</th>\n",
              "      <th>date_created_gmt</th>\n",
              "      <th>...</th>\n",
              "      <th>city</th>\n",
              "      <th>state</th>\n",
              "      <th>postcode</th>\n",
              "      <th>Inicio_evento_wc</th>\n",
              "      <th>billing_horario</th>\n",
              "      <th>finalizacion</th>\n",
              "      <th>billing_tematica</th>\n",
              "      <th>billing_nombre</th>\n",
              "      <th>billing_edad</th>\n",
              "      <th>billing_lugar</th>\n",
              "    </tr>\n",
              "  </thead>\n",
              "  <tbody>\n",
              "    <tr>\n",
              "      <th>0</th>\n",
              "      <td>10112</td>\n",
              "      <td>pending</td>\n",
              "      <td>2024-06-24T15:40:13</td>\n",
              "      <td>2024-06-24T15:42:18</td>\n",
              "      <td></td>\n",
              "      <td></td>\n",
              "      <td>admin</td>\n",
              "      <td>Ruy (nombre de nene)\\r\\n.       Cuantos años c...</td>\n",
              "      <td>None</td>\n",
              "      <td>2024-06-24T15:40:13</td>\n",
              "      <td>...</td>\n",
              "      <td></td>\n",
              "      <td></td>\n",
              "      <td></td>\n",
              "      <td>NaT</td>\n",
              "      <td></td>\n",
              "      <td></td>\n",
              "      <td></td>\n",
              "      <td></td>\n",
              "      <td></td>\n",
              "      <td></td>\n",
              "    </tr>\n",
              "    <tr>\n",
              "      <th>1</th>\n",
              "      <td>10111</td>\n",
              "      <td>pending</td>\n",
              "      <td>2024-06-24T15:28:51</td>\n",
              "      <td>2024-06-24T15:39:58</td>\n",
              "      <td>woo-mercado-pago-custom</td>\n",
              "      <td>Paga con tarjetas de crédito hasta 6 cuotas si...</td>\n",
              "      <td>checkout</td>\n",
              "      <td></td>\n",
              "      <td>None</td>\n",
              "      <td>2024-06-24T15:28:51</td>\n",
              "      <td>...</td>\n",
              "      <td>Sarandí, Avellaneda</td>\n",
              "      <td></td>\n",
              "      <td></td>\n",
              "      <td>2024-08-24 00:00:00+00:00</td>\n",
              "      <td>13:00</td>\n",
              "      <td>17:00</td>\n",
              "      <td>WOODY - TOY STORY</td>\n",
              "      <td>SANTINO</td>\n",
              "      <td>1</td>\n",
              "      <td>Salón</td>\n",
              "    </tr>\n",
              "    <tr>\n",
              "      <th>2</th>\n",
              "      <td>10110</td>\n",
              "      <td>on-hold</td>\n",
              "      <td>2024-06-24T15:24:51</td>\n",
              "      <td>2024-06-24T15:24:51</td>\n",
              "      <td>bacs</td>\n",
              "      <td>Transferencia bancaria  -20%</td>\n",
              "      <td>checkout</td>\n",
              "      <td></td>\n",
              "      <td>None</td>\n",
              "      <td>2024-06-24T15:24:51</td>\n",
              "      <td>...</td>\n",
              "      <td>Guillermo Enrique hudson</td>\n",
              "      <td></td>\n",
              "      <td></td>\n",
              "      <td>2024-06-30 00:00:00+00:00</td>\n",
              "      <td>12:30</td>\n",
              "      <td>17:30</td>\n",
              "      <td>Mariposas</td>\n",
              "      <td>Donatella</td>\n",
              "      <td>1</td>\n",
              "      <td>SUM</td>\n",
              "    </tr>\n",
              "    <tr>\n",
              "      <th>3</th>\n",
              "      <td>10109</td>\n",
              "      <td>cancelled</td>\n",
              "      <td>2024-06-24T15:24:27</td>\n",
              "      <td>2024-06-24T15:25:22</td>\n",
              "      <td>woo-mercado-pago-custom</td>\n",
              "      <td>Paga con tarjetas de crédito hasta 6 cuotas si...</td>\n",
              "      <td>checkout</td>\n",
              "      <td></td>\n",
              "      <td>None</td>\n",
              "      <td>2024-06-24T15:24:27</td>\n",
              "      <td>...</td>\n",
              "      <td>Sarandí, Avellaneda</td>\n",
              "      <td></td>\n",
              "      <td></td>\n",
              "      <td>2024-08-24 00:00:00+00:00</td>\n",
              "      <td>13:00</td>\n",
              "      <td>17:00</td>\n",
              "      <td>WOODY - TOY STORY</td>\n",
              "      <td>SANTINO</td>\n",
              "      <td>1</td>\n",
              "      <td>Salón</td>\n",
              "    </tr>\n",
              "    <tr>\n",
              "      <th>4</th>\n",
              "      <td>10108</td>\n",
              "      <td>processing</td>\n",
              "      <td>2024-06-24T14:32:27</td>\n",
              "      <td>2024-06-24T14:52:28</td>\n",
              "      <td></td>\n",
              "      <td></td>\n",
              "      <td>admin</td>\n",
              "      <td>Nombre de del homenajeado/a: Bautista\\r\\n.    ...</td>\n",
              "      <td>2024-06-24T14:52:28</td>\n",
              "      <td>2024-06-24T14:32:27</td>\n",
              "      <td>...</td>\n",
              "      <td></td>\n",
              "      <td></td>\n",
              "      <td></td>\n",
              "      <td>NaT</td>\n",
              "      <td></td>\n",
              "      <td></td>\n",
              "      <td></td>\n",
              "      <td></td>\n",
              "      <td></td>\n",
              "      <td></td>\n",
              "    </tr>\n",
              "  </tbody>\n",
              "</table>\n",
              "<p>5 rows × 26 columns</p>\n",
              "</div>"
            ],
            "text/plain": [
              "   Title      status         date_created        date_modified  \\\n",
              "0  10112     pending  2024-06-24T15:40:13  2024-06-24T15:42:18   \n",
              "1  10111     pending  2024-06-24T15:28:51  2024-06-24T15:39:58   \n",
              "2  10110     on-hold  2024-06-24T15:24:51  2024-06-24T15:24:51   \n",
              "3  10109   cancelled  2024-06-24T15:24:27  2024-06-24T15:25:22   \n",
              "4  10108  processing  2024-06-24T14:32:27  2024-06-24T14:52:28   \n",
              "\n",
              "            payment_method                               payment_method_title  \\\n",
              "0                                                                               \n",
              "1  woo-mercado-pago-custom  Paga con tarjetas de crédito hasta 6 cuotas si...   \n",
              "2                     bacs                       Transferencia bancaria  -20%   \n",
              "3  woo-mercado-pago-custom  Paga con tarjetas de crédito hasta 6 cuotas si...   \n",
              "4                                                                               \n",
              "\n",
              "  created_via                                      customer_note  \\\n",
              "0       admin  Ruy (nombre de nene)\\r\\n.       Cuantos años c...   \n",
              "1    checkout                                                      \n",
              "2    checkout                                                      \n",
              "3    checkout                                                      \n",
              "4       admin  Nombre de del homenajeado/a: Bautista\\r\\n.    ...   \n",
              "\n",
              "             date_paid     date_created_gmt  ...                      city  \\\n",
              "0                 None  2024-06-24T15:40:13  ...                             \n",
              "1                 None  2024-06-24T15:28:51  ...       Sarandí, Avellaneda   \n",
              "2                 None  2024-06-24T15:24:51  ...  Guillermo Enrique hudson   \n",
              "3                 None  2024-06-24T15:24:27  ...       Sarandí, Avellaneda   \n",
              "4  2024-06-24T14:52:28  2024-06-24T14:32:27  ...                             \n",
              "\n",
              "  state postcode          Inicio_evento_wc billing_horario finalizacion  \\\n",
              "0                                      NaT                                \n",
              "1                2024-08-24 00:00:00+00:00           13:00        17:00   \n",
              "2                2024-06-30 00:00:00+00:00           12:30        17:30   \n",
              "3                2024-08-24 00:00:00+00:00           13:00        17:00   \n",
              "4                                      NaT                                \n",
              "\n",
              "    billing_tematica billing_nombre billing_edad billing_lugar  \n",
              "0                                                               \n",
              "1  WOODY - TOY STORY        SANTINO            1         Salón  \n",
              "2          Mariposas      Donatella            1           SUM  \n",
              "3  WOODY - TOY STORY        SANTINO            1         Salón  \n",
              "4                                                               \n",
              "\n",
              "[5 rows x 26 columns]"
            ]
          },
          "execution_count": 316,
          "metadata": {},
          "output_type": "execute_result"
        }
      ],
      "source": [
        "columns_drop_customer = ['customer_id','customer_ip_address','parent_id','first_name','last_name','company','country','email','phone','billing_first_name','dni']\n",
        "columns_drop_ship_tax = ['shipping','shipping_total','shipping_tax','cart_tax','total_tax','prices_include_tax','shipping_tax','discount_tax','prices_include_tax','currency','tax_lines','shipping_lines','coupon_lines','refunds','billing','needs_payment']\n",
        "columns_drop_pedido = ['version','order_key','discount_total','transaction_id','customer_user_agent','cart_hash','number','payment_url','is_editable','needs_processing','_links','line_items','fee_lines','total']\n",
        "columns_drop_dates = ['date_completed','meta_data']\n",
        "drop_columns=[]\n",
        "drop_columns = columns_drop_customer + columns_drop_ship_tax  + columns_drop_pedido + columns_drop_dates\n",
        "df_pedidos_wc = df_pedidos_wc.drop(columns=drop_columns,axis=1)\n",
        "df_pedidos_wc.head()"
      ]
    },
    {
      "cell_type": "code",
      "execution_count": null,
      "metadata": {
        "id": "ltwynaQ5Y13F"
      },
      "outputs": [],
      "source": [
        "df_pedidos_wc.to_csv('pedidos_wc.csv',index=False)\n",
        "df_pedidos_sh.to_csv('pedidos_sh.csv',index=False)"
      ]
    },
    {
      "cell_type": "markdown",
      "metadata": {
        "id": "21BQs0tgY13F"
      },
      "source": [
        "# 6) Data wrangling"
      ]
    },
    {
      "cell_type": "code",
      "execution_count": null,
      "metadata": {
        "id": "BXtv24kPY13F"
      },
      "outputs": [],
      "source": [
        "import pandas as pd\n",
        "import matplotlib.pyplot as plt\n",
        "import seaborn as sns"
      ]
    },
    {
      "cell_type": "markdown",
      "metadata": {
        "id": "4kBV5SDzY13G"
      },
      "source": [
        "## Descargar los archivos .csv\n",
        "Obtenemos la información de dos archivos csv los cuales son importados desde dos fuentes de datos:\n",
        "- API WooCommerce -> e-commerce utilizado por la organización para realizar los pedidos.\n",
        "- API SharePoint -> Base de datos del sistema de gestión interno que permite hacer una trazabilidad de los eventos"
      ]
    },
    {
      "cell_type": "code",
      "execution_count": null,
      "metadata": {
        "id": "djjTTCjMY13G"
      },
      "outputs": [],
      "source": [
        "df_pedidos_wc =pd.read_csv('https://raw.githubusercontent.com/brunojaime/ambientando_fiestas_coderh/main/pedidos_wc.csv')\n",
        "df_pedidos_sh = pd.read_csv('https://raw.githubusercontent.com/brunojaime/ambientando_fiestas_coderh/main/pedidos_sh.csv')"
      ]
    },
    {
      "cell_type": "markdown",
      "metadata": {
        "id": "oB0ixIf-Y13G"
      },
      "source": [
        "## Combinar los archivos​"
      ]
    },
    {
      "cell_type": "markdown",
      "metadata": {
        "id": "FSb_biOvY13G"
      },
      "source": [
        "Unificamos los key de cada uno para poder realizar la combinación\n",
        "\n",
        "Combinamos los archivos de Sharepoint y WooCommerce para poder tener un dataset unificado y verificar el estado del dataset.\n"
      ]
    },
    {
      "cell_type": "code",
      "execution_count": null,
      "metadata": {
        "id": "Th6Z6zbxY13G",
        "outputId": "cb10dcc9-a69c-4f21-a65d-2606be733b2a"
      },
      "outputs": [
        {
          "name": "stdout",
          "output_type": "stream",
          "text": [
            "<class 'pandas.core.frame.DataFrame'>\n",
            "RangeIndex: 3668 entries, 0 to 3667\n",
            "Data columns (total 33 columns):\n",
            " #   Column                Non-Null Count  Dtype  \n",
            "---  ------                --------------  -----  \n",
            " 0   Title                 3668 non-null   int64  \n",
            " 1   status                3668 non-null   object \n",
            " 2   date_created          3668 non-null   object \n",
            " 3   date_modified         3668 non-null   object \n",
            " 4   payment_method        3086 non-null   object \n",
            " 5   payment_method_title  3086 non-null   object \n",
            " 6   created_via           3663 non-null   object \n",
            " 7   customer_note         2506 non-null   object \n",
            " 8   date_paid             3143 non-null   object \n",
            " 9   date_created_gmt      3668 non-null   object \n",
            " 10  date_modified_gmt     3668 non-null   object \n",
            " 11  date_completed_gmt    535 non-null    object \n",
            " 12  date_paid_gmt         3143 non-null   object \n",
            " 13  currency_symbol       3668 non-null   object \n",
            " 14  address_1             2264 non-null   object \n",
            " 15  address_2             452 non-null    object \n",
            " 16  city                  2251 non-null   object \n",
            " 17  state                 117 non-null    object \n",
            " 18  postcode              736 non-null    object \n",
            " 19  Inicio_evento_wc      1120 non-null   object \n",
            " 20  billing_horario       1706 non-null   object \n",
            " 21  finalizacion          1121 non-null   object \n",
            " 22  billing_tematica      1626 non-null   object \n",
            " 23  billing_nombre        1585 non-null   object \n",
            " 24  billing_edad          1603 non-null   object \n",
            " 25  billing_lugar         1140 non-null   object \n",
            " 26  Estado                1907 non-null   object \n",
            " 27  Edad                  1907 non-null   float64\n",
            " 28  Tematica              1840 non-null   object \n",
            " 29  Inicio_evento         1907 non-null   object \n",
            " 30  Fin_evento            1884 non-null   object \n",
            " 31  Lugar                 1884 non-null   object \n",
            " 32  Created               1907 non-null   object \n",
            "dtypes: float64(1), int64(1), object(31)\n",
            "memory usage: 945.8+ KB\n"
          ]
        }
      ],
      "source": [
        "df_pedidos_wc = df_pedidos_wc.rename(columns={\"id\":\"Title\"})\n",
        "df_pedidos_sh['Title'] = df_pedidos_sh['Title'].astype(int)\n",
        "df_pedidos_wc_sh = pd.merge(df_pedidos_wc,df_pedidos_sh,left_on='Title',right_on='Title',how='left')\n",
        "df_pedidos_wc_sh.info()"
      ]
    },
    {
      "cell_type": "code",
      "execution_count": null,
      "metadata": {
        "id": "lwi4YJhIY13G",
        "outputId": "8aac59d3-9b9f-412a-e7c6-498753feca1c"
      },
      "outputs": [
        {
          "name": "stdout",
          "output_type": "stream",
          "text": [
            "Total registros: 3668\n",
            "Fecha creación primer pedido: ['2022-02-10T18:02:36']\n",
            "Fecha creación primer pedido: ['2024-06-24T15:40:13']\n"
          ]
        }
      ],
      "source": [
        "print(f\"Total registros: {len(df_pedidos_wc_sh['Title'].values)}\")\n",
        "print(f\"Fecha creación primer pedido: {df_pedidos_wc_sh['date_created'].sort_values()[:1].values}\")\n",
        "print(f\"Fecha creación primer pedido: {df_pedidos_wc_sh['date_created'].sort_values(ascending=False)[:1].values}\")"
      ]
    },
    {
      "cell_type": "markdown",
      "metadata": {
        "id": "vPbhMaV0Y13G"
      },
      "source": [
        "## Limpieza de datos"
      ]
    },
    {
      "cell_type": "markdown",
      "metadata": {
        "id": "Bi_-QHqWY13G"
      },
      "source": [
        "### Detección de valores erróneos\n",
        "Hay una serie de estados que no vamos a utilizar ya que se tratan de pedidos que no aportan información a los eventos según nos dijeron desde la organización.\n",
        "Primero vamos a ver todos los estados"
      ]
    },
    {
      "cell_type": "code",
      "execution_count": null,
      "metadata": {
        "id": "matVquhLY13G",
        "outputId": "44e77e01-12db-46d5-b6ca-6bed27e30f3a"
      },
      "outputs": [
        {
          "data": {
            "text/plain": [
              "array(['pending', 'on-hold', 'cancelled', 'processing', 'failed',\n",
              "       'presencial', 'refunded', 'pasteleria', 'completed', 'inflable',\n",
              "       'confirmado', '427contenidodig', 'retiro', 'jesica-silva'],\n",
              "      dtype=object)"
            ]
          },
          "execution_count": 321,
          "metadata": {},
          "output_type": "execute_result"
        }
      ],
      "source": [
        "df_pedidos_wc_sh['status'].unique()"
      ]
    },
    {
      "cell_type": "code",
      "execution_count": null,
      "metadata": {
        "id": "IzNVs4dXY13G",
        "outputId": "175a503a-6bca-4c19-c6fb-6c027fd33f0a"
      },
      "outputs": [
        {
          "data": {
            "text/plain": [
              "status\n",
              "427contenidodig      22\n",
              "cancelled           169\n",
              "completed           190\n",
              "confirmado          967\n",
              "failed              101\n",
              "inflable             62\n",
              "jesica-silva          1\n",
              "on-hold              27\n",
              "pasteleria           34\n",
              "pending               7\n",
              "presencial           21\n",
              "processing         1912\n",
              "refunded            143\n",
              "retiro               12\n",
              "Name: status, dtype: int64"
            ]
          },
          "execution_count": 322,
          "metadata": {},
          "output_type": "execute_result"
        }
      ],
      "source": [
        "df_pedidos_wc_sh.groupby(['status'])['status'].count()"
      ]
    },
    {
      "cell_type": "markdown",
      "metadata": {
        "id": "F1qsgVPrY13G"
      },
      "source": [
        "Los que vamos a sacar luego de conversar con la organización son:\n",
        "- presencial\n",
        "- jesica-silva"
      ]
    },
    {
      "cell_type": "code",
      "execution_count": null,
      "metadata": {
        "id": "Jq0inXrdY13G"
      },
      "outputs": [],
      "source": [
        "status_a_eliminar = ['jesica-silva','presencial']\n",
        "df_pedidos_wc_sh = df_pedidos_wc_sh[~df_pedidos_wc_sh['status'].isin(status_a_eliminar)]"
      ]
    },
    {
      "cell_type": "markdown",
      "metadata": {
        "id": "ZjfByAV6Y13G"
      },
      "source": [
        "### Conversión de datos correspondientes en campos de fecha​"
      ]
    },
    {
      "cell_type": "code",
      "execution_count": null,
      "metadata": {
        "id": "b8-9A-zrY13G"
      },
      "outputs": [],
      "source": [
        "columns_to_convert = ['date_created', 'date_modified',  'date_paid','Inicio_evento', 'Fin_evento','Created']\n",
        "df_pedidos_wc_sh[columns_to_convert] = df_pedidos_wc_sh[columns_to_convert].apply(pd.to_datetime,utc=True)"
      ]
    },
    {
      "cell_type": "code",
      "execution_count": null,
      "metadata": {
        "id": "06jtkTDaY13G"
      },
      "outputs": [],
      "source": [
        "df_pedidos_wc_sh = df_pedidos_wc_sh.rename({'Inicio_evento':'Inicio_evento_wc'})\n",
        "\n",
        "df_pedidos_wc_sh['Inicio_evento_merge'] = df_pedidos_wc_sh['Inicio_evento_wc'].combine_first(df_pedidos_wc_sh['Inicio_evento'])\n",
        "#Eliminamos los Inicios de eventos sin combinar\n",
        "df_pedidos_wc_sh = df_pedidos_wc_sh.drop(columns=['Inicio_evento','Inicio_evento_wc'],axis=1)\n",
        "df_pedidos_wc_sh= df_pedidos_wc_sh.rename(columns={\"Inicio_evento_merge\":\"Inicio_evento\"})\n",
        "df_pedidos_wc_sh = df_pedidos_wc_sh.set_index('Title')"
      ]
    },
    {
      "cell_type": "code",
      "execution_count": null,
      "metadata": {
        "id": "EyZeOkHvY13H",
        "outputId": "5d30ba8b-9dcb-4c6d-9161-07b30beca5fd"
      },
      "outputs": [
        {
          "name": "stdout",
          "output_type": "stream",
          "text": [
            "<class 'pandas.core.frame.DataFrame'>\n",
            "Index: 3646 entries, 10112 to 2253\n",
            "Data columns (total 31 columns):\n",
            " #   Column                Non-Null Count  Dtype              \n",
            "---  ------                --------------  -----              \n",
            " 0   status                3646 non-null   object             \n",
            " 1   date_created          3646 non-null   datetime64[ns, UTC]\n",
            " 2   date_modified         3646 non-null   datetime64[ns, UTC]\n",
            " 3   payment_method        3067 non-null   object             \n",
            " 4   payment_method_title  3067 non-null   object             \n",
            " 5   created_via           3641 non-null   object             \n",
            " 6   customer_note         2503 non-null   object             \n",
            " 7   date_paid             3123 non-null   datetime64[ns, UTC]\n",
            " 8   date_created_gmt      3646 non-null   object             \n",
            " 9   date_modified_gmt     3646 non-null   object             \n",
            " 10  date_completed_gmt    534 non-null    object             \n",
            " 11  date_paid_gmt         3123 non-null   object             \n",
            " 12  currency_symbol       3646 non-null   object             \n",
            " 13  address_1             2249 non-null   object             \n",
            " 14  address_2             446 non-null    object             \n",
            " 15  city                  2236 non-null   object             \n",
            " 16  state                 117 non-null    object             \n",
            " 17  postcode              725 non-null    object             \n",
            " 18  billing_horario       1693 non-null   object             \n",
            " 19  finalizacion          1117 non-null   object             \n",
            " 20  billing_tematica      1620 non-null   object             \n",
            " 21  billing_nombre        1584 non-null   object             \n",
            " 22  billing_edad          1599 non-null   object             \n",
            " 23  billing_lugar         1136 non-null   object             \n",
            " 24  Estado                1907 non-null   object             \n",
            " 25  Edad                  1907 non-null   float64            \n",
            " 26  Tematica              1840 non-null   object             \n",
            " 27  Fin_evento            1884 non-null   datetime64[ns, UTC]\n",
            " 28  Lugar                 1884 non-null   object             \n",
            " 29  Created               1907 non-null   datetime64[ns, UTC]\n",
            " 30  Inicio_evento         2160 non-null   object             \n",
            "dtypes: datetime64[ns, UTC](5), float64(1), object(25)\n",
            "memory usage: 911.5+ KB\n"
          ]
        }
      ],
      "source": [
        "df_pedidos_wc_sh.info()"
      ]
    },
    {
      "cell_type": "markdown",
      "metadata": {
        "id": "Hg1-5yHtY13H"
      },
      "source": [
        "# 7) Resolución problemas de negocio​  "
      ]
    },
    {
      "cell_type": "markdown",
      "metadata": {
        "id": "WST3FldHY13H"
      },
      "source": [
        "## Datos faltantes de fecha del inicio del evento"
      ]
    },
    {
      "cell_type": "markdown",
      "metadata": {
        "id": "2FEsSVygY13H"
      },
      "source": [
        "Generamos una función que nos devuelva información acerca de los datos faltantes"
      ]
    },
    {
      "cell_type": "code",
      "execution_count": null,
      "metadata": {
        "id": "XQV1RDxqY13H"
      },
      "outputs": [],
      "source": [
        "def missing_values_info(df,column_name):\n",
        "    total_values = df.shape[0]\n",
        "    total_missing_values = df[df[column_name].isna()].shape[0]\n",
        "    perc_missing_values = format(total_missing_values / total_values * 100, \".2f\")\n",
        "    print(f\"Pedidos sin dato de fecha del evento -> {total_missing_values} de {total_values} - ({perc_missing_values} %)\")"
      ]
    },
    {
      "cell_type": "code",
      "execution_count": null,
      "metadata": {
        "id": "ZKfaBCZCY13H",
        "outputId": "a7b38d09-34a9-4fc2-82b2-5cab47651284"
      },
      "outputs": [
        {
          "name": "stdout",
          "output_type": "stream",
          "text": [
            "Pedidos sin dato de fecha del evento -> 1486 de 3646 - (40.76 %)\n"
          ]
        }
      ],
      "source": [
        "missing_values_info(df_pedidos_wc_sh,'Inicio_evento')"
      ]
    },
    {
      "cell_type": "code",
      "execution_count": null,
      "metadata": {
        "id": "kUJYyypEY13H",
        "outputId": "0c4407cb-89b6-42be-a785-b6d55ee2a23e"
      },
      "outputs": [
        {
          "data": {
            "text/html": [
              "<div>\n",
              "<style scoped>\n",
              "    .dataframe tbody tr th:only-of-type {\n",
              "        vertical-align: middle;\n",
              "    }\n",
              "\n",
              "    .dataframe tbody tr th {\n",
              "        vertical-align: top;\n",
              "    }\n",
              "\n",
              "    .dataframe thead th {\n",
              "        text-align: right;\n",
              "    }\n",
              "</style>\n",
              "<table border=\"1\" class=\"dataframe\">\n",
              "  <thead>\n",
              "    <tr style=\"text-align: right;\">\n",
              "      <th></th>\n",
              "      <th>status</th>\n",
              "      <th>date_created</th>\n",
              "      <th>date_modified</th>\n",
              "      <th>total</th>\n",
              "      <th>payment_method</th>\n",
              "      <th>payment_method_title</th>\n",
              "      <th>created_via</th>\n",
              "      <th>customer_note</th>\n",
              "      <th>date_paid</th>\n",
              "      <th>date_created_gmt</th>\n",
              "      <th>...</th>\n",
              "      <th>billing_nombre</th>\n",
              "      <th>billing_edad</th>\n",
              "      <th>billing_lugar</th>\n",
              "      <th>Estado</th>\n",
              "      <th>Edad</th>\n",
              "      <th>Tematica</th>\n",
              "      <th>Fin_evento</th>\n",
              "      <th>Lugar</th>\n",
              "      <th>Created</th>\n",
              "      <th>Inicio_evento</th>\n",
              "    </tr>\n",
              "    <tr>\n",
              "      <th>Title</th>\n",
              "      <th></th>\n",
              "      <th></th>\n",
              "      <th></th>\n",
              "      <th></th>\n",
              "      <th></th>\n",
              "      <th></th>\n",
              "      <th></th>\n",
              "      <th></th>\n",
              "      <th></th>\n",
              "      <th></th>\n",
              "      <th></th>\n",
              "      <th></th>\n",
              "      <th></th>\n",
              "      <th></th>\n",
              "      <th></th>\n",
              "      <th></th>\n",
              "      <th></th>\n",
              "      <th></th>\n",
              "      <th></th>\n",
              "      <th></th>\n",
              "      <th></th>\n",
              "    </tr>\n",
              "  </thead>\n",
              "  <tbody>\n",
              "    <tr>\n",
              "      <th>10097</th>\n",
              "      <td>pending</td>\n",
              "      <td>2024-06-24 12:59:23+00:00</td>\n",
              "      <td>2024-06-24 13:00:46+00:00</td>\n",
              "      <td>240000</td>\n",
              "      <td>bacs</td>\n",
              "      <td>Transferencia bancaria  -20%</td>\n",
              "      <td>admin</td>\n",
              "      <td>Nombre de del homenajeado/a: MELEK\\r\\n.       ...</td>\n",
              "      <td>NaT</td>\n",
              "      <td>2024-06-24T12:59:23</td>\n",
              "      <td>...</td>\n",
              "      <td>NaN</td>\n",
              "      <td>NaN</td>\n",
              "      <td>NaN</td>\n",
              "      <td>NaN</td>\n",
              "      <td>NaN</td>\n",
              "      <td>NaN</td>\n",
              "      <td>NaT</td>\n",
              "      <td>NaN</td>\n",
              "      <td>NaT</td>\n",
              "      <td>NaT</td>\n",
              "    </tr>\n",
              "    <tr>\n",
              "      <th>10060</th>\n",
              "      <td>pending</td>\n",
              "      <td>2024-06-19 23:47:47+00:00</td>\n",
              "      <td>2024-06-19 23:48:48+00:00</td>\n",
              "      <td>120000</td>\n",
              "      <td>NaN</td>\n",
              "      <td>NaN</td>\n",
              "      <td>admin</td>\n",
              "      <td>az cumple 7 el 9 de agosto \\r\\nEmpieza a las 4...</td>\n",
              "      <td>NaT</td>\n",
              "      <td>2024-06-19T23:47:47</td>\n",
              "      <td>...</td>\n",
              "      <td>NaN</td>\n",
              "      <td>NaN</td>\n",
              "      <td>NaN</td>\n",
              "      <td>NaN</td>\n",
              "      <td>NaN</td>\n",
              "      <td>NaN</td>\n",
              "      <td>NaT</td>\n",
              "      <td>NaN</td>\n",
              "      <td>NaT</td>\n",
              "      <td>NaT</td>\n",
              "    </tr>\n",
              "    <tr>\n",
              "      <th>9986</th>\n",
              "      <td>cancelled</td>\n",
              "      <td>2024-06-09 15:32:40+00:00</td>\n",
              "      <td>2024-06-10 15:24:10+00:00</td>\n",
              "      <td>0</td>\n",
              "      <td>NaN</td>\n",
              "      <td>NaN</td>\n",
              "      <td>admin</td>\n",
              "      <td>Rufina \\r\\nSábado 3/8\\r\\n3 años \\r\\n15 a 18 hs...</td>\n",
              "      <td>NaT</td>\n",
              "      <td>2024-06-09T15:32:40</td>\n",
              "      <td>...</td>\n",
              "      <td>NaN</td>\n",
              "      <td>NaN</td>\n",
              "      <td>NaN</td>\n",
              "      <td>NaN</td>\n",
              "      <td>NaN</td>\n",
              "      <td>NaN</td>\n",
              "      <td>NaT</td>\n",
              "      <td>NaN</td>\n",
              "      <td>NaT</td>\n",
              "      <td>NaT</td>\n",
              "    </tr>\n",
              "    <tr>\n",
              "      <th>9741</th>\n",
              "      <td>cancelled</td>\n",
              "      <td>2024-05-14 16:40:06+00:00</td>\n",
              "      <td>2024-05-15 12:11:23+00:00</td>\n",
              "      <td>420000</td>\n",
              "      <td>NaN</td>\n",
              "      <td>NaN</td>\n",
              "      <td>admin</td>\n",
              "      <td>NaN</td>\n",
              "      <td>2024-05-14 16:43:14+00:00</td>\n",
              "      <td>2024-05-14T16:40:06</td>\n",
              "      <td>...</td>\n",
              "      <td>NaN</td>\n",
              "      <td>NaN</td>\n",
              "      <td>NaN</td>\n",
              "      <td>NaN</td>\n",
              "      <td>NaN</td>\n",
              "      <td>NaN</td>\n",
              "      <td>NaT</td>\n",
              "      <td>NaN</td>\n",
              "      <td>NaT</td>\n",
              "      <td>NaT</td>\n",
              "    </tr>\n",
              "    <tr>\n",
              "      <th>9738</th>\n",
              "      <td>cancelled</td>\n",
              "      <td>2024-05-14 16:15:39+00:00</td>\n",
              "      <td>2024-05-15 12:11:23+00:00</td>\n",
              "      <td>570000</td>\n",
              "      <td>NaN</td>\n",
              "      <td>NaN</td>\n",
              "      <td>admin</td>\n",
              "      <td>NaN</td>\n",
              "      <td>2024-05-14 16:16:57+00:00</td>\n",
              "      <td>2024-05-14T16:15:39</td>\n",
              "      <td>...</td>\n",
              "      <td>NaN</td>\n",
              "      <td>NaN</td>\n",
              "      <td>NaN</td>\n",
              "      <td>NaN</td>\n",
              "      <td>NaN</td>\n",
              "      <td>NaN</td>\n",
              "      <td>NaT</td>\n",
              "      <td>NaN</td>\n",
              "      <td>NaT</td>\n",
              "      <td>NaT</td>\n",
              "    </tr>\n",
              "    <tr>\n",
              "      <th>...</th>\n",
              "      <td>...</td>\n",
              "      <td>...</td>\n",
              "      <td>...</td>\n",
              "      <td>...</td>\n",
              "      <td>...</td>\n",
              "      <td>...</td>\n",
              "      <td>...</td>\n",
              "      <td>...</td>\n",
              "      <td>...</td>\n",
              "      <td>...</td>\n",
              "      <td>...</td>\n",
              "      <td>...</td>\n",
              "      <td>...</td>\n",
              "      <td>...</td>\n",
              "      <td>...</td>\n",
              "      <td>...</td>\n",
              "      <td>...</td>\n",
              "      <td>...</td>\n",
              "      <td>...</td>\n",
              "      <td>...</td>\n",
              "      <td>...</td>\n",
              "    </tr>\n",
              "    <tr>\n",
              "      <th>2562</th>\n",
              "      <td>completed</td>\n",
              "      <td>2022-02-22 13:32:40+00:00</td>\n",
              "      <td>2022-03-14 16:11:49+00:00</td>\n",
              "      <td>13500</td>\n",
              "      <td>NaN</td>\n",
              "      <td>NaN</td>\n",
              "      <td>NaN</td>\n",
              "      <td>NaN</td>\n",
              "      <td>2022-02-22 13:35:02+00:00</td>\n",
              "      <td>2022-02-22T13:32:40</td>\n",
              "      <td>...</td>\n",
              "      <td>NaN</td>\n",
              "      <td>NaN</td>\n",
              "      <td>NaN</td>\n",
              "      <td>NaN</td>\n",
              "      <td>NaN</td>\n",
              "      <td>NaN</td>\n",
              "      <td>NaT</td>\n",
              "      <td>NaN</td>\n",
              "      <td>NaT</td>\n",
              "      <td>NaT</td>\n",
              "    </tr>\n",
              "    <tr>\n",
              "      <th>2492</th>\n",
              "      <td>completed</td>\n",
              "      <td>2022-02-16 13:59:53+00:00</td>\n",
              "      <td>2022-03-20 16:29:10+00:00</td>\n",
              "      <td>8000</td>\n",
              "      <td>other</td>\n",
              "      <td>Otro</td>\n",
              "      <td>admin</td>\n",
              "      <td>la granja de zenon</td>\n",
              "      <td>2022-02-22 15:07:38+00:00</td>\n",
              "      <td>2022-02-16T13:59:53</td>\n",
              "      <td>...</td>\n",
              "      <td>NaN</td>\n",
              "      <td>NaN</td>\n",
              "      <td>NaN</td>\n",
              "      <td>NaN</td>\n",
              "      <td>NaN</td>\n",
              "      <td>NaN</td>\n",
              "      <td>NaT</td>\n",
              "      <td>NaN</td>\n",
              "      <td>NaT</td>\n",
              "      <td>NaT</td>\n",
              "    </tr>\n",
              "    <tr>\n",
              "      <th>2414</th>\n",
              "      <td>completed</td>\n",
              "      <td>2022-02-15 15:11:52+00:00</td>\n",
              "      <td>2022-02-22 13:34:14+00:00</td>\n",
              "      <td>25800</td>\n",
              "      <td>other</td>\n",
              "      <td>Otro</td>\n",
              "      <td>admin</td>\n",
              "      <td>NaN</td>\n",
              "      <td>2022-02-22 13:34:14+00:00</td>\n",
              "      <td>2022-02-15T15:11:52</td>\n",
              "      <td>...</td>\n",
              "      <td>NaN</td>\n",
              "      <td>NaN</td>\n",
              "      <td>NaN</td>\n",
              "      <td>NaN</td>\n",
              "      <td>NaN</td>\n",
              "      <td>NaN</td>\n",
              "      <td>NaT</td>\n",
              "      <td>NaN</td>\n",
              "      <td>NaT</td>\n",
              "      <td>NaT</td>\n",
              "    </tr>\n",
              "    <tr>\n",
              "      <th>2288</th>\n",
              "      <td>completed</td>\n",
              "      <td>2022-02-11 16:55:21+00:00</td>\n",
              "      <td>2022-04-06 16:14:09+00:00</td>\n",
              "      <td>18600</td>\n",
              "      <td>NaN</td>\n",
              "      <td>NaN</td>\n",
              "      <td>NaN</td>\n",
              "      <td>NaN</td>\n",
              "      <td>2022-02-11 17:14:17+00:00</td>\n",
              "      <td>2022-02-11T16:55:21</td>\n",
              "      <td>...</td>\n",
              "      <td>NaN</td>\n",
              "      <td>NaN</td>\n",
              "      <td>NaN</td>\n",
              "      <td>NaN</td>\n",
              "      <td>NaN</td>\n",
              "      <td>NaN</td>\n",
              "      <td>NaT</td>\n",
              "      <td>NaN</td>\n",
              "      <td>NaT</td>\n",
              "      <td>NaT</td>\n",
              "    </tr>\n",
              "    <tr>\n",
              "      <th>2253</th>\n",
              "      <td>completed</td>\n",
              "      <td>2022-02-10 18:02:36+00:00</td>\n",
              "      <td>2022-03-10 14:06:32+00:00</td>\n",
              "      <td>14000</td>\n",
              "      <td>NaN</td>\n",
              "      <td>NaN</td>\n",
              "      <td>NaN</td>\n",
              "      <td>NaN</td>\n",
              "      <td>2022-02-10 18:04:08+00:00</td>\n",
              "      <td>2022-02-10T18:02:36</td>\n",
              "      <td>...</td>\n",
              "      <td>NaN</td>\n",
              "      <td>NaN</td>\n",
              "      <td>NaN</td>\n",
              "      <td>NaN</td>\n",
              "      <td>NaN</td>\n",
              "      <td>NaN</td>\n",
              "      <td>NaT</td>\n",
              "      <td>NaN</td>\n",
              "      <td>NaT</td>\n",
              "      <td>NaT</td>\n",
              "    </tr>\n",
              "  </tbody>\n",
              "</table>\n",
              "<p>1488 rows × 32 columns</p>\n",
              "</div>"
            ],
            "text/plain": [
              "          status              date_created             date_modified   total  \\\n",
              "Title                                                                          \n",
              "10097    pending 2024-06-24 12:59:23+00:00 2024-06-24 13:00:46+00:00  240000   \n",
              "10060    pending 2024-06-19 23:47:47+00:00 2024-06-19 23:48:48+00:00  120000   \n",
              "9986   cancelled 2024-06-09 15:32:40+00:00 2024-06-10 15:24:10+00:00       0   \n",
              "9741   cancelled 2024-05-14 16:40:06+00:00 2024-05-15 12:11:23+00:00  420000   \n",
              "9738   cancelled 2024-05-14 16:15:39+00:00 2024-05-15 12:11:23+00:00  570000   \n",
              "...          ...                       ...                       ...     ...   \n",
              "2562   completed 2022-02-22 13:32:40+00:00 2022-03-14 16:11:49+00:00   13500   \n",
              "2492   completed 2022-02-16 13:59:53+00:00 2022-03-20 16:29:10+00:00    8000   \n",
              "2414   completed 2022-02-15 15:11:52+00:00 2022-02-22 13:34:14+00:00   25800   \n",
              "2288   completed 2022-02-11 16:55:21+00:00 2022-04-06 16:14:09+00:00   18600   \n",
              "2253   completed 2022-02-10 18:02:36+00:00 2022-03-10 14:06:32+00:00   14000   \n",
              "\n",
              "      payment_method          payment_method_title created_via  \\\n",
              "Title                                                            \n",
              "10097           bacs  Transferencia bancaria  -20%       admin   \n",
              "10060            NaN                           NaN       admin   \n",
              "9986             NaN                           NaN       admin   \n",
              "9741             NaN                           NaN       admin   \n",
              "9738             NaN                           NaN       admin   \n",
              "...              ...                           ...         ...   \n",
              "2562             NaN                           NaN         NaN   \n",
              "2492           other                          Otro       admin   \n",
              "2414           other                          Otro       admin   \n",
              "2288             NaN                           NaN         NaN   \n",
              "2253             NaN                           NaN         NaN   \n",
              "\n",
              "                                           customer_note  \\\n",
              "Title                                                      \n",
              "10097  Nombre de del homenajeado/a: MELEK\\r\\n.       ...   \n",
              "10060  az cumple 7 el 9 de agosto \\r\\nEmpieza a las 4...   \n",
              "9986   Rufina \\r\\nSábado 3/8\\r\\n3 años \\r\\n15 a 18 hs...   \n",
              "9741                                                 NaN   \n",
              "9738                                                 NaN   \n",
              "...                                                  ...   \n",
              "2562                                                 NaN   \n",
              "2492                                  la granja de zenon   \n",
              "2414                                                 NaN   \n",
              "2288                                                 NaN   \n",
              "2253                                                 NaN   \n",
              "\n",
              "                      date_paid     date_created_gmt  ... billing_nombre  \\\n",
              "Title                                                 ...                  \n",
              "10097                       NaT  2024-06-24T12:59:23  ...            NaN   \n",
              "10060                       NaT  2024-06-19T23:47:47  ...            NaN   \n",
              "9986                        NaT  2024-06-09T15:32:40  ...            NaN   \n",
              "9741  2024-05-14 16:43:14+00:00  2024-05-14T16:40:06  ...            NaN   \n",
              "9738  2024-05-14 16:16:57+00:00  2024-05-14T16:15:39  ...            NaN   \n",
              "...                         ...                  ...  ...            ...   \n",
              "2562  2022-02-22 13:35:02+00:00  2022-02-22T13:32:40  ...            NaN   \n",
              "2492  2022-02-22 15:07:38+00:00  2022-02-16T13:59:53  ...            NaN   \n",
              "2414  2022-02-22 13:34:14+00:00  2022-02-15T15:11:52  ...            NaN   \n",
              "2288  2022-02-11 17:14:17+00:00  2022-02-11T16:55:21  ...            NaN   \n",
              "2253  2022-02-10 18:04:08+00:00  2022-02-10T18:02:36  ...            NaN   \n",
              "\n",
              "      billing_edad billing_lugar Estado Edad Tematica Fin_evento Lugar  \\\n",
              "Title                                                                    \n",
              "10097          NaN           NaN    NaN  NaN      NaN        NaT   NaN   \n",
              "10060          NaN           NaN    NaN  NaN      NaN        NaT   NaN   \n",
              "9986           NaN           NaN    NaN  NaN      NaN        NaT   NaN   \n",
              "9741           NaN           NaN    NaN  NaN      NaN        NaT   NaN   \n",
              "9738           NaN           NaN    NaN  NaN      NaN        NaT   NaN   \n",
              "...            ...           ...    ...  ...      ...        ...   ...   \n",
              "2562           NaN           NaN    NaN  NaN      NaN        NaT   NaN   \n",
              "2492           NaN           NaN    NaN  NaN      NaN        NaT   NaN   \n",
              "2414           NaN           NaN    NaN  NaN      NaN        NaT   NaN   \n",
              "2288           NaN           NaN    NaN  NaN      NaN        NaT   NaN   \n",
              "2253           NaN           NaN    NaN  NaN      NaN        NaT   NaN   \n",
              "\n",
              "      Created Inicio_evento  \n",
              "Title                        \n",
              "10097     NaT           NaT  \n",
              "10060     NaT           NaT  \n",
              "9986      NaT           NaT  \n",
              "9741      NaT           NaT  \n",
              "9738      NaT           NaT  \n",
              "...       ...           ...  \n",
              "2562      NaT           NaT  \n",
              "2492      NaT           NaT  \n",
              "2414      NaT           NaT  \n",
              "2288      NaT           NaT  \n",
              "2253      NaT           NaT  \n",
              "\n",
              "[1488 rows x 32 columns]"
            ]
          },
          "execution_count": 141,
          "metadata": {},
          "output_type": "execute_result"
        }
      ],
      "source": [
        "df_pedidos_wc_sh[df_pedidos_wc_sh['Inicio_evento'].isna()]"
      ]
    },
    {
      "cell_type": "markdown",
      "metadata": {
        "id": "FSp9GrTEY13H"
      },
      "source": [
        "## Eventos sin fecha de inicio"
      ]
    },
    {
      "cell_type": "markdown",
      "metadata": {
        "id": "joV2uNyOY13H"
      },
      "source": [
        "- ¿Por qué tenemos eventos que no tienen dato de fecha?\n",
        "\n",
        "Filtramos los datos donde no hay dato del evento para entender la razón y agrupamos por la fecha en que fueron creados"
      ]
    },
    {
      "cell_type": "code",
      "execution_count": null,
      "metadata": {
        "id": "P2Bac9ntY13H",
        "outputId": "94cfebd9-9503-4210-fe0e-c372f5944cb4"
      },
      "outputs": [
        {
          "name": "stderr",
          "output_type": "stream",
          "text": [
            "/tmp/ipykernel_222609/2265077564.py:9: UserWarning: Converting to PeriodArray/Index representation will drop timezone information.\n",
            "  df_pedidos_con_o_sin_fecha_evento['mes'] = df_pedidos_con_o_sin_fecha_evento['date_created'].dt.to_period('M')\n"
          ]
        },
        {
          "data": {
            "image/png": "[encoded data removed]",
            "text/plain": [
              "<Figure size 2000x800 with 1 Axes>"
            ]
          },
          "metadata": {},
          "output_type": "display_data"
        }
      ],
      "source": [
        "import pandas as pd\n",
        "import matplotlib.pyplot as plt\n",
        "\n",
        "fig,ax = plt.subplots(figsize=(20,8))\n",
        "df_pedidos_wc_sh[columns_to_convert].apply(pd.to_datetime,utc=True)\n",
        "df_pedidos_con_o_sin_fecha_evento = df_pedidos_wc_sh.copy()\n",
        "df_pedidos_con_o_sin_fecha_evento['tiene_fecha_del_evento'] = df_pedidos_con_o_sin_fecha_evento['Inicio_evento'].notna()\n",
        "\n",
        "df_pedidos_con_o_sin_fecha_evento['mes'] = df_pedidos_con_o_sin_fecha_evento['date_created'].dt.to_period('M')\n",
        "\n",
        "conteo_mes_estado_fecha = df_pedidos_con_o_sin_fecha_evento.groupby(['mes','tiene_fecha_del_evento']).size().unstack(fill_value=0)\n",
        "\n",
        "\n",
        "# Graficar\n",
        "conteo_mes_estado_fecha.plot(kind='bar',ax=ax,color=['orange','lightgreen'])\n",
        "ax.set_title(\"Cantidad pedidos con fecha del evento según fecha de carga\")\n",
        "ax.set_xlabel(\"Fecha\")\n",
        "ax.set_ylabel(\"Cantidad\")\n",
        "plt.show()"
      ]
    },
    {
      "cell_type": "markdown",
      "metadata": {
        "id": "FevwZ09RY13H"
      },
      "source": [
        "### Conclusión faltantes de dato de fecha del evento\n",
        "Podemos ver que los eventos cargados previo al 2023-08 tienen muchos eventos sin fecha del evento.\n",
        "El sistema interno (App gestión interna​) comenzó a estar en funcionamiento durante ese mes. Y es a partir de esta fecha en la que casi todos los eventos tienen carga correspondiente."
      ]
    },
    {
      "cell_type": "markdown",
      "metadata": {
        "id": "sKlHBfGeY13I"
      },
      "source": [
        "Para obtener las fechas del evento vamos a realizar los siguientes filtros:\n",
        "- Eventos donde no esté el dato de Inicio_evento\n",
        "- Eventos donde hay una nota del cliente (customer note). En este campo podemos encontrar información de la fecha del evento"
      ]
    },
    {
      "cell_type": "code",
      "execution_count": null,
      "metadata": {
        "id": "8m4cJxOIY13I",
        "outputId": "0a2ef930-6453-4d57-a2e7-d7ef73d06e71"
      },
      "outputs": [
        {
          "data": {
            "text/plain": [
              "Title\n",
              "10112    Ruy (nombre de nene)\\r\\n.       Cuantos años c...\n",
              "10060    az cumple 7 el 9 de agosto \\r\\nEmpieza a las 4...\n",
              "9986     Rufina \\r\\nSábado 3/8\\r\\n3 años \\r\\n15 a 18 hs...\n",
              "9733     Hola chicas! Les escribo para contarles que de...\n",
              "9730     Olivia Aranda\\r\\n1er añito\\r\\nFecha el 16 de j...\n",
              "                               ...                        \n",
              "2704           Agregar panel lateral: tematica La sirenita\n",
              "2635     Montaje infantil encanto con flores de globos ...\n",
              "2573        Montaje infantil premium animales de la selva.\n",
              "2563     temática elefante con globo aerostatico como e...\n",
              "2492                                    la granja de zenon\n",
              "Name: customer_note, Length: 1102, dtype: object"
            ]
          },
          "execution_count": 329,
          "metadata": {},
          "output_type": "execute_result"
        }
      ],
      "source": [
        "df_pedidos_fecha_evento = df_pedidos_wc_sh[(df_pedidos_wc_sh['Inicio_evento'].isna())  & (df_pedidos_wc_sh['customer_note'].notna())]\n",
        "df_pedidos_fecha_evento['customer_note']"
      ]
    },
    {
      "cell_type": "markdown",
      "metadata": {
        "id": "MPaIZAWRY13I"
      },
      "source": [
        "## Obtención de datos de fecha del customer note\n",
        "Aplicamos regex para poder encontrar los datos de fecha.\n",
        "- El patrón que se puede ver es:\n",
        "    - 28 de junio ({nro_dia} de {nombre_mes})\n",
        "    - 10/08/2024\n",
        "    - 16 marzo ({nro_dia} {nombre_mes})\n",
        "    - 26.11.23 ({nro_dia}.{nro_mes}.{nro_año})\n",
        "    "
      ]
    },
    {
      "cell_type": "code",
      "execution_count": null,
      "metadata": {
        "id": "zXEslSUgY13I"
      },
      "outputs": [],
      "source": [
        "pattern = r'\\b(\\d{1,2} de [a-zA-Z]+(?!\\s*HS)|\\d{1,2}(?:/\\d{1,2})?/\\d{2,4}|\\d{1,2}\\.\\d{1,2}\\.\\d{2,4})\\b'\n",
        "# Extraer fechas usando el patrón regex\n",
        "df_pedidos_wc_sh['fecha'] = df_pedidos_wc_sh['customer_note'].str.extract(pattern)"
      ]
    },
    {
      "cell_type": "code",
      "execution_count": null,
      "metadata": {
        "id": "IKgTGunCY13I",
        "outputId": "8dd154cb-9a6b-48c6-c609-3c354774b9e3"
      },
      "outputs": [
        {
          "name": "stdout",
          "output_type": "stream",
          "text": [
            "Fechas encontradas con regex: 1455\n",
            "Fechas NO encontradas con regex: 2191\n"
          ]
        }
      ],
      "source": [
        "print(f\"Fechas encontradas con regex: {df_pedidos_wc_sh['fecha'].notna().sum()}\")\n",
        "print(f\"Fechas NO encontradas con regex: {df_pedidos_wc_sh['fecha'].isna().sum()}\")"
      ]
    },
    {
      "cell_type": "code",
      "execution_count": null,
      "metadata": {
        "id": "PjTqgrlsY13I"
      },
      "outputs": [],
      "source": [
        "def evaluar_fecha_correcta(data):\n",
        "    try:\n",
        "        return pd.to_datetime(data, errors='coerce')\n",
        "    except:\n",
        "        return pd.NaT"
      ]
    },
    {
      "cell_type": "code",
      "execution_count": null,
      "metadata": {
        "id": "Q2w2nJlQY13I",
        "outputId": "b99beb38-e4fe-448b-ce8a-71753af24797"
      },
      "outputs": [
        {
          "name": "stderr",
          "output_type": "stream",
          "text": [
            "/tmp/ipykernel_222609/4075736083.py:3: UserWarning: Parsing dates in %d/%m/%Y format when dayfirst=False (the default) was specified. Pass `dayfirst=True` or specify a format to silence this warning.\n",
            "  return pd.to_datetime(data, errors='coerce')\n",
            "/tmp/ipykernel_222609/4075736083.py:3: UserWarning: Parsing dates in %d.%m.%Y format when dayfirst=False (the default) was specified. Pass `dayfirst=True` or specify a format to silence this warning.\n",
            "  return pd.to_datetime(data, errors='coerce')\n"
          ]
        }
      ],
      "source": [
        "df_pedidos_wc_sh['fecha_complete'] = df_pedidos_wc_sh['fecha'].apply(evaluar_fecha_correcta)"
      ]
    },
    {
      "cell_type": "code",
      "execution_count": null,
      "metadata": {
        "id": "uJRymsBEY13I",
        "outputId": "9cc082ef-0d86-472a-dbca-22b8aa3c74e1"
      },
      "outputs": [
        {
          "data": {
            "text/plain": [
              "<DatetimeArray>\n",
              "[                'NaT', '2024-08-24 00:00:00', '2024-10-08 00:00:00',\n",
              " '2024-07-23 00:00:00', '2024-07-14 00:00:00', '2024-03-08 00:00:00',\n",
              " '2024-08-17 00:00:00', '2024-07-27 00:00:00', '2024-06-30 00:00:00',\n",
              " '2024-06-07 00:00:00',\n",
              " ...\n",
              " '2022-11-06 00:00:00', '2022-05-06 00:00:00', '2022-04-06 00:00:00',\n",
              " '2022-10-07 00:00:00', '2022-04-19 00:00:00', '2022-05-22 00:00:00',\n",
              " '2022-05-25 00:00:00', '2022-08-05 00:00:00', '2022-08-14 00:00:00',\n",
              " '2022-09-07 00:00:00']\n",
              "Length: 323, dtype: datetime64[ns]"
            ]
          },
          "execution_count": 334,
          "metadata": {},
          "output_type": "execute_result"
        }
      ],
      "source": [
        "df_pedidos_wc_sh['fecha_complete'].unique()"
      ]
    },
    {
      "cell_type": "markdown",
      "metadata": {
        "id": "ltCsVyA3Y13I"
      },
      "source": [
        "Completamos la columnas inicio_evento con las fechas recuperadas"
      ]
    },
    {
      "cell_type": "code",
      "execution_count": null,
      "metadata": {
        "id": "sgkNCgc7Y13I"
      },
      "outputs": [],
      "source": [
        "df_pedidos_wc_sh.reset_index(drop=True, inplace=True)\n",
        "df_pedidos_wc_sh.loc[df_pedidos_wc_sh['Inicio_evento'].isna(), 'Inicio_evento'] = df_pedidos_wc_sh['fecha_complete']"
      ]
    },
    {
      "cell_type": "code",
      "execution_count": null,
      "metadata": {
        "id": "NTAsWPTgY13I",
        "outputId": "be24f457-1101-4e84-aa92-6530098214ff"
      },
      "outputs": [
        {
          "name": "stdout",
          "output_type": "stream",
          "text": [
            "Pedidos sin dato de fecha del evento -> 1229 de 3646 - (33.71 %)\n"
          ]
        }
      ],
      "source": [
        "missing_values_info(df_pedidos_wc_sh,'Inicio_evento')"
      ]
    },
    {
      "cell_type": "code",
      "execution_count": null,
      "metadata": {
        "id": "-VbQNhDdY13I",
        "outputId": "b97635fe-6a01-40ff-b261-82d5ed667b85"
      },
      "outputs": [
        {
          "data": {
            "text/html": [
              "<div>\n",
              "<style scoped>\n",
              "    .dataframe tbody tr th:only-of-type {\n",
              "        vertical-align: middle;\n",
              "    }\n",
              "\n",
              "    .dataframe tbody tr th {\n",
              "        vertical-align: top;\n",
              "    }\n",
              "\n",
              "    .dataframe thead th {\n",
              "        text-align: right;\n",
              "    }\n",
              "</style>\n",
              "<table border=\"1\" class=\"dataframe\">\n",
              "  <thead>\n",
              "    <tr style=\"text-align: right;\">\n",
              "      <th></th>\n",
              "      <th>status</th>\n",
              "      <th>date_created</th>\n",
              "      <th>date_modified</th>\n",
              "      <th>payment_method</th>\n",
              "      <th>payment_method_title</th>\n",
              "      <th>created_via</th>\n",
              "      <th>customer_note</th>\n",
              "      <th>date_paid</th>\n",
              "      <th>date_created_gmt</th>\n",
              "      <th>date_modified_gmt</th>\n",
              "      <th>...</th>\n",
              "      <th>billing_lugar</th>\n",
              "      <th>Estado</th>\n",
              "      <th>Edad</th>\n",
              "      <th>Tematica</th>\n",
              "      <th>Fin_evento</th>\n",
              "      <th>Lugar</th>\n",
              "      <th>Created</th>\n",
              "      <th>Inicio_evento</th>\n",
              "      <th>fecha</th>\n",
              "      <th>fecha_complete</th>\n",
              "    </tr>\n",
              "  </thead>\n",
              "  <tbody>\n",
              "    <tr>\n",
              "      <th>0</th>\n",
              "      <td>pending</td>\n",
              "      <td>2024-06-24 15:40:13+00:00</td>\n",
              "      <td>2024-06-24 15:42:18+00:00</td>\n",
              "      <td>NaN</td>\n",
              "      <td>NaN</td>\n",
              "      <td>admin</td>\n",
              "      <td>Ruy (nombre de nene)\\r\\n.       Cuantos años c...</td>\n",
              "      <td>NaT</td>\n",
              "      <td>2024-06-24T15:40:13</td>\n",
              "      <td>2024-06-24T15:42:18</td>\n",
              "      <td>...</td>\n",
              "      <td>NaN</td>\n",
              "      <td>NaN</td>\n",
              "      <td>NaN</td>\n",
              "      <td>NaN</td>\n",
              "      <td>NaT</td>\n",
              "      <td>NaN</td>\n",
              "      <td>NaT</td>\n",
              "      <td>NaT</td>\n",
              "      <td>28/09</td>\n",
              "      <td>NaT</td>\n",
              "    </tr>\n",
              "    <tr>\n",
              "      <th>1</th>\n",
              "      <td>pending</td>\n",
              "      <td>2024-06-24 15:28:51+00:00</td>\n",
              "      <td>2024-06-24 15:39:58+00:00</td>\n",
              "      <td>woo-mercado-pago-custom</td>\n",
              "      <td>Paga con tarjetas de crédito hasta 6 cuotas si...</td>\n",
              "      <td>checkout</td>\n",
              "      <td>NaN</td>\n",
              "      <td>NaT</td>\n",
              "      <td>2024-06-24T15:28:51</td>\n",
              "      <td>2024-06-24T15:39:58</td>\n",
              "      <td>...</td>\n",
              "      <td>Salón</td>\n",
              "      <td>NaN</td>\n",
              "      <td>NaN</td>\n",
              "      <td>NaN</td>\n",
              "      <td>NaT</td>\n",
              "      <td>NaN</td>\n",
              "      <td>NaT</td>\n",
              "      <td>2024-08-24 00:00:00+00:00</td>\n",
              "      <td>NaN</td>\n",
              "      <td>NaT</td>\n",
              "    </tr>\n",
              "    <tr>\n",
              "      <th>2</th>\n",
              "      <td>on-hold</td>\n",
              "      <td>2024-06-24 15:24:51+00:00</td>\n",
              "      <td>2024-06-24 15:24:51+00:00</td>\n",
              "      <td>bacs</td>\n",
              "      <td>Transferencia bancaria  -20%</td>\n",
              "      <td>checkout</td>\n",
              "      <td>NaN</td>\n",
              "      <td>NaT</td>\n",
              "      <td>2024-06-24T15:24:51</td>\n",
              "      <td>2024-06-24T15:24:51</td>\n",
              "      <td>...</td>\n",
              "      <td>SUM</td>\n",
              "      <td>NaN</td>\n",
              "      <td>NaN</td>\n",
              "      <td>NaN</td>\n",
              "      <td>NaT</td>\n",
              "      <td>NaN</td>\n",
              "      <td>NaT</td>\n",
              "      <td>2024-06-30 00:00:00+00:00</td>\n",
              "      <td>NaN</td>\n",
              "      <td>NaT</td>\n",
              "    </tr>\n",
              "    <tr>\n",
              "      <th>3</th>\n",
              "      <td>cancelled</td>\n",
              "      <td>2024-06-24 15:24:27+00:00</td>\n",
              "      <td>2024-06-24 15:25:22+00:00</td>\n",
              "      <td>woo-mercado-pago-custom</td>\n",
              "      <td>Paga con tarjetas de crédito hasta 6 cuotas si...</td>\n",
              "      <td>checkout</td>\n",
              "      <td>NaN</td>\n",
              "      <td>NaT</td>\n",
              "      <td>2024-06-24T15:24:27</td>\n",
              "      <td>2024-06-24T15:25:22</td>\n",
              "      <td>...</td>\n",
              "      <td>Salón</td>\n",
              "      <td>NaN</td>\n",
              "      <td>NaN</td>\n",
              "      <td>NaN</td>\n",
              "      <td>NaT</td>\n",
              "      <td>NaN</td>\n",
              "      <td>NaT</td>\n",
              "      <td>2024-08-24 00:00:00+00:00</td>\n",
              "      <td>NaN</td>\n",
              "      <td>NaT</td>\n",
              "    </tr>\n",
              "    <tr>\n",
              "      <th>5</th>\n",
              "      <td>processing</td>\n",
              "      <td>2024-06-24 14:26:27+00:00</td>\n",
              "      <td>2024-06-24 14:28:17+00:00</td>\n",
              "      <td>NaN</td>\n",
              "      <td>NaN</td>\n",
              "      <td>admin</td>\n",
              "      <td>Polo\\r\\n2 años \\r\\n29 de junio de 2024\\r\\nInic...</td>\n",
              "      <td>2024-06-24 14:28:17+00:00</td>\n",
              "      <td>2024-06-24T14:26:27</td>\n",
              "      <td>2024-06-24T14:28:17</td>\n",
              "      <td>...</td>\n",
              "      <td>NaN</td>\n",
              "      <td>pendiente</td>\n",
              "      <td>0.0</td>\n",
              "      <td>NaN</td>\n",
              "      <td>NaT</td>\n",
              "      <td>NaN</td>\n",
              "      <td>2024-06-24 14:28:53+00:00</td>\n",
              "      <td>2024-06-24 14:26:27+00:00</td>\n",
              "      <td>29 de junio</td>\n",
              "      <td>NaT</td>\n",
              "    </tr>\n",
              "    <tr>\n",
              "      <th>...</th>\n",
              "      <td>...</td>\n",
              "      <td>...</td>\n",
              "      <td>...</td>\n",
              "      <td>...</td>\n",
              "      <td>...</td>\n",
              "      <td>...</td>\n",
              "      <td>...</td>\n",
              "      <td>...</td>\n",
              "      <td>...</td>\n",
              "      <td>...</td>\n",
              "      <td>...</td>\n",
              "      <td>...</td>\n",
              "      <td>...</td>\n",
              "      <td>...</td>\n",
              "      <td>...</td>\n",
              "      <td>...</td>\n",
              "      <td>...</td>\n",
              "      <td>...</td>\n",
              "      <td>...</td>\n",
              "      <td>...</td>\n",
              "      <td>...</td>\n",
              "    </tr>\n",
              "    <tr>\n",
              "      <th>3641</th>\n",
              "      <td>completed</td>\n",
              "      <td>2022-02-22 13:32:40+00:00</td>\n",
              "      <td>2022-03-14 16:11:49+00:00</td>\n",
              "      <td>NaN</td>\n",
              "      <td>NaN</td>\n",
              "      <td>NaN</td>\n",
              "      <td>NaN</td>\n",
              "      <td>2022-02-22 13:35:02+00:00</td>\n",
              "      <td>2022-02-22T13:32:40</td>\n",
              "      <td>2022-03-14T16:11:49</td>\n",
              "      <td>...</td>\n",
              "      <td>NaN</td>\n",
              "      <td>NaN</td>\n",
              "      <td>NaN</td>\n",
              "      <td>NaN</td>\n",
              "      <td>NaT</td>\n",
              "      <td>NaN</td>\n",
              "      <td>NaT</td>\n",
              "      <td>NaT</td>\n",
              "      <td>NaN</td>\n",
              "      <td>NaT</td>\n",
              "    </tr>\n",
              "    <tr>\n",
              "      <th>3642</th>\n",
              "      <td>completed</td>\n",
              "      <td>2022-02-16 13:59:53+00:00</td>\n",
              "      <td>2022-03-20 16:29:10+00:00</td>\n",
              "      <td>other</td>\n",
              "      <td>Otro</td>\n",
              "      <td>admin</td>\n",
              "      <td>la granja de zenon</td>\n",
              "      <td>2022-02-22 15:07:38+00:00</td>\n",
              "      <td>2022-02-16T13:59:53</td>\n",
              "      <td>2022-03-20T16:29:10</td>\n",
              "      <td>...</td>\n",
              "      <td>NaN</td>\n",
              "      <td>NaN</td>\n",
              "      <td>NaN</td>\n",
              "      <td>NaN</td>\n",
              "      <td>NaT</td>\n",
              "      <td>NaN</td>\n",
              "      <td>NaT</td>\n",
              "      <td>NaT</td>\n",
              "      <td>NaN</td>\n",
              "      <td>NaT</td>\n",
              "    </tr>\n",
              "    <tr>\n",
              "      <th>3643</th>\n",
              "      <td>completed</td>\n",
              "      <td>2022-02-15 15:11:52+00:00</td>\n",
              "      <td>2022-02-22 13:34:14+00:00</td>\n",
              "      <td>other</td>\n",
              "      <td>Otro</td>\n",
              "      <td>admin</td>\n",
              "      <td>NaN</td>\n",
              "      <td>2022-02-22 13:34:14+00:00</td>\n",
              "      <td>2022-02-15T15:11:52</td>\n",
              "      <td>2022-02-22T13:34:14</td>\n",
              "      <td>...</td>\n",
              "      <td>NaN</td>\n",
              "      <td>NaN</td>\n",
              "      <td>NaN</td>\n",
              "      <td>NaN</td>\n",
              "      <td>NaT</td>\n",
              "      <td>NaN</td>\n",
              "      <td>NaT</td>\n",
              "      <td>NaT</td>\n",
              "      <td>NaN</td>\n",
              "      <td>NaT</td>\n",
              "    </tr>\n",
              "    <tr>\n",
              "      <th>3644</th>\n",
              "      <td>completed</td>\n",
              "      <td>2022-02-11 16:55:21+00:00</td>\n",
              "      <td>2022-04-06 16:14:09+00:00</td>\n",
              "      <td>NaN</td>\n",
              "      <td>NaN</td>\n",
              "      <td>NaN</td>\n",
              "      <td>NaN</td>\n",
              "      <td>2022-02-11 17:14:17+00:00</td>\n",
              "      <td>2022-02-11T16:55:21</td>\n",
              "      <td>2022-04-06T16:14:09</td>\n",
              "      <td>...</td>\n",
              "      <td>NaN</td>\n",
              "      <td>NaN</td>\n",
              "      <td>NaN</td>\n",
              "      <td>NaN</td>\n",
              "      <td>NaT</td>\n",
              "      <td>NaN</td>\n",
              "      <td>NaT</td>\n",
              "      <td>NaT</td>\n",
              "      <td>NaN</td>\n",
              "      <td>NaT</td>\n",
              "    </tr>\n",
              "    <tr>\n",
              "      <th>3645</th>\n",
              "      <td>completed</td>\n",
              "      <td>2022-02-10 18:02:36+00:00</td>\n",
              "      <td>2022-03-10 14:06:32+00:00</td>\n",
              "      <td>NaN</td>\n",
              "      <td>NaN</td>\n",
              "      <td>NaN</td>\n",
              "      <td>NaN</td>\n",
              "      <td>2022-02-10 18:04:08+00:00</td>\n",
              "      <td>2022-02-10T18:02:36</td>\n",
              "      <td>2022-03-10T14:06:32</td>\n",
              "      <td>...</td>\n",
              "      <td>NaN</td>\n",
              "      <td>NaN</td>\n",
              "      <td>NaN</td>\n",
              "      <td>NaN</td>\n",
              "      <td>NaT</td>\n",
              "      <td>NaN</td>\n",
              "      <td>NaT</td>\n",
              "      <td>NaT</td>\n",
              "      <td>NaN</td>\n",
              "      <td>NaT</td>\n",
              "    </tr>\n",
              "  </tbody>\n",
              "</table>\n",
              "<p>3042 rows × 33 columns</p>\n",
              "</div>"
            ],
            "text/plain": [
              "          status              date_created             date_modified  \\\n",
              "0        pending 2024-06-24 15:40:13+00:00 2024-06-24 15:42:18+00:00   \n",
              "1        pending 2024-06-24 15:28:51+00:00 2024-06-24 15:39:58+00:00   \n",
              "2        on-hold 2024-06-24 15:24:51+00:00 2024-06-24 15:24:51+00:00   \n",
              "3      cancelled 2024-06-24 15:24:27+00:00 2024-06-24 15:25:22+00:00   \n",
              "5     processing 2024-06-24 14:26:27+00:00 2024-06-24 14:28:17+00:00   \n",
              "...          ...                       ...                       ...   \n",
              "3641   completed 2022-02-22 13:32:40+00:00 2022-03-14 16:11:49+00:00   \n",
              "3642   completed 2022-02-16 13:59:53+00:00 2022-03-20 16:29:10+00:00   \n",
              "3643   completed 2022-02-15 15:11:52+00:00 2022-02-22 13:34:14+00:00   \n",
              "3644   completed 2022-02-11 16:55:21+00:00 2022-04-06 16:14:09+00:00   \n",
              "3645   completed 2022-02-10 18:02:36+00:00 2022-03-10 14:06:32+00:00   \n",
              "\n",
              "               payment_method  \\\n",
              "0                         NaN   \n",
              "1     woo-mercado-pago-custom   \n",
              "2                        bacs   \n",
              "3     woo-mercado-pago-custom   \n",
              "5                         NaN   \n",
              "...                       ...   \n",
              "3641                      NaN   \n",
              "3642                    other   \n",
              "3643                    other   \n",
              "3644                      NaN   \n",
              "3645                      NaN   \n",
              "\n",
              "                                   payment_method_title created_via  \\\n",
              "0                                                   NaN       admin   \n",
              "1     Paga con tarjetas de crédito hasta 6 cuotas si...    checkout   \n",
              "2                          Transferencia bancaria  -20%    checkout   \n",
              "3     Paga con tarjetas de crédito hasta 6 cuotas si...    checkout   \n",
              "5                                                   NaN       admin   \n",
              "...                                                 ...         ...   \n",
              "3641                                                NaN         NaN   \n",
              "3642                                               Otro       admin   \n",
              "3643                                               Otro       admin   \n",
              "3644                                                NaN         NaN   \n",
              "3645                                                NaN         NaN   \n",
              "\n",
              "                                          customer_note  \\\n",
              "0     Ruy (nombre de nene)\\r\\n.       Cuantos años c...   \n",
              "1                                                   NaN   \n",
              "2                                                   NaN   \n",
              "3                                                   NaN   \n",
              "5     Polo\\r\\n2 años \\r\\n29 de junio de 2024\\r\\nInic...   \n",
              "...                                                 ...   \n",
              "3641                                                NaN   \n",
              "3642                                 la granja de zenon   \n",
              "3643                                                NaN   \n",
              "3644                                                NaN   \n",
              "3645                                                NaN   \n",
              "\n",
              "                     date_paid     date_created_gmt    date_modified_gmt  ...  \\\n",
              "0                          NaT  2024-06-24T15:40:13  2024-06-24T15:42:18  ...   \n",
              "1                          NaT  2024-06-24T15:28:51  2024-06-24T15:39:58  ...   \n",
              "2                          NaT  2024-06-24T15:24:51  2024-06-24T15:24:51  ...   \n",
              "3                          NaT  2024-06-24T15:24:27  2024-06-24T15:25:22  ...   \n",
              "5    2024-06-24 14:28:17+00:00  2024-06-24T14:26:27  2024-06-24T14:28:17  ...   \n",
              "...                        ...                  ...                  ...  ...   \n",
              "3641 2022-02-22 13:35:02+00:00  2022-02-22T13:32:40  2022-03-14T16:11:49  ...   \n",
              "3642 2022-02-22 15:07:38+00:00  2022-02-16T13:59:53  2022-03-20T16:29:10  ...   \n",
              "3643 2022-02-22 13:34:14+00:00  2022-02-15T15:11:52  2022-02-22T13:34:14  ...   \n",
              "3644 2022-02-11 17:14:17+00:00  2022-02-11T16:55:21  2022-04-06T16:14:09  ...   \n",
              "3645 2022-02-10 18:04:08+00:00  2022-02-10T18:02:36  2022-03-10T14:06:32  ...   \n",
              "\n",
              "     billing_lugar     Estado Edad Tematica Fin_evento Lugar  \\\n",
              "0              NaN        NaN  NaN      NaN        NaT   NaN   \n",
              "1            Salón        NaN  NaN      NaN        NaT   NaN   \n",
              "2              SUM        NaN  NaN      NaN        NaT   NaN   \n",
              "3            Salón        NaN  NaN      NaN        NaT   NaN   \n",
              "5              NaN  pendiente  0.0      NaN        NaT   NaN   \n",
              "...            ...        ...  ...      ...        ...   ...   \n",
              "3641           NaN        NaN  NaN      NaN        NaT   NaN   \n",
              "3642           NaN        NaN  NaN      NaN        NaT   NaN   \n",
              "3643           NaN        NaN  NaN      NaN        NaT   NaN   \n",
              "3644           NaN        NaN  NaN      NaN        NaT   NaN   \n",
              "3645           NaN        NaN  NaN      NaN        NaT   NaN   \n",
              "\n",
              "                       Created              Inicio_evento        fecha  \\\n",
              "0                          NaT                        NaT        28/09   \n",
              "1                          NaT  2024-08-24 00:00:00+00:00          NaN   \n",
              "2                          NaT  2024-06-30 00:00:00+00:00          NaN   \n",
              "3                          NaT  2024-08-24 00:00:00+00:00          NaN   \n",
              "5    2024-06-24 14:28:53+00:00  2024-06-24 14:26:27+00:00  29 de junio   \n",
              "...                        ...                        ...          ...   \n",
              "3641                       NaT                        NaT          NaN   \n",
              "3642                       NaT                        NaT          NaN   \n",
              "3643                       NaT                        NaT          NaN   \n",
              "3644                       NaT                        NaT          NaN   \n",
              "3645                       NaT                        NaT          NaN   \n",
              "\n",
              "     fecha_complete  \n",
              "0               NaT  \n",
              "1               NaT  \n",
              "2               NaT  \n",
              "3               NaT  \n",
              "5               NaT  \n",
              "...             ...  \n",
              "3641            NaT  \n",
              "3642            NaT  \n",
              "3643            NaT  \n",
              "3644            NaT  \n",
              "3645            NaT  \n",
              "\n",
              "[3042 rows x 33 columns]"
            ]
          },
          "execution_count": 337,
          "metadata": {},
          "output_type": "execute_result"
        }
      ],
      "source": [
        "df_pedidos_wc_sh[df_pedidos_wc_sh['fecha_complete'].isna()]"
      ]
    },
    {
      "cell_type": "markdown",
      "metadata": {
        "id": "RHeqoLIwY13I"
      },
      "source": [
        "### Convertimos en inglés las fechas para poder agregarle el año"
      ]
    },
    {
      "cell_type": "code",
      "execution_count": null,
      "metadata": {
        "id": "5UpdBugoY13I"
      },
      "outputs": [],
      "source": [
        "def convertir_fecha(fecha):\n",
        "    meses = {\n",
        "        'enero': 'jan', 'febrero': 'feb', 'marzo': 'mar', 'abril': 'apr',\n",
        "        'mayo': 'May', 'junio': 'jun', 'julio': 'Jul', 'agosto': 'aug',\n",
        "        'septiembre': 'sep', 'octubre': 'oct', 'noviembre': 'Nov', 'diciembre': 'dec'\n",
        "    }\n",
        "\n",
        "    try:\n",
        "        fecha = fecha.lower()\n",
        "        dia, de, mes = fecha.split()\n",
        "        if de=='de':\n",
        "            mes_ingles = meses[mes]\n",
        "\n",
        "            fecha_ingles = f\"{mes_ingles} {dia}\"\n",
        "\n",
        "            return fecha_ingles\n",
        "\n",
        "\n",
        "        else:\n",
        "            return fecha\n",
        "    except:\n",
        "        return fecha"
      ]
    },
    {
      "cell_type": "code",
      "execution_count": null,
      "metadata": {
        "id": "l7kTxmZNY13I"
      },
      "outputs": [],
      "source": [
        "df_pedidos_wc_sh['fecha'] = df_pedidos_wc_sh['fecha'].apply(convertir_fecha)"
      ]
    },
    {
      "cell_type": "markdown",
      "metadata": {
        "id": "poNQlkvCY13J"
      },
      "source": [
        "## Funcion que agrega el año\n",
        "\n",
        "- Hay dos formas:\n",
        "    - {nro_mes} / {nro_anio}\n",
        "    - {name_mes} {nro_dia}"
      ]
    },
    {
      "cell_type": "code",
      "execution_count": null,
      "metadata": {
        "id": "Z7DjKMXJY13J"
      },
      "outputs": [],
      "source": [
        "def agregar_ultimo_caracter(data):\n",
        "    try:\n",
        "        if \"/\" in data:\n",
        "            return data + \"/\"\n",
        "        else:\n",
        "            return data + \" \"\n",
        "    except:\n",
        "        return data"
      ]
    },
    {
      "cell_type": "code",
      "execution_count": null,
      "metadata": {
        "id": "hcOxMcWrY13J"
      },
      "outputs": [],
      "source": [
        "df_pedidos_wc_sh['fecha'] = df_pedidos_wc_sh['fecha'].apply(agregar_ultimo_caracter)"
      ]
    },
    {
      "cell_type": "code",
      "execution_count": null,
      "metadata": {
        "id": "Jdk9A6VWY13J",
        "outputId": "1e723f3d-5c64-4297-ec76-3ca5421ac3d2"
      },
      "outputs": [
        {
          "data": {
            "text/html": [
              "<div>\n",
              "<style scoped>\n",
              "    .dataframe tbody tr th:only-of-type {\n",
              "        vertical-align: middle;\n",
              "    }\n",
              "\n",
              "    .dataframe tbody tr th {\n",
              "        vertical-align: top;\n",
              "    }\n",
              "\n",
              "    .dataframe thead th {\n",
              "        text-align: right;\n",
              "    }\n",
              "</style>\n",
              "<table border=\"1\" class=\"dataframe\">\n",
              "  <thead>\n",
              "    <tr style=\"text-align: right;\">\n",
              "      <th></th>\n",
              "      <th>status</th>\n",
              "      <th>date_created</th>\n",
              "      <th>date_modified</th>\n",
              "      <th>payment_method</th>\n",
              "      <th>payment_method_title</th>\n",
              "      <th>created_via</th>\n",
              "      <th>customer_note</th>\n",
              "      <th>date_paid</th>\n",
              "      <th>date_created_gmt</th>\n",
              "      <th>date_modified_gmt</th>\n",
              "      <th>...</th>\n",
              "      <th>Estado</th>\n",
              "      <th>Edad</th>\n",
              "      <th>Tematica</th>\n",
              "      <th>Fin_evento</th>\n",
              "      <th>Lugar</th>\n",
              "      <th>Created</th>\n",
              "      <th>Inicio_evento</th>\n",
              "      <th>fecha</th>\n",
              "      <th>fecha_complete</th>\n",
              "      <th>anio_evento_temp</th>\n",
              "    </tr>\n",
              "  </thead>\n",
              "  <tbody>\n",
              "    <tr>\n",
              "      <th>0</th>\n",
              "      <td>pending</td>\n",
              "      <td>2024-06-24 15:40:13+00:00</td>\n",
              "      <td>2024-06-24 15:42:18+00:00</td>\n",
              "      <td>NaN</td>\n",
              "      <td>NaN</td>\n",
              "      <td>admin</td>\n",
              "      <td>Ruy (nombre de nene)\\r\\n.       Cuantos años c...</td>\n",
              "      <td>NaT</td>\n",
              "      <td>2024-06-24T15:40:13</td>\n",
              "      <td>2024-06-24T15:42:18</td>\n",
              "      <td>...</td>\n",
              "      <td>NaN</td>\n",
              "      <td>NaN</td>\n",
              "      <td>NaN</td>\n",
              "      <td>NaT</td>\n",
              "      <td>NaN</td>\n",
              "      <td>NaT</td>\n",
              "      <td>NaT</td>\n",
              "      <td>28/09/2024</td>\n",
              "      <td>NaT</td>\n",
              "      <td>2024</td>\n",
              "    </tr>\n",
              "    <tr>\n",
              "      <th>1</th>\n",
              "      <td>pending</td>\n",
              "      <td>2024-06-24 15:28:51+00:00</td>\n",
              "      <td>2024-06-24 15:39:58+00:00</td>\n",
              "      <td>woo-mercado-pago-custom</td>\n",
              "      <td>Paga con tarjetas de crédito hasta 6 cuotas si...</td>\n",
              "      <td>checkout</td>\n",
              "      <td>NaN</td>\n",
              "      <td>NaT</td>\n",
              "      <td>2024-06-24T15:28:51</td>\n",
              "      <td>2024-06-24T15:39:58</td>\n",
              "      <td>...</td>\n",
              "      <td>NaN</td>\n",
              "      <td>NaN</td>\n",
              "      <td>NaN</td>\n",
              "      <td>NaT</td>\n",
              "      <td>NaN</td>\n",
              "      <td>NaT</td>\n",
              "      <td>2024-08-24 00:00:00+00:00</td>\n",
              "      <td>NaN</td>\n",
              "      <td>NaT</td>\n",
              "      <td>2024</td>\n",
              "    </tr>\n",
              "    <tr>\n",
              "      <th>2</th>\n",
              "      <td>on-hold</td>\n",
              "      <td>2024-06-24 15:24:51+00:00</td>\n",
              "      <td>2024-06-24 15:24:51+00:00</td>\n",
              "      <td>bacs</td>\n",
              "      <td>Transferencia bancaria  -20%</td>\n",
              "      <td>checkout</td>\n",
              "      <td>NaN</td>\n",
              "      <td>NaT</td>\n",
              "      <td>2024-06-24T15:24:51</td>\n",
              "      <td>2024-06-24T15:24:51</td>\n",
              "      <td>...</td>\n",
              "      <td>NaN</td>\n",
              "      <td>NaN</td>\n",
              "      <td>NaN</td>\n",
              "      <td>NaT</td>\n",
              "      <td>NaN</td>\n",
              "      <td>NaT</td>\n",
              "      <td>2024-06-30 00:00:00+00:00</td>\n",
              "      <td>NaN</td>\n",
              "      <td>NaT</td>\n",
              "      <td>2024</td>\n",
              "    </tr>\n",
              "    <tr>\n",
              "      <th>3</th>\n",
              "      <td>cancelled</td>\n",
              "      <td>2024-06-24 15:24:27+00:00</td>\n",
              "      <td>2024-06-24 15:25:22+00:00</td>\n",
              "      <td>woo-mercado-pago-custom</td>\n",
              "      <td>Paga con tarjetas de crédito hasta 6 cuotas si...</td>\n",
              "      <td>checkout</td>\n",
              "      <td>NaN</td>\n",
              "      <td>NaT</td>\n",
              "      <td>2024-06-24T15:24:27</td>\n",
              "      <td>2024-06-24T15:25:22</td>\n",
              "      <td>...</td>\n",
              "      <td>NaN</td>\n",
              "      <td>NaN</td>\n",
              "      <td>NaN</td>\n",
              "      <td>NaT</td>\n",
              "      <td>NaN</td>\n",
              "      <td>NaT</td>\n",
              "      <td>2024-08-24 00:00:00+00:00</td>\n",
              "      <td>NaN</td>\n",
              "      <td>NaT</td>\n",
              "      <td>2024</td>\n",
              "    </tr>\n",
              "    <tr>\n",
              "      <th>4</th>\n",
              "      <td>processing</td>\n",
              "      <td>2024-06-24 14:32:27+00:00</td>\n",
              "      <td>2024-06-24 14:52:28+00:00</td>\n",
              "      <td>NaN</td>\n",
              "      <td>NaN</td>\n",
              "      <td>admin</td>\n",
              "      <td>Nombre de del homenajeado/a: Bautista\\r\\n.    ...</td>\n",
              "      <td>2024-06-24 14:52:28+00:00</td>\n",
              "      <td>2024-06-24T14:32:27</td>\n",
              "      <td>2024-06-24T14:52:28</td>\n",
              "      <td>...</td>\n",
              "      <td>pendiente</td>\n",
              "      <td>0.0</td>\n",
              "      <td>NaN</td>\n",
              "      <td>NaT</td>\n",
              "      <td>NaN</td>\n",
              "      <td>2024-06-24 14:55:09+00:00</td>\n",
              "      <td>2024-06-24 14:32:27+00:00</td>\n",
              "      <td>24/08/2024/2024</td>\n",
              "      <td>2024-08-24</td>\n",
              "      <td>2024</td>\n",
              "    </tr>\n",
              "    <tr>\n",
              "      <th>...</th>\n",
              "      <td>...</td>\n",
              "      <td>...</td>\n",
              "      <td>...</td>\n",
              "      <td>...</td>\n",
              "      <td>...</td>\n",
              "      <td>...</td>\n",
              "      <td>...</td>\n",
              "      <td>...</td>\n",
              "      <td>...</td>\n",
              "      <td>...</td>\n",
              "      <td>...</td>\n",
              "      <td>...</td>\n",
              "      <td>...</td>\n",
              "      <td>...</td>\n",
              "      <td>...</td>\n",
              "      <td>...</td>\n",
              "      <td>...</td>\n",
              "      <td>...</td>\n",
              "      <td>...</td>\n",
              "      <td>...</td>\n",
              "      <td>...</td>\n",
              "    </tr>\n",
              "    <tr>\n",
              "      <th>3641</th>\n",
              "      <td>completed</td>\n",
              "      <td>2022-02-22 13:32:40+00:00</td>\n",
              "      <td>2022-03-14 16:11:49+00:00</td>\n",
              "      <td>NaN</td>\n",
              "      <td>NaN</td>\n",
              "      <td>NaN</td>\n",
              "      <td>NaN</td>\n",
              "      <td>2022-02-22 13:35:02+00:00</td>\n",
              "      <td>2022-02-22T13:32:40</td>\n",
              "      <td>2022-03-14T16:11:49</td>\n",
              "      <td>...</td>\n",
              "      <td>NaN</td>\n",
              "      <td>NaN</td>\n",
              "      <td>NaN</td>\n",
              "      <td>NaT</td>\n",
              "      <td>NaN</td>\n",
              "      <td>NaT</td>\n",
              "      <td>NaT</td>\n",
              "      <td>NaN</td>\n",
              "      <td>NaT</td>\n",
              "      <td>2022</td>\n",
              "    </tr>\n",
              "    <tr>\n",
              "      <th>3642</th>\n",
              "      <td>completed</td>\n",
              "      <td>2022-02-16 13:59:53+00:00</td>\n",
              "      <td>2022-03-20 16:29:10+00:00</td>\n",
              "      <td>other</td>\n",
              "      <td>Otro</td>\n",
              "      <td>admin</td>\n",
              "      <td>la granja de zenon</td>\n",
              "      <td>2022-02-22 15:07:38+00:00</td>\n",
              "      <td>2022-02-16T13:59:53</td>\n",
              "      <td>2022-03-20T16:29:10</td>\n",
              "      <td>...</td>\n",
              "      <td>NaN</td>\n",
              "      <td>NaN</td>\n",
              "      <td>NaN</td>\n",
              "      <td>NaT</td>\n",
              "      <td>NaN</td>\n",
              "      <td>NaT</td>\n",
              "      <td>NaT</td>\n",
              "      <td>NaN</td>\n",
              "      <td>NaT</td>\n",
              "      <td>2022</td>\n",
              "    </tr>\n",
              "    <tr>\n",
              "      <th>3643</th>\n",
              "      <td>completed</td>\n",
              "      <td>2022-02-15 15:11:52+00:00</td>\n",
              "      <td>2022-02-22 13:34:14+00:00</td>\n",
              "      <td>other</td>\n",
              "      <td>Otro</td>\n",
              "      <td>admin</td>\n",
              "      <td>NaN</td>\n",
              "      <td>2022-02-22 13:34:14+00:00</td>\n",
              "      <td>2022-02-15T15:11:52</td>\n",
              "      <td>2022-02-22T13:34:14</td>\n",
              "      <td>...</td>\n",
              "      <td>NaN</td>\n",
              "      <td>NaN</td>\n",
              "      <td>NaN</td>\n",
              "      <td>NaT</td>\n",
              "      <td>NaN</td>\n",
              "      <td>NaT</td>\n",
              "      <td>NaT</td>\n",
              "      <td>NaN</td>\n",
              "      <td>NaT</td>\n",
              "      <td>2022</td>\n",
              "    </tr>\n",
              "    <tr>\n",
              "      <th>3644</th>\n",
              "      <td>completed</td>\n",
              "      <td>2022-02-11 16:55:21+00:00</td>\n",
              "      <td>2022-04-06 16:14:09+00:00</td>\n",
              "      <td>NaN</td>\n",
              "      <td>NaN</td>\n",
              "      <td>NaN</td>\n",
              "      <td>NaN</td>\n",
              "      <td>2022-02-11 17:14:17+00:00</td>\n",
              "      <td>2022-02-11T16:55:21</td>\n",
              "      <td>2022-04-06T16:14:09</td>\n",
              "      <td>...</td>\n",
              "      <td>NaN</td>\n",
              "      <td>NaN</td>\n",
              "      <td>NaN</td>\n",
              "      <td>NaT</td>\n",
              "      <td>NaN</td>\n",
              "      <td>NaT</td>\n",
              "      <td>NaT</td>\n",
              "      <td>NaN</td>\n",
              "      <td>NaT</td>\n",
              "      <td>2022</td>\n",
              "    </tr>\n",
              "    <tr>\n",
              "      <th>3645</th>\n",
              "      <td>completed</td>\n",
              "      <td>2022-02-10 18:02:36+00:00</td>\n",
              "      <td>2022-03-10 14:06:32+00:00</td>\n",
              "      <td>NaN</td>\n",
              "      <td>NaN</td>\n",
              "      <td>NaN</td>\n",
              "      <td>NaN</td>\n",
              "      <td>2022-02-10 18:04:08+00:00</td>\n",
              "      <td>2022-02-10T18:02:36</td>\n",
              "      <td>2022-03-10T14:06:32</td>\n",
              "      <td>...</td>\n",
              "      <td>NaN</td>\n",
              "      <td>NaN</td>\n",
              "      <td>NaN</td>\n",
              "      <td>NaT</td>\n",
              "      <td>NaN</td>\n",
              "      <td>NaT</td>\n",
              "      <td>NaT</td>\n",
              "      <td>NaN</td>\n",
              "      <td>NaT</td>\n",
              "      <td>2022</td>\n",
              "    </tr>\n",
              "  </tbody>\n",
              "</table>\n",
              "<p>3646 rows × 34 columns</p>\n",
              "</div>"
            ],
            "text/plain": [
              "          status              date_created             date_modified  \\\n",
              "0        pending 2024-06-24 15:40:13+00:00 2024-06-24 15:42:18+00:00   \n",
              "1        pending 2024-06-24 15:28:51+00:00 2024-06-24 15:39:58+00:00   \n",
              "2        on-hold 2024-06-24 15:24:51+00:00 2024-06-24 15:24:51+00:00   \n",
              "3      cancelled 2024-06-24 15:24:27+00:00 2024-06-24 15:25:22+00:00   \n",
              "4     processing 2024-06-24 14:32:27+00:00 2024-06-24 14:52:28+00:00   \n",
              "...          ...                       ...                       ...   \n",
              "3641   completed 2022-02-22 13:32:40+00:00 2022-03-14 16:11:49+00:00   \n",
              "3642   completed 2022-02-16 13:59:53+00:00 2022-03-20 16:29:10+00:00   \n",
              "3643   completed 2022-02-15 15:11:52+00:00 2022-02-22 13:34:14+00:00   \n",
              "3644   completed 2022-02-11 16:55:21+00:00 2022-04-06 16:14:09+00:00   \n",
              "3645   completed 2022-02-10 18:02:36+00:00 2022-03-10 14:06:32+00:00   \n",
              "\n",
              "               payment_method  \\\n",
              "0                         NaN   \n",
              "1     woo-mercado-pago-custom   \n",
              "2                        bacs   \n",
              "3     woo-mercado-pago-custom   \n",
              "4                         NaN   \n",
              "...                       ...   \n",
              "3641                      NaN   \n",
              "3642                    other   \n",
              "3643                    other   \n",
              "3644                      NaN   \n",
              "3645                      NaN   \n",
              "\n",
              "                                   payment_method_title created_via  \\\n",
              "0                                                   NaN       admin   \n",
              "1     Paga con tarjetas de crédito hasta 6 cuotas si...    checkout   \n",
              "2                          Transferencia bancaria  -20%    checkout   \n",
              "3     Paga con tarjetas de crédito hasta 6 cuotas si...    checkout   \n",
              "4                                                   NaN       admin   \n",
              "...                                                 ...         ...   \n",
              "3641                                                NaN         NaN   \n",
              "3642                                               Otro       admin   \n",
              "3643                                               Otro       admin   \n",
              "3644                                                NaN         NaN   \n",
              "3645                                                NaN         NaN   \n",
              "\n",
              "                                          customer_note  \\\n",
              "0     Ruy (nombre de nene)\\r\\n.       Cuantos años c...   \n",
              "1                                                   NaN   \n",
              "2                                                   NaN   \n",
              "3                                                   NaN   \n",
              "4     Nombre de del homenajeado/a: Bautista\\r\\n.    ...   \n",
              "...                                                 ...   \n",
              "3641                                                NaN   \n",
              "3642                                 la granja de zenon   \n",
              "3643                                                NaN   \n",
              "3644                                                NaN   \n",
              "3645                                                NaN   \n",
              "\n",
              "                     date_paid     date_created_gmt    date_modified_gmt  ...  \\\n",
              "0                          NaT  2024-06-24T15:40:13  2024-06-24T15:42:18  ...   \n",
              "1                          NaT  2024-06-24T15:28:51  2024-06-24T15:39:58  ...   \n",
              "2                          NaT  2024-06-24T15:24:51  2024-06-24T15:24:51  ...   \n",
              "3                          NaT  2024-06-24T15:24:27  2024-06-24T15:25:22  ...   \n",
              "4    2024-06-24 14:52:28+00:00  2024-06-24T14:32:27  2024-06-24T14:52:28  ...   \n",
              "...                        ...                  ...                  ...  ...   \n",
              "3641 2022-02-22 13:35:02+00:00  2022-02-22T13:32:40  2022-03-14T16:11:49  ...   \n",
              "3642 2022-02-22 15:07:38+00:00  2022-02-16T13:59:53  2022-03-20T16:29:10  ...   \n",
              "3643 2022-02-22 13:34:14+00:00  2022-02-15T15:11:52  2022-02-22T13:34:14  ...   \n",
              "3644 2022-02-11 17:14:17+00:00  2022-02-11T16:55:21  2022-04-06T16:14:09  ...   \n",
              "3645 2022-02-10 18:04:08+00:00  2022-02-10T18:02:36  2022-03-10T14:06:32  ...   \n",
              "\n",
              "         Estado Edad Tematica Fin_evento Lugar                   Created  \\\n",
              "0           NaN  NaN      NaN        NaT   NaN                       NaT   \n",
              "1           NaN  NaN      NaN        NaT   NaN                       NaT   \n",
              "2           NaN  NaN      NaN        NaT   NaN                       NaT   \n",
              "3           NaN  NaN      NaN        NaT   NaN                       NaT   \n",
              "4     pendiente  0.0      NaN        NaT   NaN 2024-06-24 14:55:09+00:00   \n",
              "...         ...  ...      ...        ...   ...                       ...   \n",
              "3641        NaN  NaN      NaN        NaT   NaN                       NaT   \n",
              "3642        NaN  NaN      NaN        NaT   NaN                       NaT   \n",
              "3643        NaN  NaN      NaN        NaT   NaN                       NaT   \n",
              "3644        NaN  NaN      NaN        NaT   NaN                       NaT   \n",
              "3645        NaN  NaN      NaN        NaT   NaN                       NaT   \n",
              "\n",
              "                  Inicio_evento            fecha fecha_complete  \\\n",
              "0                           NaT       28/09/2024            NaT   \n",
              "1     2024-08-24 00:00:00+00:00              NaN            NaT   \n",
              "2     2024-06-30 00:00:00+00:00              NaN            NaT   \n",
              "3     2024-08-24 00:00:00+00:00              NaN            NaT   \n",
              "4     2024-06-24 14:32:27+00:00  24/08/2024/2024     2024-08-24   \n",
              "...                         ...              ...            ...   \n",
              "3641                        NaT              NaN            NaT   \n",
              "3642                        NaT              NaN            NaT   \n",
              "3643                        NaT              NaN            NaT   \n",
              "3644                        NaT              NaN            NaT   \n",
              "3645                        NaT              NaN            NaT   \n",
              "\n",
              "     anio_evento_temp  \n",
              "0                2024  \n",
              "1                2024  \n",
              "2                2024  \n",
              "3                2024  \n",
              "4                2024  \n",
              "...               ...  \n",
              "3641             2022  \n",
              "3642             2022  \n",
              "3643             2022  \n",
              "3644             2022  \n",
              "3645             2022  \n",
              "\n",
              "[3646 rows x 34 columns]"
            ]
          },
          "execution_count": 342,
          "metadata": {},
          "output_type": "execute_result"
        }
      ],
      "source": [
        "df_pedidos_wc_sh['anio_evento_temp'] = (df_pedidos_wc_sh['date_created'].dt.year).astype(str)\n",
        "df_pedidos_wc_sh['fecha'] = df_pedidos_wc_sh['fecha'].str.cat(df_pedidos_wc_sh['anio_evento_temp'], sep='')\n",
        "\n",
        "df_pedidos_wc_sh"
      ]
    },
    {
      "cell_type": "code",
      "execution_count": null,
      "metadata": {
        "id": "bsp59unkY13J",
        "outputId": "cc44e129-200c-44c8-c001-cc2d8a33c996"
      },
      "outputs": [
        {
          "name": "stderr",
          "output_type": "stream",
          "text": [
            "/tmp/ipykernel_222609/4075736083.py:3: UserWarning: Parsing dates in %d/%m/%Y format when dayfirst=False (the default) was specified. Pass `dayfirst=True` or specify a format to silence this warning.\n",
            "  return pd.to_datetime(data, errors='coerce')\n",
            "/tmp/ipykernel_222609/4075736083.py:3: UserWarning: Parsing dates in %d/%m/%H%M/%Y format when dayfirst=False (the default) was specified. Pass `dayfirst=True` or specify a format to silence this warning.\n",
            "  return pd.to_datetime(data, errors='coerce')\n",
            "/tmp/ipykernel_222609/4075736083.py:3: UserWarning: Parsing dates in %d.%m.%H%M %Y format when dayfirst=False (the default) was specified. Pass `dayfirst=True` or specify a format to silence this warning.\n",
            "  return pd.to_datetime(data, errors='coerce')\n",
            "/tmp/ipykernel_222609/4075736083.py:3: UserWarning: Parsing dates in %d/%m/%Y/%H%M format when dayfirst=False (the default) was specified. Pass `dayfirst=True` or specify a format to silence this warning.\n",
            "  return pd.to_datetime(data, errors='coerce')\n",
            "/tmp/ipykernel_222609/4075736083.py:3: UserWarning: Parsing dates in %d.%m.%Y %H%M format when dayfirst=False (the default) was specified. Pass `dayfirst=True` or specify a format to silence this warning.\n",
            "  return pd.to_datetime(data, errors='coerce')\n"
          ]
        }
      ],
      "source": [
        "df_pedidos_wc_sh['fecha_complete'] = df_pedidos_wc_sh['fecha'].apply(evaluar_fecha_correcta)"
      ]
    },
    {
      "cell_type": "code",
      "execution_count": null,
      "metadata": {
        "id": "FiTYC5vfY13J",
        "outputId": "a77044ca-1b04-47d6-effc-80d8734987dd"
      },
      "outputs": [
        {
          "name": "stdout",
          "output_type": "stream",
          "text": [
            "Pedidos sin dato de fecha del evento -> 840 de 3646 - (23.04 %)\n"
          ]
        }
      ],
      "source": [
        "missing_values_info(df_pedidos_wc_sh,'Inicio_evento')"
      ]
    },
    {
      "cell_type": "code",
      "execution_count": null,
      "metadata": {
        "id": "VypqmRG3Y13J"
      },
      "outputs": [],
      "source": [
        "df_pedidos_wc_sh.reset_index(drop=True, inplace=True)\n",
        "df_pedidos_wc_sh.loc[df_pedidos_wc_sh['Inicio_evento'].isna(), 'Inicio_evento'] = df_pedidos_wc_sh['fecha_complete']"
      ]
    },
    {
      "cell_type": "markdown",
      "metadata": {
        "id": "ynKR8CPAY13J"
      },
      "source": [
        "Tratamos de ver que datos aún nos quedaron como faltantes y los evaluamos manualmente si son pocos, o automáticamente si vemos un patrón"
      ]
    },
    {
      "cell_type": "code",
      "execution_count": null,
      "metadata": {
        "id": "bNy6GZe2Y13J",
        "outputId": "c04ca191-0842-47c9-834d-af9efa90b6b2"
      },
      "outputs": [
        {
          "data": {
            "text/plain": [
              "65                                                                                                                                                                                                                                                                      Rufina \\r\\nSábado 3/8\\r\\n3 años \\r\\n15 a 18 hs. \\r\\nSum (el cantón, Escobar) \\r\\nPepa pig \\r\\nCreo que el de paneles plus\n",
              "173                                                                  Hola chicas! Les escribo para contarles que debemos pasar el curso ya que Noe está con fiebre y sin vos 😞 \\nSeguro durante el día les escriba por WhatsApp. \\nEstamos reorganizando con el lugar para posible fecha la semana próxima. Apenas nos confirmen les aviso! \\nLes piso disculpas! \\n\\nMile - Ambientando fiestas \n",
              "704                                                                Rocío y Alejandro\\r\\n.       Cuantos años cumple:\\r\\nCasamiento\\r\\n•\\tFecha\\r\\nViernes 23/2\\r\\n•\\tHora de inicio\\r\\n10:30\\r\\n. Hora de finalización\\r\\n18:30\\r\\n.       Dirección del lugar:\\r\\nChaco 2512, Valentín Alsina\\r\\n.       Es casa, SUM, salón de fiestas o otro?\\r\\nQuinta para fiestas\\r\\n•\\tTemática: boho chic\n",
              "755     Nombre de del homenajeado/a GINO \\r\\n.       Cuantos años cumple: 1 \\r\\n•\\tFecha 16 marzo 2024\\r\\n•\\tHora de inicio 13hs \\r\\n.       Hora de finalización 19hs \\r\\n.       Dirección del lugar: avenida Gaspar campos 2219, Muñiz \\r\\n.       Es casa, SUM, salón de fiestas o otro? Quinta \\r\\n•\\tTemática stitch con colores pasteles \\r\\nQué servicio queres burbuja inflable sin piso\n",
              "761                                                                                                                                                                                                                                                                                                           ito 3\\r\\nChloe 1 \\r\\n\\r\\nFecha 24/2 \\r\\n16hs \\r\\nSUM\\r\\nCiudad de la Paz 2331, CABA\n",
              "                                                                                                                                                                                                  ...                                                                                                                                                                                            \n",
              "3631                                                                                                                                                                                                                                                                                                                                                                         Temática dinosaurios\n",
              "3633                                                                                                                                                                                                                                                                                                                                        Tematica Encanto \\r\\nCumple: Habana,\\r\\ncumple 6 años\n",
              "3634                                                                                                                                                                                                                                                                                                                                                  Agregar panel lateral: tematica La sirenita\n",
              "3637                                                                                                                                                                                                                                                                                                                                               Montaje infantil premium animales de la selva.\n",
              "3642                                                                                                                                                                                                                                                                                                                                                                           la granja de zenon\n",
              "Name: customer_note, Length: 447, dtype: object"
            ]
          },
          "execution_count": 373,
          "metadata": {},
          "output_type": "execute_result"
        }
      ],
      "source": [
        "pd.set_option('display.max_colwidth', 500)\n",
        "df_pedidos_wc_sh['customer_note'][(df_pedidos_wc_sh['Inicio_evento'].isna()) & (df_pedidos_wc_sh['fecha'].isna()) & (df_pedidos_wc_sh['customer_note'].notna())]\n",
        "#df_pedidos_wc_sh[(df_pedidos_wc_sh['Inicio_evento'].isna()) & (df_pedidos_wc_sh['fecha'].isna())]\n"
      ]
    },
    {
      "cell_type": "markdown",
      "metadata": {
        "id": "HFEeG2_rY13J"
      },
      "source": [
        "Podemos ver que hay mas pedidos que se pueden recuperar. Por ahora nos quedamos con los que tenemos"
      ]
    },
    {
      "cell_type": "code",
      "execution_count": null,
      "metadata": {
        "id": "3-rdnxGhY13J",
        "outputId": "5da91b0f-b3b6-4dcf-ba67-43a4e9983b63"
      },
      "outputs": [
        {
          "name": "stderr",
          "output_type": "stream",
          "text": [
            "/tmp/ipykernel_222609/2265077564.py:9: UserWarning: Converting to PeriodArray/Index representation will drop timezone information.\n",
            "  df_pedidos_con_o_sin_fecha_evento['mes'] = df_pedidos_con_o_sin_fecha_evento['date_created'].dt.to_period('M')\n"
          ]
        },
        {
          "data": {
            "image/png": "[encoded data removed]",
            "text/plain": [
              "<Figure size 2000x800 with 1 Axes>"
            ]
          },
          "metadata": {},
          "output_type": "display_data"
        }
      ],
      "source": [
        "import pandas as pd\n",
        "import matplotlib.pyplot as plt\n",
        "\n",
        "fig,ax = plt.subplots(figsize=(20,8))\n",
        "df_pedidos_wc_sh[columns_to_convert].apply(pd.to_datetime,utc=True)\n",
        "df_pedidos_con_o_sin_fecha_evento = df_pedidos_wc_sh.copy()\n",
        "df_pedidos_con_o_sin_fecha_evento['tiene_fecha_del_evento'] = df_pedidos_con_o_sin_fecha_evento['Inicio_evento'].notna()\n",
        "\n",
        "df_pedidos_con_o_sin_fecha_evento['mes'] = df_pedidos_con_o_sin_fecha_evento['date_created'].dt.to_period('M')\n",
        "\n",
        "conteo_mes_estado_fecha = df_pedidos_con_o_sin_fecha_evento.groupby(['mes','tiene_fecha_del_evento']).size().unstack(fill_value=0)\n",
        "\n",
        "\n",
        "# Graficar\n",
        "conteo_mes_estado_fecha.plot(kind='bar',ax=ax,color=['orange','lightgreen'])\n",
        "ax.set_title(\"Cantidad pedidos con fecha del evento según fecha de carga\")\n",
        "ax.set_xlabel(\"Fecha\")\n",
        "ax.set_ylabel(\"Cantidad\")\n",
        "plt.show()"
      ]
    },
    {
      "cell_type": "markdown",
      "metadata": {
        "id": "ewy0oEtiY13J"
      },
      "source": [
        "## 1) ¿Cuánto tiempo antes reserva la gente al día del evento?\n",
        "Calculamos para todos los eventos donde hay dato del inicio del evento\n"
      ]
    },
    {
      "cell_type": "code",
      "execution_count": null,
      "metadata": {
        "id": "2g94PkkhY13J"
      },
      "outputs": [],
      "source": [
        "df_pedidos_wc_sh =  df_pedidos_wc_sh[df_pedidos_wc_sh['Inicio_evento'].notna()]\n",
        "df_pedidos_wc_sh =  df_pedidos_wc_sh[df_pedidos_wc_sh['Inicio_evento']!=df_pedidos_wc_sh['date_created']]"
      ]
    },
    {
      "cell_type": "code",
      "execution_count": null,
      "metadata": {
        "id": "CXkUVWxMY13J",
        "outputId": "e2769675-991c-442f-e463-cd5b8e86b79e"
      },
      "outputs": [
        {
          "name": "stdout",
          "output_type": "stream",
          "text": [
            "<class 'pandas.core.frame.DataFrame'>\n",
            "Index: 2783 entries, 0 to 3640\n",
            "Data columns (total 2 columns):\n",
            " #   Column         Non-Null Count  Dtype              \n",
            "---  ------         --------------  -----              \n",
            " 0   Inicio_evento  2783 non-null   object             \n",
            " 1   date_created   2783 non-null   datetime64[ns, UTC]\n",
            "dtypes: datetime64[ns, UTC](1), object(1)\n",
            "memory usage: 65.2+ KB\n"
          ]
        }
      ],
      "source": [
        "df_pedidos_wc_sh[['Inicio_evento','date_created']].info()"
      ]
    },
    {
      "cell_type": "markdown",
      "metadata": {
        "id": "S4yNagRoY13J"
      },
      "source": [
        "Convertimos los campos al mismo tipo"
      ]
    },
    {
      "cell_type": "code",
      "execution_count": null,
      "metadata": {
        "id": "4fskJof5Y13J"
      },
      "outputs": [],
      "source": [
        "def safe_convert_to_datetime(value):\n",
        "    try:\n",
        "        return pd.to_datetime(value, utc=True)\n",
        "    except Exception:\n",
        "        return value"
      ]
    },
    {
      "cell_type": "code",
      "execution_count": null,
      "metadata": {
        "id": "-mBIraukY13J",
        "outputId": "94c632e2-7adb-4328-b5b9-03bbd7ab08ea"
      },
      "outputs": [
        {
          "data": {
            "text/html": [
              "<div>\n",
              "<style scoped>\n",
              "    .dataframe tbody tr th:only-of-type {\n",
              "        vertical-align: middle;\n",
              "    }\n",
              "\n",
              "    .dataframe tbody tr th {\n",
              "        vertical-align: top;\n",
              "    }\n",
              "\n",
              "    .dataframe thead th {\n",
              "        text-align: right;\n",
              "    }\n",
              "</style>\n",
              "<table border=\"1\" class=\"dataframe\">\n",
              "  <thead>\n",
              "    <tr style=\"text-align: right;\">\n",
              "      <th></th>\n",
              "      <th>Inicio_evento</th>\n",
              "      <th>date_created</th>\n",
              "    </tr>\n",
              "  </thead>\n",
              "  <tbody>\n",
              "    <tr>\n",
              "      <th>0</th>\n",
              "      <td>2024-09-28 00:00:00</td>\n",
              "      <td>2024-06-24 15:40:13+00:00</td>\n",
              "    </tr>\n",
              "    <tr>\n",
              "      <th>1</th>\n",
              "      <td>2024-08-24 00:00:00+00:00</td>\n",
              "      <td>2024-06-24 15:28:51+00:00</td>\n",
              "    </tr>\n",
              "    <tr>\n",
              "      <th>2</th>\n",
              "      <td>2024-06-30 00:00:00+00:00</td>\n",
              "      <td>2024-06-24 15:24:51+00:00</td>\n",
              "    </tr>\n",
              "    <tr>\n",
              "      <th>3</th>\n",
              "      <td>2024-08-24 00:00:00+00:00</td>\n",
              "      <td>2024-06-24 15:24:27+00:00</td>\n",
              "    </tr>\n",
              "    <tr>\n",
              "      <th>17</th>\n",
              "      <td>2025-02-15 00:00:00+00:00</td>\n",
              "      <td>2024-06-24 01:21:50+00:00</td>\n",
              "    </tr>\n",
              "    <tr>\n",
              "      <th>...</th>\n",
              "      <td>...</td>\n",
              "      <td>...</td>\n",
              "    </tr>\n",
              "    <tr>\n",
              "      <th>3618</th>\n",
              "      <td>2022-05-09 00:00:00</td>\n",
              "      <td>2022-03-29 16:28:50+00:00</td>\n",
              "    </tr>\n",
              "    <tr>\n",
              "      <th>3623</th>\n",
              "      <td>2022-07-08 00:00:00</td>\n",
              "      <td>2022-03-27 17:33:47+00:00</td>\n",
              "    </tr>\n",
              "    <tr>\n",
              "      <th>3632</th>\n",
              "      <td>2022-06-18 00:00:00</td>\n",
              "      <td>2022-03-21 14:34:14+00:00</td>\n",
              "    </tr>\n",
              "    <tr>\n",
              "      <th>3635</th>\n",
              "      <td>2022-04-24 00:00:00</td>\n",
              "      <td>2022-03-11 14:11:45+00:00</td>\n",
              "    </tr>\n",
              "    <tr>\n",
              "      <th>3640</th>\n",
              "      <td>2022-03-27 00:00:00</td>\n",
              "      <td>2022-02-22 13:49:43+00:00</td>\n",
              "    </tr>\n",
              "  </tbody>\n",
              "</table>\n",
              "<p>2783 rows × 2 columns</p>\n",
              "</div>"
            ],
            "text/plain": [
              "                  Inicio_evento              date_created\n",
              "0           2024-09-28 00:00:00 2024-06-24 15:40:13+00:00\n",
              "1     2024-08-24 00:00:00+00:00 2024-06-24 15:28:51+00:00\n",
              "2     2024-06-30 00:00:00+00:00 2024-06-24 15:24:51+00:00\n",
              "3     2024-08-24 00:00:00+00:00 2024-06-24 15:24:27+00:00\n",
              "17    2025-02-15 00:00:00+00:00 2024-06-24 01:21:50+00:00\n",
              "...                         ...                       ...\n",
              "3618        2022-05-09 00:00:00 2022-03-29 16:28:50+00:00\n",
              "3623        2022-07-08 00:00:00 2022-03-27 17:33:47+00:00\n",
              "3632        2022-06-18 00:00:00 2022-03-21 14:34:14+00:00\n",
              "3635        2022-04-24 00:00:00 2022-03-11 14:11:45+00:00\n",
              "3640        2022-03-27 00:00:00 2022-02-22 13:49:43+00:00\n",
              "\n",
              "[2783 rows x 2 columns]"
            ]
          },
          "execution_count": 378,
          "metadata": {},
          "output_type": "execute_result"
        }
      ],
      "source": [
        "df_pedidos_wc_sh[['Inicio_evento','date_created']]"
      ]
    },
    {
      "cell_type": "code",
      "execution_count": null,
      "metadata": {
        "id": "t-HGjbsoY13K"
      },
      "outputs": [],
      "source": [
        "df_pedidos_wc_sh['Inicio_evento'] =  df_pedidos_wc_sh['Inicio_evento'].apply(safe_convert_to_datetime)"
      ]
    },
    {
      "cell_type": "code",
      "execution_count": null,
      "metadata": {
        "id": "qbI_OaNSY13K",
        "outputId": "bbb5aa76-503e-4d81-894c-61314f3a3c60"
      },
      "outputs": [
        {
          "data": {
            "text/html": [
              "<div>\n",
              "<style scoped>\n",
              "    .dataframe tbody tr th:only-of-type {\n",
              "        vertical-align: middle;\n",
              "    }\n",
              "\n",
              "    .dataframe tbody tr th {\n",
              "        vertical-align: top;\n",
              "    }\n",
              "\n",
              "    .dataframe thead th {\n",
              "        text-align: right;\n",
              "    }\n",
              "</style>\n",
              "<table border=\"1\" class=\"dataframe\">\n",
              "  <thead>\n",
              "    <tr style=\"text-align: right;\">\n",
              "      <th></th>\n",
              "      <th>Inicio_evento</th>\n",
              "      <th>date_created</th>\n",
              "    </tr>\n",
              "  </thead>\n",
              "  <tbody>\n",
              "    <tr>\n",
              "      <th>0</th>\n",
              "      <td>2024-09-28 00:00:00+00:00</td>\n",
              "      <td>2024-06-24 15:40:13+00:00</td>\n",
              "    </tr>\n",
              "    <tr>\n",
              "      <th>1</th>\n",
              "      <td>2024-08-24 00:00:00+00:00</td>\n",
              "      <td>2024-06-24 15:28:51+00:00</td>\n",
              "    </tr>\n",
              "    <tr>\n",
              "      <th>2</th>\n",
              "      <td>2024-06-30 00:00:00+00:00</td>\n",
              "      <td>2024-06-24 15:24:51+00:00</td>\n",
              "    </tr>\n",
              "    <tr>\n",
              "      <th>3</th>\n",
              "      <td>2024-08-24 00:00:00+00:00</td>\n",
              "      <td>2024-06-24 15:24:27+00:00</td>\n",
              "    </tr>\n",
              "    <tr>\n",
              "      <th>17</th>\n",
              "      <td>2025-02-15 00:00:00+00:00</td>\n",
              "      <td>2024-06-24 01:21:50+00:00</td>\n",
              "    </tr>\n",
              "    <tr>\n",
              "      <th>...</th>\n",
              "      <td>...</td>\n",
              "      <td>...</td>\n",
              "    </tr>\n",
              "    <tr>\n",
              "      <th>3618</th>\n",
              "      <td>2022-05-09 00:00:00+00:00</td>\n",
              "      <td>2022-03-29 16:28:50+00:00</td>\n",
              "    </tr>\n",
              "    <tr>\n",
              "      <th>3623</th>\n",
              "      <td>2022-07-08 00:00:00+00:00</td>\n",
              "      <td>2022-03-27 17:33:47+00:00</td>\n",
              "    </tr>\n",
              "    <tr>\n",
              "      <th>3632</th>\n",
              "      <td>2022-06-18 00:00:00+00:00</td>\n",
              "      <td>2022-03-21 14:34:14+00:00</td>\n",
              "    </tr>\n",
              "    <tr>\n",
              "      <th>3635</th>\n",
              "      <td>2022-04-24 00:00:00+00:00</td>\n",
              "      <td>2022-03-11 14:11:45+00:00</td>\n",
              "    </tr>\n",
              "    <tr>\n",
              "      <th>3640</th>\n",
              "      <td>2022-03-27 00:00:00+00:00</td>\n",
              "      <td>2022-02-22 13:49:43+00:00</td>\n",
              "    </tr>\n",
              "  </tbody>\n",
              "</table>\n",
              "<p>2783 rows × 2 columns</p>\n",
              "</div>"
            ],
            "text/plain": [
              "                 Inicio_evento              date_created\n",
              "0    2024-09-28 00:00:00+00:00 2024-06-24 15:40:13+00:00\n",
              "1    2024-08-24 00:00:00+00:00 2024-06-24 15:28:51+00:00\n",
              "2    2024-06-30 00:00:00+00:00 2024-06-24 15:24:51+00:00\n",
              "3    2024-08-24 00:00:00+00:00 2024-06-24 15:24:27+00:00\n",
              "17   2025-02-15 00:00:00+00:00 2024-06-24 01:21:50+00:00\n",
              "...                        ...                       ...\n",
              "3618 2022-05-09 00:00:00+00:00 2022-03-29 16:28:50+00:00\n",
              "3623 2022-07-08 00:00:00+00:00 2022-03-27 17:33:47+00:00\n",
              "3632 2022-06-18 00:00:00+00:00 2022-03-21 14:34:14+00:00\n",
              "3635 2022-04-24 00:00:00+00:00 2022-03-11 14:11:45+00:00\n",
              "3640 2022-03-27 00:00:00+00:00 2022-02-22 13:49:43+00:00\n",
              "\n",
              "[2783 rows x 2 columns]"
            ]
          },
          "execution_count": 380,
          "metadata": {},
          "output_type": "execute_result"
        }
      ],
      "source": [
        "df_pedidos_wc_sh[['Inicio_evento','date_created']]"
      ]
    },
    {
      "cell_type": "markdown",
      "metadata": {
        "id": "-aTymZXpY13K"
      },
      "source": [
        "### Calculo del tiempo de anticipación de reserva de un evento"
      ]
    },
    {
      "cell_type": "code",
      "execution_count": null,
      "metadata": {
        "id": "kwVqjua-Y13K"
      },
      "outputs": [],
      "source": [
        "df_pedidos_wc_sh['anticipacion_reserva_dias'] = (df_pedidos_wc_sh['Inicio_evento'] -df_pedidos_wc_sh['date_created']).dt.days"
      ]
    },
    {
      "cell_type": "markdown",
      "metadata": {
        "id": "gqYIiRlPY13K"
      },
      "source": [
        "## Verificación de datos outliers"
      ]
    },
    {
      "cell_type": "code",
      "execution_count": null,
      "metadata": {
        "id": "PB9nRAsxY13K",
        "outputId": "24619819-65a0-409f-c628-43054a2367e9"
      },
      "outputs": [
        {
          "data": {
            "text/html": [
              "<div>\n",
              "<style scoped>\n",
              "    .dataframe tbody tr th:only-of-type {\n",
              "        vertical-align: middle;\n",
              "    }\n",
              "\n",
              "    .dataframe tbody tr th {\n",
              "        vertical-align: top;\n",
              "    }\n",
              "\n",
              "    .dataframe thead th {\n",
              "        text-align: right;\n",
              "    }\n",
              "</style>\n",
              "<table border=\"1\" class=\"dataframe\">\n",
              "  <thead>\n",
              "    <tr style=\"text-align: right;\">\n",
              "      <th></th>\n",
              "      <th>status</th>\n",
              "      <th>date_created</th>\n",
              "      <th>date_modified</th>\n",
              "      <th>payment_method</th>\n",
              "      <th>payment_method_title</th>\n",
              "      <th>created_via</th>\n",
              "      <th>customer_note</th>\n",
              "      <th>date_paid</th>\n",
              "      <th>date_created_gmt</th>\n",
              "      <th>date_modified_gmt</th>\n",
              "      <th>...</th>\n",
              "      <th>Edad</th>\n",
              "      <th>Tematica</th>\n",
              "      <th>Fin_evento</th>\n",
              "      <th>Lugar</th>\n",
              "      <th>Created</th>\n",
              "      <th>Inicio_evento</th>\n",
              "      <th>fecha</th>\n",
              "      <th>fecha_complete</th>\n",
              "      <th>anio_evento_temp</th>\n",
              "      <th>anticipacion_reserva_dias</th>\n",
              "    </tr>\n",
              "  </thead>\n",
              "  <tbody>\n",
              "    <tr>\n",
              "      <th>0</th>\n",
              "      <td>pending</td>\n",
              "      <td>2024-06-24 15:40:13+00:00</td>\n",
              "      <td>2024-06-24 15:42:18+00:00</td>\n",
              "      <td>NaN</td>\n",
              "      <td>NaN</td>\n",
              "      <td>admin</td>\n",
              "      <td>Ruy (nombre de nene)\\r\\n.       Cuantos años cumple: 1\\r\\n•\\tFecha sábado 28/09 \\r\\n•\\tHora de inicio 13hs\\r\\n.       Hora de finalización 16hs\\r\\n.       Dirección del lugar: Bartolomé Mitre 3925\\r\\n.       Es SUM.\\r\\n•\\tBaby Yoda con colores pasteles \\r\\nQué servicio queres: Decoración con 3 paneles gold con pastelería.(con transferencia )\\r\\nMÁS PELOTERO (6 cuotas)</td>\n",
              "      <td>NaT</td>\n",
              "      <td>2024-06-24T15:40:13</td>\n",
              "      <td>2024-06-24T15:42:18</td>\n",
              "      <td>...</td>\n",
              "      <td>NaN</td>\n",
              "      <td>NaN</td>\n",
              "      <td>NaT</td>\n",
              "      <td>NaN</td>\n",
              "      <td>NaT</td>\n",
              "      <td>2024-09-28 00:00:00+00:00</td>\n",
              "      <td>28/09/2024</td>\n",
              "      <td>2024-09-28</td>\n",
              "      <td>2024</td>\n",
              "      <td>95</td>\n",
              "    </tr>\n",
              "    <tr>\n",
              "      <th>1</th>\n",
              "      <td>pending</td>\n",
              "      <td>2024-06-24 15:28:51+00:00</td>\n",
              "      <td>2024-06-24 15:39:58+00:00</td>\n",
              "      <td>woo-mercado-pago-custom</td>\n",
              "      <td>Paga con tarjetas de crédito hasta 6 cuotas sin interés</td>\n",
              "      <td>checkout</td>\n",
              "      <td>NaN</td>\n",
              "      <td>NaT</td>\n",
              "      <td>2024-06-24T15:28:51</td>\n",
              "      <td>2024-06-24T15:39:58</td>\n",
              "      <td>...</td>\n",
              "      <td>NaN</td>\n",
              "      <td>NaN</td>\n",
              "      <td>NaT</td>\n",
              "      <td>NaN</td>\n",
              "      <td>NaT</td>\n",
              "      <td>2024-08-24 00:00:00+00:00</td>\n",
              "      <td>NaN</td>\n",
              "      <td>NaT</td>\n",
              "      <td>2024</td>\n",
              "      <td>60</td>\n",
              "    </tr>\n",
              "    <tr>\n",
              "      <th>2</th>\n",
              "      <td>on-hold</td>\n",
              "      <td>2024-06-24 15:24:51+00:00</td>\n",
              "      <td>2024-06-24 15:24:51+00:00</td>\n",
              "      <td>bacs</td>\n",
              "      <td>Transferencia bancaria  -20%</td>\n",
              "      <td>checkout</td>\n",
              "      <td>NaN</td>\n",
              "      <td>NaT</td>\n",
              "      <td>2024-06-24T15:24:51</td>\n",
              "      <td>2024-06-24T15:24:51</td>\n",
              "      <td>...</td>\n",
              "      <td>NaN</td>\n",
              "      <td>NaN</td>\n",
              "      <td>NaT</td>\n",
              "      <td>NaN</td>\n",
              "      <td>NaT</td>\n",
              "      <td>2024-06-30 00:00:00+00:00</td>\n",
              "      <td>NaN</td>\n",
              "      <td>NaT</td>\n",
              "      <td>2024</td>\n",
              "      <td>5</td>\n",
              "    </tr>\n",
              "    <tr>\n",
              "      <th>3</th>\n",
              "      <td>cancelled</td>\n",
              "      <td>2024-06-24 15:24:27+00:00</td>\n",
              "      <td>2024-06-24 15:25:22+00:00</td>\n",
              "      <td>woo-mercado-pago-custom</td>\n",
              "      <td>Paga con tarjetas de crédito hasta 6 cuotas sin interés</td>\n",
              "      <td>checkout</td>\n",
              "      <td>NaN</td>\n",
              "      <td>NaT</td>\n",
              "      <td>2024-06-24T15:24:27</td>\n",
              "      <td>2024-06-24T15:25:22</td>\n",
              "      <td>...</td>\n",
              "      <td>NaN</td>\n",
              "      <td>NaN</td>\n",
              "      <td>NaT</td>\n",
              "      <td>NaN</td>\n",
              "      <td>NaT</td>\n",
              "      <td>2024-08-24 00:00:00+00:00</td>\n",
              "      <td>NaN</td>\n",
              "      <td>NaT</td>\n",
              "      <td>2024</td>\n",
              "      <td>60</td>\n",
              "    </tr>\n",
              "    <tr>\n",
              "      <th>17</th>\n",
              "      <td>processing</td>\n",
              "      <td>2024-06-24 01:21:50+00:00</td>\n",
              "      <td>2024-06-24 01:22:31+00:00</td>\n",
              "      <td>woo-mercado-pago-custom</td>\n",
              "      <td>Paga con tarjetas de crédito hasta 6 cuotas sin interés</td>\n",
              "      <td>checkout</td>\n",
              "      <td>NaN</td>\n",
              "      <td>2024-06-24 01:22:31+00:00</td>\n",
              "      <td>2024-06-24T01:21:50</td>\n",
              "      <td>2024-06-24T01:22:31</td>\n",
              "      <td>...</td>\n",
              "      <td>5.0</td>\n",
              "      <td>A confirmar</td>\n",
              "      <td>2025-02-15 23:30:00+00:00</td>\n",
              "      <td>Salón</td>\n",
              "      <td>2024-06-24 01:23:15+00:00</td>\n",
              "      <td>2025-02-15 00:00:00+00:00</td>\n",
              "      <td>NaN</td>\n",
              "      <td>NaT</td>\n",
              "      <td>2024</td>\n",
              "      <td>235</td>\n",
              "    </tr>\n",
              "    <tr>\n",
              "      <th>...</th>\n",
              "      <td>...</td>\n",
              "      <td>...</td>\n",
              "      <td>...</td>\n",
              "      <td>...</td>\n",
              "      <td>...</td>\n",
              "      <td>...</td>\n",
              "      <td>...</td>\n",
              "      <td>...</td>\n",
              "      <td>...</td>\n",
              "      <td>...</td>\n",
              "      <td>...</td>\n",
              "      <td>...</td>\n",
              "      <td>...</td>\n",
              "      <td>...</td>\n",
              "      <td>...</td>\n",
              "      <td>...</td>\n",
              "      <td>...</td>\n",
              "      <td>...</td>\n",
              "      <td>...</td>\n",
              "      <td>...</td>\n",
              "      <td>...</td>\n",
              "    </tr>\n",
              "    <tr>\n",
              "      <th>3618</th>\n",
              "      <td>completed</td>\n",
              "      <td>2022-03-29 16:28:50+00:00</td>\n",
              "      <td>2022-07-18 18:52:18+00:00</td>\n",
              "      <td>NaN</td>\n",
              "      <td>NaN</td>\n",
              "      <td>admin</td>\n",
              "      <td>9 de mayo\\r\\ntemática unicornio\\r\\ntranfirio el 50% 18.0000\\r\\nAgregamos en nombre en polifan MIA</td>\n",
              "      <td>2022-03-29 16:49:32+00:00</td>\n",
              "      <td>2022-03-29T16:28:50</td>\n",
              "      <td>2022-07-18T18:52:18</td>\n",
              "      <td>...</td>\n",
              "      <td>NaN</td>\n",
              "      <td>NaN</td>\n",
              "      <td>NaT</td>\n",
              "      <td>NaN</td>\n",
              "      <td>NaT</td>\n",
              "      <td>2022-05-09 00:00:00+00:00</td>\n",
              "      <td>May 9 2022</td>\n",
              "      <td>2022-05-09</td>\n",
              "      <td>2022</td>\n",
              "      <td>40</td>\n",
              "    </tr>\n",
              "    <tr>\n",
              "      <th>3623</th>\n",
              "      <td>confirmado</td>\n",
              "      <td>2022-03-27 17:33:47+00:00</td>\n",
              "      <td>2022-07-26 18:38:32+00:00</td>\n",
              "      <td>NaN</td>\n",
              "      <td>NaN</td>\n",
              "      <td>NaN</td>\n",
              "      <td>guirnalda con globos piñata\\r\\n7/8 \\r\\nTemática Blue \\r\\ncambie el horario del cumpleaños y la fecha, va a ser el sábado 07/08 a las 10:hs en salón\\r\\n\\r\\nQuería sumarle el arreglo floral que viene por dos y dos columnas de globos acordé a la temática de las pistas de Blue y tu.</td>\n",
              "      <td>2022-03-28 20:11:16+00:00</td>\n",
              "      <td>2022-03-27T17:33:47</td>\n",
              "      <td>2022-07-26T18:38:32</td>\n",
              "      <td>...</td>\n",
              "      <td>NaN</td>\n",
              "      <td>NaN</td>\n",
              "      <td>NaT</td>\n",
              "      <td>NaN</td>\n",
              "      <td>NaT</td>\n",
              "      <td>2022-07-08 00:00:00+00:00</td>\n",
              "      <td>07/08/2022</td>\n",
              "      <td>2022-07-08</td>\n",
              "      <td>2022</td>\n",
              "      <td>102</td>\n",
              "    </tr>\n",
              "    <tr>\n",
              "      <th>3632</th>\n",
              "      <td>refunded</td>\n",
              "      <td>2022-03-21 14:34:14+00:00</td>\n",
              "      <td>2022-07-22 14:20:20+00:00</td>\n",
              "      <td>woo-mercado-pago-custom</td>\n",
              "      <td>Paga con tarjetas de crédito hasta 6 cuotas sin interés</td>\n",
              "      <td>checkout</td>\n",
              "      <td>Cambio de lugar y horario:\\r\\n18 de junio\\r\\nSalon Zazu\\r\\ncumple.comienza a las 17.30\\r\\n Colombres 873</td>\n",
              "      <td>2022-03-21 14:37:51+00:00</td>\n",
              "      <td>2022-03-21T14:34:14</td>\n",
              "      <td>2022-07-22T14:20:20</td>\n",
              "      <td>...</td>\n",
              "      <td>NaN</td>\n",
              "      <td>NaN</td>\n",
              "      <td>NaT</td>\n",
              "      <td>NaN</td>\n",
              "      <td>NaT</td>\n",
              "      <td>2022-06-18 00:00:00+00:00</td>\n",
              "      <td>jun 18 2022</td>\n",
              "      <td>2022-06-18</td>\n",
              "      <td>2022</td>\n",
              "      <td>88</td>\n",
              "    </tr>\n",
              "    <tr>\n",
              "      <th>3635</th>\n",
              "      <td>completed</td>\n",
              "      <td>2022-03-11 14:11:45+00:00</td>\n",
              "      <td>2022-04-25 21:53:27+00:00</td>\n",
              "      <td>woo-mercado-pago-custom</td>\n",
              "      <td>Paga con tarjetas de débito y crédito</td>\n",
              "      <td>admin</td>\n",
              "      <td>Montaje infantil encanto con flores de globos 13 hs \\r\\nagregar funda de mesa personalizada con nombre Valentina \\r\\n24 de abril</td>\n",
              "      <td>2022-03-10 14:15:35+00:00</td>\n",
              "      <td>2022-03-11T14:11:45</td>\n",
              "      <td>2022-04-25T21:53:27</td>\n",
              "      <td>...</td>\n",
              "      <td>NaN</td>\n",
              "      <td>NaN</td>\n",
              "      <td>NaT</td>\n",
              "      <td>NaN</td>\n",
              "      <td>NaT</td>\n",
              "      <td>2022-04-24 00:00:00+00:00</td>\n",
              "      <td>apr 24 2022</td>\n",
              "      <td>2022-04-24</td>\n",
              "      <td>2022</td>\n",
              "      <td>43</td>\n",
              "    </tr>\n",
              "    <tr>\n",
              "      <th>3640</th>\n",
              "      <td>completed</td>\n",
              "      <td>2022-02-22 13:49:43+00:00</td>\n",
              "      <td>2022-03-28 21:54:20+00:00</td>\n",
              "      <td>NaN</td>\n",
              "      <td>NaN</td>\n",
              "      <td>admin</td>\n",
              "      <td>temática elefante con globo aerostatico como el de la torta en la gama de los celestes y dorado fecha 27 de marzo 12 hs</td>\n",
              "      <td>2022-03-28 21:54:20+00:00</td>\n",
              "      <td>2022-02-22T13:49:43</td>\n",
              "      <td>2022-03-28T21:54:20</td>\n",
              "      <td>...</td>\n",
              "      <td>NaN</td>\n",
              "      <td>NaN</td>\n",
              "      <td>NaT</td>\n",
              "      <td>NaN</td>\n",
              "      <td>NaT</td>\n",
              "      <td>2022-03-27 00:00:00+00:00</td>\n",
              "      <td>mar 27 2022</td>\n",
              "      <td>2022-03-27</td>\n",
              "      <td>2022</td>\n",
              "      <td>32</td>\n",
              "    </tr>\n",
              "  </tbody>\n",
              "</table>\n",
              "<p>2783 rows × 35 columns</p>\n",
              "</div>"
            ],
            "text/plain": [
              "          status              date_created             date_modified  \\\n",
              "0        pending 2024-06-24 15:40:13+00:00 2024-06-24 15:42:18+00:00   \n",
              "1        pending 2024-06-24 15:28:51+00:00 2024-06-24 15:39:58+00:00   \n",
              "2        on-hold 2024-06-24 15:24:51+00:00 2024-06-24 15:24:51+00:00   \n",
              "3      cancelled 2024-06-24 15:24:27+00:00 2024-06-24 15:25:22+00:00   \n",
              "17    processing 2024-06-24 01:21:50+00:00 2024-06-24 01:22:31+00:00   \n",
              "...          ...                       ...                       ...   \n",
              "3618   completed 2022-03-29 16:28:50+00:00 2022-07-18 18:52:18+00:00   \n",
              "3623  confirmado 2022-03-27 17:33:47+00:00 2022-07-26 18:38:32+00:00   \n",
              "3632    refunded 2022-03-21 14:34:14+00:00 2022-07-22 14:20:20+00:00   \n",
              "3635   completed 2022-03-11 14:11:45+00:00 2022-04-25 21:53:27+00:00   \n",
              "3640   completed 2022-02-22 13:49:43+00:00 2022-03-28 21:54:20+00:00   \n",
              "\n",
              "               payment_method  \\\n",
              "0                         NaN   \n",
              "1     woo-mercado-pago-custom   \n",
              "2                        bacs   \n",
              "3     woo-mercado-pago-custom   \n",
              "17    woo-mercado-pago-custom   \n",
              "...                       ...   \n",
              "3618                      NaN   \n",
              "3623                      NaN   \n",
              "3632  woo-mercado-pago-custom   \n",
              "3635  woo-mercado-pago-custom   \n",
              "3640                      NaN   \n",
              "\n",
              "                                         payment_method_title created_via  \\\n",
              "0                                                         NaN       admin   \n",
              "1     Paga con tarjetas de crédito hasta 6 cuotas sin interés    checkout   \n",
              "2                                Transferencia bancaria  -20%    checkout   \n",
              "3     Paga con tarjetas de crédito hasta 6 cuotas sin interés    checkout   \n",
              "17    Paga con tarjetas de crédito hasta 6 cuotas sin interés    checkout   \n",
              "...                                                       ...         ...   \n",
              "3618                                                      NaN       admin   \n",
              "3623                                                      NaN         NaN   \n",
              "3632  Paga con tarjetas de crédito hasta 6 cuotas sin interés    checkout   \n",
              "3635                    Paga con tarjetas de débito y crédito       admin   \n",
              "3640                                                      NaN       admin   \n",
              "\n",
              "                                                                                                                                                                                                                                                                                                                                                                           customer_note  \\\n",
              "0     Ruy (nombre de nene)\\r\\n.       Cuantos años cumple: 1\\r\\n•\\tFecha sábado 28/09 \\r\\n•\\tHora de inicio 13hs\\r\\n.       Hora de finalización 16hs\\r\\n.       Dirección del lugar: Bartolomé Mitre 3925\\r\\n.       Es SUM.\\r\\n•\\tBaby Yoda con colores pasteles \\r\\nQué servicio queres: Decoración con 3 paneles gold con pastelería.(con transferencia )\\r\\nMÁS PELOTERO (6 cuotas)   \n",
              "1                                                                                                                                                                                                                                                                                                                                                                                    NaN   \n",
              "2                                                                                                                                                                                                                                                                                                                                                                                    NaN   \n",
              "3                                                                                                                                                                                                                                                                                                                                                                                    NaN   \n",
              "17                                                                                                                                                                                                                                                                                                                                                                                   NaN   \n",
              "...                                                                                                                                                                                                                                                                                                                                                                                  ...   \n",
              "3618                                                                                                                                                                                                                                                                                   9 de mayo\\r\\ntemática unicornio\\r\\ntranfirio el 50% 18.0000\\r\\nAgregamos en nombre en polifan MIA   \n",
              "3623                                                                                             guirnalda con globos piñata\\r\\n7/8 \\r\\nTemática Blue \\r\\ncambie el horario del cumpleaños y la fecha, va a ser el sábado 07/08 a las 10:hs en salón\\r\\n\\r\\nQuería sumarle el arreglo floral que viene por dos y dos columnas de globos acordé a la temática de las pistas de Blue y tu.   \n",
              "3632                                                                                                                                                                                                                                                                            Cambio de lugar y horario:\\r\\n18 de junio\\r\\nSalon Zazu\\r\\ncumple.comienza a las 17.30\\r\\n Colombres 873   \n",
              "3635                                                                                                                                                                                                                                                    Montaje infantil encanto con flores de globos 13 hs \\r\\nagregar funda de mesa personalizada con nombre Valentina \\r\\n24 de abril   \n",
              "3640                                                                                                                                                                                                                                                             temática elefante con globo aerostatico como el de la torta en la gama de los celestes y dorado fecha 27 de marzo 12 hs   \n",
              "\n",
              "                     date_paid     date_created_gmt    date_modified_gmt  ...  \\\n",
              "0                          NaT  2024-06-24T15:40:13  2024-06-24T15:42:18  ...   \n",
              "1                          NaT  2024-06-24T15:28:51  2024-06-24T15:39:58  ...   \n",
              "2                          NaT  2024-06-24T15:24:51  2024-06-24T15:24:51  ...   \n",
              "3                          NaT  2024-06-24T15:24:27  2024-06-24T15:25:22  ...   \n",
              "17   2024-06-24 01:22:31+00:00  2024-06-24T01:21:50  2024-06-24T01:22:31  ...   \n",
              "...                        ...                  ...                  ...  ...   \n",
              "3618 2022-03-29 16:49:32+00:00  2022-03-29T16:28:50  2022-07-18T18:52:18  ...   \n",
              "3623 2022-03-28 20:11:16+00:00  2022-03-27T17:33:47  2022-07-26T18:38:32  ...   \n",
              "3632 2022-03-21 14:37:51+00:00  2022-03-21T14:34:14  2022-07-22T14:20:20  ...   \n",
              "3635 2022-03-10 14:15:35+00:00  2022-03-11T14:11:45  2022-04-25T21:53:27  ...   \n",
              "3640 2022-03-28 21:54:20+00:00  2022-02-22T13:49:43  2022-03-28T21:54:20  ...   \n",
              "\n",
              "     Edad     Tematica                Fin_evento  Lugar  \\\n",
              "0     NaN          NaN                       NaT    NaN   \n",
              "1     NaN          NaN                       NaT    NaN   \n",
              "2     NaN          NaN                       NaT    NaN   \n",
              "3     NaN          NaN                       NaT    NaN   \n",
              "17    5.0  A confirmar 2025-02-15 23:30:00+00:00  Salón   \n",
              "...   ...          ...                       ...    ...   \n",
              "3618  NaN          NaN                       NaT    NaN   \n",
              "3623  NaN          NaN                       NaT    NaN   \n",
              "3632  NaN          NaN                       NaT    NaN   \n",
              "3635  NaN          NaN                       NaT    NaN   \n",
              "3640  NaN          NaN                       NaT    NaN   \n",
              "\n",
              "                       Created             Inicio_evento        fecha  \\\n",
              "0                          NaT 2024-09-28 00:00:00+00:00   28/09/2024   \n",
              "1                          NaT 2024-08-24 00:00:00+00:00          NaN   \n",
              "2                          NaT 2024-06-30 00:00:00+00:00          NaN   \n",
              "3                          NaT 2024-08-24 00:00:00+00:00          NaN   \n",
              "17   2024-06-24 01:23:15+00:00 2025-02-15 00:00:00+00:00          NaN   \n",
              "...                        ...                       ...          ...   \n",
              "3618                       NaT 2022-05-09 00:00:00+00:00   May 9 2022   \n",
              "3623                       NaT 2022-07-08 00:00:00+00:00   07/08/2022   \n",
              "3632                       NaT 2022-06-18 00:00:00+00:00  jun 18 2022   \n",
              "3635                       NaT 2022-04-24 00:00:00+00:00  apr 24 2022   \n",
              "3640                       NaT 2022-03-27 00:00:00+00:00  mar 27 2022   \n",
              "\n",
              "     fecha_complete anio_evento_temp anticipacion_reserva_dias  \n",
              "0        2024-09-28             2024                        95  \n",
              "1               NaT             2024                        60  \n",
              "2               NaT             2024                         5  \n",
              "3               NaT             2024                        60  \n",
              "17              NaT             2024                       235  \n",
              "...             ...              ...                       ...  \n",
              "3618     2022-05-09             2022                        40  \n",
              "3623     2022-07-08             2022                       102  \n",
              "3632     2022-06-18             2022                        88  \n",
              "3635     2022-04-24             2022                        43  \n",
              "3640     2022-03-27             2022                        32  \n",
              "\n",
              "[2783 rows x 35 columns]"
            ]
          },
          "execution_count": 382,
          "metadata": {},
          "output_type": "execute_result"
        }
      ],
      "source": [
        "df_pedidos_wc_sh"
      ]
    },
    {
      "cell_type": "markdown",
      "metadata": {
        "id": "dVqEV-GCY13K"
      },
      "source": [
        "## Box plot Anticipación de reserva de pedidos"
      ]
    },
    {
      "cell_type": "code",
      "execution_count": null,
      "metadata": {
        "id": "s29yy4_HY13K",
        "outputId": "8fbba448-48f8-4c32-8b2a-8a412c96f06d"
      },
      "outputs": [
        {
          "data": {
            "text/plain": [
              "Text(0.5, 0, 'Días de anticipación')"
            ]
          },
          "execution_count": 383,
          "metadata": {},
          "output_type": "execute_result"
        },
        {
          "data": {
            "image/png": "[encoded data removed]",
            "text/plain": [
              "<Figure size 640x480 with 1 Axes>"
            ]
          },
          "metadata": {},
          "output_type": "display_data"
        }
      ],
      "source": [
        "sns.boxplot(x=df_pedidos_wc_sh['anticipacion_reserva_dias'])\n",
        "plt.title('Anticipación de reserva de pedidos')\n",
        "plt.xlabel('Días de anticipación')"
      ]
    },
    {
      "cell_type": "markdown",
      "metadata": {
        "id": "1lNav90wY13K"
      },
      "source": [
        "Claramente tenemos outliers, ya que no puede haber un evento que suceda previo a su reserva.\n",
        "\n",
        "Vamos a ver cuantos datos son"
      ]
    },
    {
      "cell_type": "code",
      "execution_count": null,
      "metadata": {
        "id": "kmyblSJ0Y13K",
        "outputId": "14569a59-c4c6-4db1-f409-6fb0c8309530"
      },
      "outputs": [
        {
          "data": {
            "text/html": [
              "<div>\n",
              "<style scoped>\n",
              "    .dataframe tbody tr th:only-of-type {\n",
              "        vertical-align: middle;\n",
              "    }\n",
              "\n",
              "    .dataframe tbody tr th {\n",
              "        vertical-align: top;\n",
              "    }\n",
              "\n",
              "    .dataframe thead th {\n",
              "        text-align: right;\n",
              "    }\n",
              "</style>\n",
              "<table border=\"1\" class=\"dataframe\">\n",
              "  <thead>\n",
              "    <tr style=\"text-align: right;\">\n",
              "      <th></th>\n",
              "      <th>status</th>\n",
              "      <th>date_created</th>\n",
              "      <th>date_modified</th>\n",
              "      <th>payment_method</th>\n",
              "      <th>payment_method_title</th>\n",
              "      <th>created_via</th>\n",
              "      <th>customer_note</th>\n",
              "      <th>date_paid</th>\n",
              "      <th>date_created_gmt</th>\n",
              "      <th>date_modified_gmt</th>\n",
              "      <th>...</th>\n",
              "      <th>Edad</th>\n",
              "      <th>Tematica</th>\n",
              "      <th>Fin_evento</th>\n",
              "      <th>Lugar</th>\n",
              "      <th>Created</th>\n",
              "      <th>Inicio_evento</th>\n",
              "      <th>fecha</th>\n",
              "      <th>fecha_complete</th>\n",
              "      <th>anio_evento_temp</th>\n",
              "      <th>anticipacion_reserva_dias</th>\n",
              "    </tr>\n",
              "  </thead>\n",
              "  <tbody>\n",
              "    <tr>\n",
              "      <th>0</th>\n",
              "      <td>pending</td>\n",
              "      <td>2024-06-24 15:40:13+00:00</td>\n",
              "      <td>2024-06-24 15:42:18+00:00</td>\n",
              "      <td>NaN</td>\n",
              "      <td>NaN</td>\n",
              "      <td>admin</td>\n",
              "      <td>Ruy (nombre de nene)\\r\\n.       Cuantos años cumple: 1\\r\\n•\\tFecha sábado 28/09 \\r\\n•\\tHora de inicio 13hs\\r\\n.       Hora de finalización 16hs\\r\\n.       Dirección del lugar: Bartolomé Mitre 3925\\r\\n.       Es SUM.\\r\\n•\\tBaby Yoda con colores pasteles \\r\\nQué servicio queres: Decoración con 3 paneles gold con pastelería.(con transferencia )\\r\\nMÁS PELOTERO (6 cuotas)</td>\n",
              "      <td>NaT</td>\n",
              "      <td>2024-06-24T15:40:13</td>\n",
              "      <td>2024-06-24T15:42:18</td>\n",
              "      <td>...</td>\n",
              "      <td>NaN</td>\n",
              "      <td>NaN</td>\n",
              "      <td>NaT</td>\n",
              "      <td>NaN</td>\n",
              "      <td>NaT</td>\n",
              "      <td>2024-09-28 00:00:00+00:00</td>\n",
              "      <td>28/09/2024</td>\n",
              "      <td>2024-09-28</td>\n",
              "      <td>2024</td>\n",
              "      <td>95</td>\n",
              "    </tr>\n",
              "    <tr>\n",
              "      <th>1</th>\n",
              "      <td>pending</td>\n",
              "      <td>2024-06-24 15:28:51+00:00</td>\n",
              "      <td>2024-06-24 15:39:58+00:00</td>\n",
              "      <td>woo-mercado-pago-custom</td>\n",
              "      <td>Paga con tarjetas de crédito hasta 6 cuotas sin interés</td>\n",
              "      <td>checkout</td>\n",
              "      <td>NaN</td>\n",
              "      <td>NaT</td>\n",
              "      <td>2024-06-24T15:28:51</td>\n",
              "      <td>2024-06-24T15:39:58</td>\n",
              "      <td>...</td>\n",
              "      <td>NaN</td>\n",
              "      <td>NaN</td>\n",
              "      <td>NaT</td>\n",
              "      <td>NaN</td>\n",
              "      <td>NaT</td>\n",
              "      <td>2024-08-24 00:00:00+00:00</td>\n",
              "      <td>NaN</td>\n",
              "      <td>NaT</td>\n",
              "      <td>2024</td>\n",
              "      <td>60</td>\n",
              "    </tr>\n",
              "    <tr>\n",
              "      <th>2</th>\n",
              "      <td>on-hold</td>\n",
              "      <td>2024-06-24 15:24:51+00:00</td>\n",
              "      <td>2024-06-24 15:24:51+00:00</td>\n",
              "      <td>bacs</td>\n",
              "      <td>Transferencia bancaria  -20%</td>\n",
              "      <td>checkout</td>\n",
              "      <td>NaN</td>\n",
              "      <td>NaT</td>\n",
              "      <td>2024-06-24T15:24:51</td>\n",
              "      <td>2024-06-24T15:24:51</td>\n",
              "      <td>...</td>\n",
              "      <td>NaN</td>\n",
              "      <td>NaN</td>\n",
              "      <td>NaT</td>\n",
              "      <td>NaN</td>\n",
              "      <td>NaT</td>\n",
              "      <td>2024-06-30 00:00:00+00:00</td>\n",
              "      <td>NaN</td>\n",
              "      <td>NaT</td>\n",
              "      <td>2024</td>\n",
              "      <td>5</td>\n",
              "    </tr>\n",
              "    <tr>\n",
              "      <th>3</th>\n",
              "      <td>cancelled</td>\n",
              "      <td>2024-06-24 15:24:27+00:00</td>\n",
              "      <td>2024-06-24 15:25:22+00:00</td>\n",
              "      <td>woo-mercado-pago-custom</td>\n",
              "      <td>Paga con tarjetas de crédito hasta 6 cuotas sin interés</td>\n",
              "      <td>checkout</td>\n",
              "      <td>NaN</td>\n",
              "      <td>NaT</td>\n",
              "      <td>2024-06-24T15:24:27</td>\n",
              "      <td>2024-06-24T15:25:22</td>\n",
              "      <td>...</td>\n",
              "      <td>NaN</td>\n",
              "      <td>NaN</td>\n",
              "      <td>NaT</td>\n",
              "      <td>NaN</td>\n",
              "      <td>NaT</td>\n",
              "      <td>2024-08-24 00:00:00+00:00</td>\n",
              "      <td>NaN</td>\n",
              "      <td>NaT</td>\n",
              "      <td>2024</td>\n",
              "      <td>60</td>\n",
              "    </tr>\n",
              "    <tr>\n",
              "      <th>17</th>\n",
              "      <td>processing</td>\n",
              "      <td>2024-06-24 01:21:50+00:00</td>\n",
              "      <td>2024-06-24 01:22:31+00:00</td>\n",
              "      <td>woo-mercado-pago-custom</td>\n",
              "      <td>Paga con tarjetas de crédito hasta 6 cuotas sin interés</td>\n",
              "      <td>checkout</td>\n",
              "      <td>NaN</td>\n",
              "      <td>2024-06-24 01:22:31+00:00</td>\n",
              "      <td>2024-06-24T01:21:50</td>\n",
              "      <td>2024-06-24T01:22:31</td>\n",
              "      <td>...</td>\n",
              "      <td>5.0</td>\n",
              "      <td>A confirmar</td>\n",
              "      <td>2025-02-15 23:30:00+00:00</td>\n",
              "      <td>Salón</td>\n",
              "      <td>2024-06-24 01:23:15+00:00</td>\n",
              "      <td>2025-02-15 00:00:00+00:00</td>\n",
              "      <td>NaN</td>\n",
              "      <td>NaT</td>\n",
              "      <td>2024</td>\n",
              "      <td>235</td>\n",
              "    </tr>\n",
              "    <tr>\n",
              "      <th>...</th>\n",
              "      <td>...</td>\n",
              "      <td>...</td>\n",
              "      <td>...</td>\n",
              "      <td>...</td>\n",
              "      <td>...</td>\n",
              "      <td>...</td>\n",
              "      <td>...</td>\n",
              "      <td>...</td>\n",
              "      <td>...</td>\n",
              "      <td>...</td>\n",
              "      <td>...</td>\n",
              "      <td>...</td>\n",
              "      <td>...</td>\n",
              "      <td>...</td>\n",
              "      <td>...</td>\n",
              "      <td>...</td>\n",
              "      <td>...</td>\n",
              "      <td>...</td>\n",
              "      <td>...</td>\n",
              "      <td>...</td>\n",
              "      <td>...</td>\n",
              "    </tr>\n",
              "    <tr>\n",
              "      <th>3618</th>\n",
              "      <td>completed</td>\n",
              "      <td>2022-03-29 16:28:50+00:00</td>\n",
              "      <td>2022-07-18 18:52:18+00:00</td>\n",
              "      <td>NaN</td>\n",
              "      <td>NaN</td>\n",
              "      <td>admin</td>\n",
              "      <td>9 de mayo\\r\\ntemática unicornio\\r\\ntranfirio el 50% 18.0000\\r\\nAgregamos en nombre en polifan MIA</td>\n",
              "      <td>2022-03-29 16:49:32+00:00</td>\n",
              "      <td>2022-03-29T16:28:50</td>\n",
              "      <td>2022-07-18T18:52:18</td>\n",
              "      <td>...</td>\n",
              "      <td>NaN</td>\n",
              "      <td>NaN</td>\n",
              "      <td>NaT</td>\n",
              "      <td>NaN</td>\n",
              "      <td>NaT</td>\n",
              "      <td>2022-05-09 00:00:00+00:00</td>\n",
              "      <td>May 9 2022</td>\n",
              "      <td>2022-05-09</td>\n",
              "      <td>2022</td>\n",
              "      <td>40</td>\n",
              "    </tr>\n",
              "    <tr>\n",
              "      <th>3623</th>\n",
              "      <td>confirmado</td>\n",
              "      <td>2022-03-27 17:33:47+00:00</td>\n",
              "      <td>2022-07-26 18:38:32+00:00</td>\n",
              "      <td>NaN</td>\n",
              "      <td>NaN</td>\n",
              "      <td>NaN</td>\n",
              "      <td>guirnalda con globos piñata\\r\\n7/8 \\r\\nTemática Blue \\r\\ncambie el horario del cumpleaños y la fecha, va a ser el sábado 07/08 a las 10:hs en salón\\r\\n\\r\\nQuería sumarle el arreglo floral que viene por dos y dos columnas de globos acordé a la temática de las pistas de Blue y tu.</td>\n",
              "      <td>2022-03-28 20:11:16+00:00</td>\n",
              "      <td>2022-03-27T17:33:47</td>\n",
              "      <td>2022-07-26T18:38:32</td>\n",
              "      <td>...</td>\n",
              "      <td>NaN</td>\n",
              "      <td>NaN</td>\n",
              "      <td>NaT</td>\n",
              "      <td>NaN</td>\n",
              "      <td>NaT</td>\n",
              "      <td>2022-07-08 00:00:00+00:00</td>\n",
              "      <td>07/08/2022</td>\n",
              "      <td>2022-07-08</td>\n",
              "      <td>2022</td>\n",
              "      <td>102</td>\n",
              "    </tr>\n",
              "    <tr>\n",
              "      <th>3632</th>\n",
              "      <td>refunded</td>\n",
              "      <td>2022-03-21 14:34:14+00:00</td>\n",
              "      <td>2022-07-22 14:20:20+00:00</td>\n",
              "      <td>woo-mercado-pago-custom</td>\n",
              "      <td>Paga con tarjetas de crédito hasta 6 cuotas sin interés</td>\n",
              "      <td>checkout</td>\n",
              "      <td>Cambio de lugar y horario:\\r\\n18 de junio\\r\\nSalon Zazu\\r\\ncumple.comienza a las 17.30\\r\\n Colombres 873</td>\n",
              "      <td>2022-03-21 14:37:51+00:00</td>\n",
              "      <td>2022-03-21T14:34:14</td>\n",
              "      <td>2022-07-22T14:20:20</td>\n",
              "      <td>...</td>\n",
              "      <td>NaN</td>\n",
              "      <td>NaN</td>\n",
              "      <td>NaT</td>\n",
              "      <td>NaN</td>\n",
              "      <td>NaT</td>\n",
              "      <td>2022-06-18 00:00:00+00:00</td>\n",
              "      <td>jun 18 2022</td>\n",
              "      <td>2022-06-18</td>\n",
              "      <td>2022</td>\n",
              "      <td>88</td>\n",
              "    </tr>\n",
              "    <tr>\n",
              "      <th>3635</th>\n",
              "      <td>completed</td>\n",
              "      <td>2022-03-11 14:11:45+00:00</td>\n",
              "      <td>2022-04-25 21:53:27+00:00</td>\n",
              "      <td>woo-mercado-pago-custom</td>\n",
              "      <td>Paga con tarjetas de débito y crédito</td>\n",
              "      <td>admin</td>\n",
              "      <td>Montaje infantil encanto con flores de globos 13 hs \\r\\nagregar funda de mesa personalizada con nombre Valentina \\r\\n24 de abril</td>\n",
              "      <td>2022-03-10 14:15:35+00:00</td>\n",
              "      <td>2022-03-11T14:11:45</td>\n",
              "      <td>2022-04-25T21:53:27</td>\n",
              "      <td>...</td>\n",
              "      <td>NaN</td>\n",
              "      <td>NaN</td>\n",
              "      <td>NaT</td>\n",
              "      <td>NaN</td>\n",
              "      <td>NaT</td>\n",
              "      <td>2022-04-24 00:00:00+00:00</td>\n",
              "      <td>apr 24 2022</td>\n",
              "      <td>2022-04-24</td>\n",
              "      <td>2022</td>\n",
              "      <td>43</td>\n",
              "    </tr>\n",
              "    <tr>\n",
              "      <th>3640</th>\n",
              "      <td>completed</td>\n",
              "      <td>2022-02-22 13:49:43+00:00</td>\n",
              "      <td>2022-03-28 21:54:20+00:00</td>\n",
              "      <td>NaN</td>\n",
              "      <td>NaN</td>\n",
              "      <td>admin</td>\n",
              "      <td>temática elefante con globo aerostatico como el de la torta en la gama de los celestes y dorado fecha 27 de marzo 12 hs</td>\n",
              "      <td>2022-03-28 21:54:20+00:00</td>\n",
              "      <td>2022-02-22T13:49:43</td>\n",
              "      <td>2022-03-28T21:54:20</td>\n",
              "      <td>...</td>\n",
              "      <td>NaN</td>\n",
              "      <td>NaN</td>\n",
              "      <td>NaT</td>\n",
              "      <td>NaN</td>\n",
              "      <td>NaT</td>\n",
              "      <td>2022-03-27 00:00:00+00:00</td>\n",
              "      <td>mar 27 2022</td>\n",
              "      <td>2022-03-27</td>\n",
              "      <td>2022</td>\n",
              "      <td>32</td>\n",
              "    </tr>\n",
              "  </tbody>\n",
              "</table>\n",
              "<p>2783 rows × 35 columns</p>\n",
              "</div>"
            ],
            "text/plain": [
              "          status              date_created             date_modified  \\\n",
              "0        pending 2024-06-24 15:40:13+00:00 2024-06-24 15:42:18+00:00   \n",
              "1        pending 2024-06-24 15:28:51+00:00 2024-06-24 15:39:58+00:00   \n",
              "2        on-hold 2024-06-24 15:24:51+00:00 2024-06-24 15:24:51+00:00   \n",
              "3      cancelled 2024-06-24 15:24:27+00:00 2024-06-24 15:25:22+00:00   \n",
              "17    processing 2024-06-24 01:21:50+00:00 2024-06-24 01:22:31+00:00   \n",
              "...          ...                       ...                       ...   \n",
              "3618   completed 2022-03-29 16:28:50+00:00 2022-07-18 18:52:18+00:00   \n",
              "3623  confirmado 2022-03-27 17:33:47+00:00 2022-07-26 18:38:32+00:00   \n",
              "3632    refunded 2022-03-21 14:34:14+00:00 2022-07-22 14:20:20+00:00   \n",
              "3635   completed 2022-03-11 14:11:45+00:00 2022-04-25 21:53:27+00:00   \n",
              "3640   completed 2022-02-22 13:49:43+00:00 2022-03-28 21:54:20+00:00   \n",
              "\n",
              "               payment_method  \\\n",
              "0                         NaN   \n",
              "1     woo-mercado-pago-custom   \n",
              "2                        bacs   \n",
              "3     woo-mercado-pago-custom   \n",
              "17    woo-mercado-pago-custom   \n",
              "...                       ...   \n",
              "3618                      NaN   \n",
              "3623                      NaN   \n",
              "3632  woo-mercado-pago-custom   \n",
              "3635  woo-mercado-pago-custom   \n",
              "3640                      NaN   \n",
              "\n",
              "                                         payment_method_title created_via  \\\n",
              "0                                                         NaN       admin   \n",
              "1     Paga con tarjetas de crédito hasta 6 cuotas sin interés    checkout   \n",
              "2                                Transferencia bancaria  -20%    checkout   \n",
              "3     Paga con tarjetas de crédito hasta 6 cuotas sin interés    checkout   \n",
              "17    Paga con tarjetas de crédito hasta 6 cuotas sin interés    checkout   \n",
              "...                                                       ...         ...   \n",
              "3618                                                      NaN       admin   \n",
              "3623                                                      NaN         NaN   \n",
              "3632  Paga con tarjetas de crédito hasta 6 cuotas sin interés    checkout   \n",
              "3635                    Paga con tarjetas de débito y crédito       admin   \n",
              "3640                                                      NaN       admin   \n",
              "\n",
              "                                                                                                                                                                                                                                                                                                                                                                           customer_note  \\\n",
              "0     Ruy (nombre de nene)\\r\\n.       Cuantos años cumple: 1\\r\\n•\\tFecha sábado 28/09 \\r\\n•\\tHora de inicio 13hs\\r\\n.       Hora de finalización 16hs\\r\\n.       Dirección del lugar: Bartolomé Mitre 3925\\r\\n.       Es SUM.\\r\\n•\\tBaby Yoda con colores pasteles \\r\\nQué servicio queres: Decoración con 3 paneles gold con pastelería.(con transferencia )\\r\\nMÁS PELOTERO (6 cuotas)   \n",
              "1                                                                                                                                                                                                                                                                                                                                                                                    NaN   \n",
              "2                                                                                                                                                                                                                                                                                                                                                                                    NaN   \n",
              "3                                                                                                                                                                                                                                                                                                                                                                                    NaN   \n",
              "17                                                                                                                                                                                                                                                                                                                                                                                   NaN   \n",
              "...                                                                                                                                                                                                                                                                                                                                                                                  ...   \n",
              "3618                                                                                                                                                                                                                                                                                   9 de mayo\\r\\ntemática unicornio\\r\\ntranfirio el 50% 18.0000\\r\\nAgregamos en nombre en polifan MIA   \n",
              "3623                                                                                             guirnalda con globos piñata\\r\\n7/8 \\r\\nTemática Blue \\r\\ncambie el horario del cumpleaños y la fecha, va a ser el sábado 07/08 a las 10:hs en salón\\r\\n\\r\\nQuería sumarle el arreglo floral que viene por dos y dos columnas de globos acordé a la temática de las pistas de Blue y tu.   \n",
              "3632                                                                                                                                                                                                                                                                            Cambio de lugar y horario:\\r\\n18 de junio\\r\\nSalon Zazu\\r\\ncumple.comienza a las 17.30\\r\\n Colombres 873   \n",
              "3635                                                                                                                                                                                                                                                    Montaje infantil encanto con flores de globos 13 hs \\r\\nagregar funda de mesa personalizada con nombre Valentina \\r\\n24 de abril   \n",
              "3640                                                                                                                                                                                                                                                             temática elefante con globo aerostatico como el de la torta en la gama de los celestes y dorado fecha 27 de marzo 12 hs   \n",
              "\n",
              "                     date_paid     date_created_gmt    date_modified_gmt  ...  \\\n",
              "0                          NaT  2024-06-24T15:40:13  2024-06-24T15:42:18  ...   \n",
              "1                          NaT  2024-06-24T15:28:51  2024-06-24T15:39:58  ...   \n",
              "2                          NaT  2024-06-24T15:24:51  2024-06-24T15:24:51  ...   \n",
              "3                          NaT  2024-06-24T15:24:27  2024-06-24T15:25:22  ...   \n",
              "17   2024-06-24 01:22:31+00:00  2024-06-24T01:21:50  2024-06-24T01:22:31  ...   \n",
              "...                        ...                  ...                  ...  ...   \n",
              "3618 2022-03-29 16:49:32+00:00  2022-03-29T16:28:50  2022-07-18T18:52:18  ...   \n",
              "3623 2022-03-28 20:11:16+00:00  2022-03-27T17:33:47  2022-07-26T18:38:32  ...   \n",
              "3632 2022-03-21 14:37:51+00:00  2022-03-21T14:34:14  2022-07-22T14:20:20  ...   \n",
              "3635 2022-03-10 14:15:35+00:00  2022-03-11T14:11:45  2022-04-25T21:53:27  ...   \n",
              "3640 2022-03-28 21:54:20+00:00  2022-02-22T13:49:43  2022-03-28T21:54:20  ...   \n",
              "\n",
              "     Edad     Tematica                Fin_evento  Lugar  \\\n",
              "0     NaN          NaN                       NaT    NaN   \n",
              "1     NaN          NaN                       NaT    NaN   \n",
              "2     NaN          NaN                       NaT    NaN   \n",
              "3     NaN          NaN                       NaT    NaN   \n",
              "17    5.0  A confirmar 2025-02-15 23:30:00+00:00  Salón   \n",
              "...   ...          ...                       ...    ...   \n",
              "3618  NaN          NaN                       NaT    NaN   \n",
              "3623  NaN          NaN                       NaT    NaN   \n",
              "3632  NaN          NaN                       NaT    NaN   \n",
              "3635  NaN          NaN                       NaT    NaN   \n",
              "3640  NaN          NaN                       NaT    NaN   \n",
              "\n",
              "                       Created             Inicio_evento        fecha  \\\n",
              "0                          NaT 2024-09-28 00:00:00+00:00   28/09/2024   \n",
              "1                          NaT 2024-08-24 00:00:00+00:00          NaN   \n",
              "2                          NaT 2024-06-30 00:00:00+00:00          NaN   \n",
              "3                          NaT 2024-08-24 00:00:00+00:00          NaN   \n",
              "17   2024-06-24 01:23:15+00:00 2025-02-15 00:00:00+00:00          NaN   \n",
              "...                        ...                       ...          ...   \n",
              "3618                       NaT 2022-05-09 00:00:00+00:00   May 9 2022   \n",
              "3623                       NaT 2022-07-08 00:00:00+00:00   07/08/2022   \n",
              "3632                       NaT 2022-06-18 00:00:00+00:00  jun 18 2022   \n",
              "3635                       NaT 2022-04-24 00:00:00+00:00  apr 24 2022   \n",
              "3640                       NaT 2022-03-27 00:00:00+00:00  mar 27 2022   \n",
              "\n",
              "     fecha_complete anio_evento_temp anticipacion_reserva_dias  \n",
              "0        2024-09-28             2024                        95  \n",
              "1               NaT             2024                        60  \n",
              "2               NaT             2024                         5  \n",
              "3               NaT             2024                        60  \n",
              "17              NaT             2024                       235  \n",
              "...             ...              ...                       ...  \n",
              "3618     2022-05-09             2022                        40  \n",
              "3623     2022-07-08             2022                       102  \n",
              "3632     2022-06-18             2022                        88  \n",
              "3635     2022-04-24             2022                        43  \n",
              "3640     2022-03-27             2022                        32  \n",
              "\n",
              "[2783 rows x 35 columns]"
            ]
          },
          "execution_count": 384,
          "metadata": {},
          "output_type": "execute_result"
        }
      ],
      "source": [
        "df_pedidos_wc_sh"
      ]
    },
    {
      "cell_type": "code",
      "execution_count": null,
      "metadata": {
        "id": "bz0misYOY13K",
        "outputId": "002e835a-156f-4676-e11a-71f67739a584"
      },
      "outputs": [
        {
          "name": "stdout",
          "output_type": "stream",
          "text": [
            "Cantidad de pedidos donde sucedió el evento antes de la reserva (mal cargados): 121\n"
          ]
        }
      ],
      "source": [
        "pedidos_mal_fecha = df_pedidos_wc_sh[df_pedidos_wc_sh['anticipacion_reserva_dias']<=0]['date_created'].count()\n",
        "print(\"Cantidad de pedidos donde sucedió el evento antes de la reserva (mal cargados):\", pedidos_mal_fecha)"
      ]
    },
    {
      "cell_type": "code",
      "execution_count": null,
      "metadata": {
        "id": "Kk_30ypdY13K"
      },
      "outputs": [],
      "source": [
        "df_pedidos_wc_sh = df_pedidos_wc_sh[df_pedidos_wc_sh['anticipacion_reserva_dias']>0]"
      ]
    },
    {
      "cell_type": "code",
      "execution_count": null,
      "metadata": {
        "id": "A6r7cp0aY13K",
        "outputId": "bda8145d-47d1-419b-c357-d2734a2598a4"
      },
      "outputs": [
        {
          "data": {
            "text/plain": [
              "Text(0.5, 0, 'Días de anticipación')"
            ]
          },
          "execution_count": 387,
          "metadata": {},
          "output_type": "execute_result"
        },
        {
          "data": {
            "image/png": "[encoded data removed]",
            "text/plain": [
              "<Figure size 640x480 with 1 Axes>"
            ]
          },
          "metadata": {},
          "output_type": "display_data"
        }
      ],
      "source": [
        "sns.boxplot(x=df_pedidos_wc_sh['anticipacion_reserva_dias'])\n",
        "plt.title('Anticipación de reserva de pedidos')\n",
        "plt.xlabel('Días de anticipación')"
      ]
    },
    {
      "cell_type": "markdown",
      "metadata": {
        "id": "11An9Ui3Y13K"
      },
      "source": [
        "Por otro lado vamos a eliminar al outlier de apróximadamente 500 días independientemente de si está bien o mal cargado. Solo por el concepto de ser un outlier"
      ]
    },
    {
      "cell_type": "code",
      "execution_count": null,
      "metadata": {
        "id": "LRY9V2NdY13K"
      },
      "outputs": [],
      "source": [
        "df_pedidos_wc_sh = df_pedidos_wc_sh[df_pedidos_wc_sh['anticipacion_reserva_dias']<400]"
      ]
    },
    {
      "cell_type": "code",
      "execution_count": null,
      "metadata": {
        "id": "oqGya7aJY13K",
        "outputId": "2866a0f8-84fe-4ae4-da22-c259a986438d"
      },
      "outputs": [
        {
          "data": {
            "text/plain": [
              "Text(0.5, 0, 'Días de anticipación')"
            ]
          },
          "execution_count": 389,
          "metadata": {},
          "output_type": "execute_result"
        },
        {
          "data": {
            "image/png": "[encoded data removed]",
            "text/plain": [
              "<Figure size 640x480 with 1 Axes>"
            ]
          },
          "metadata": {},
          "output_type": "display_data"
        }
      ],
      "source": [
        "sns.boxplot(x=df_pedidos_wc_sh['anticipacion_reserva_dias'])\n",
        "plt.title('Anticipación de reserva de pedidos')\n",
        "plt.xlabel('Días de anticipación')"
      ]
    },
    {
      "cell_type": "markdown",
      "metadata": {
        "id": "CZspLFVvY13K"
      },
      "source": [
        "## Resultado: ¿Cuánto tiempo antes al día del evento reserva la gente?​"
      ]
    },
    {
      "cell_type": "code",
      "execution_count": null,
      "metadata": {
        "id": "AXPw6FIzY13L",
        "outputId": "994cacf7-0445-4f1c-d84f-52e348e5d3ec"
      },
      "outputs": [
        {
          "data": {
            "text/plain": [
              "66.9890977443609"
            ]
          },
          "execution_count": 395,
          "metadata": {},
          "output_type": "execute_result"
        }
      ],
      "source": [
        "df_pedidos_wc_sh['anticipacion_reserva_dias'].mean()"
      ]
    },
    {
      "cell_type": "markdown",
      "metadata": {
        "id": "lvTNzePZY13L"
      },
      "source": [
        "Ahora podemos graficar con un histograma la distribución de días de anticipación de reserva de un evento"
      ]
    },
    {
      "cell_type": "code",
      "execution_count": null,
      "metadata": {
        "id": "mbiAptJlY13L",
        "outputId": "176ff185-159e-43da-ec33-77767d7603c1"
      },
      "outputs": [
        {
          "data": {
            "text/plain": [
              "Text(0, 0.5, 'Frecuencia')"
            ]
          },
          "execution_count": 390,
          "metadata": {},
          "output_type": "execute_result"
        },
        {
          "data": {
            "image/png": "[encoded data removed]",
            "text/plain": [
              "<Figure size 640x480 with 1 Axes>"
            ]
          },
          "metadata": {},
          "output_type": "display_data"
        }
      ],
      "source": [
        "sns.histplot(df_pedidos_wc_sh['anticipacion_reserva_dias'], kde=True, color='blue', bins=20)\n",
        "\n",
        "plt.title('Anticipación de reserva de pedidos')\n",
        "plt.xlabel('Días de anticipación')\n",
        "plt.ylabel('Frecuencia')"
      ]
    },
    {
      "cell_type": "code",
      "execution_count": null,
      "metadata": {
        "id": "BB69DVG2Y13L"
      },
      "outputs": [],
      "source": []
    }
  ],
  "metadata": {
    "kernelspec": {
      "display_name": "mlenv",
      "language": "python",
      "name": "python3"
    },
    "language_info": {
      "codemirror_mode": {
        "name": "ipython",
        "version": 3
      },
      "file_extension": ".py",
      "mimetype": "text/x-python",
      "name": "python",
      "nbconvert_exporter": "python",
      "pygments_lexer": "ipython3",
      "version": "3.10.12"
    },
    "colab": {
      "provenance": []
    }
  },
  "nbformat": 4,
  "nbformat_minor": 0
}